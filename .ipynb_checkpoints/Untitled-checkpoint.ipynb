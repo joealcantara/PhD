{
 "cells": [
  {
   "cell_type": "code",
   "execution_count": null,
   "metadata": {},
   "outputs": [],
   "source": [
    "def add(x, y):\n",
    "    return x + y"
   ]
  },
  {
   "cell_type": "code",
   "execution_count": null,
   "metadata": {},
   "outputs": [],
   "source": [
    "def subtract(x, y):\n",
    "    return x - y"
   ]
  },
  {
   "cell_type": "code",
   "execution_count": null,
   "metadata": {},
   "outputs": [],
   "source": [
    "def multiply(x, y):\n",
    "    return x * y"
   ]
  },
  {
   "cell_type": "code",
   "execution_count": null,
   "metadata": {},
   "outputs": [],
   "source": [
    "def divide(x, y):\n",
    "    return x / y"
   ]
  },
  {
   "cell_type": "code",
   "execution_count": 13,
   "metadata": {},
   "outputs": [],
   "source": [
    "def modulus(x, y):\n",
    "    return x % y"
   ]
  },
  {
   "cell_type": "code",
   "execution_count": null,
   "metadata": {},
   "outputs": [],
   "source": [
    "def getNumbers():\n",
    "    num1 = input('Enter the first number : ')\n",
    "    num2 = input('Enter the second number : ')\n",
    "    return(num1, num2)"
   ]
  },
  {
   "cell_type": "code",
   "execution_count": null,
   "metadata": {},
   "outputs": [],
   "source": [
    "def Menu(choice):\n",
    "    if choice == 1:\n",
    "        num1, num2 = getNumbers()\n",
    "        num1 = int(num1)\n",
    "        num2 = int(num2)\n",
    "        print(num1, \"+\", num2, add(num1, num2))\n",
    "    elif choice == 2:\n",
    "        num1, num2 = getNumbers()\n",
    "        num1 = int(num1)\n",
    "        num2 = int(num2)\n",
    "        print(num1, \"-\", num2, subtract(num1, num2))\n",
    "    elif choice == 3:\n",
    "        num1, num2 = getNumbers()\n",
    "        num1 = int(num1)\n",
    "        num2 = int(num2)\n",
    "        print(num1, \"*\", num2, multiply(num1, num2))\n",
    "    elif choice == 4:\n",
    "        num1, num2 = getNumbers()\n",
    "        num1 = int(num1)\n",
    "        num2 = int(num2)\n",
    "        print(num1, \"/\", num2, divide(num1, num2))\n",
    "    elif choice == 5:\n",
    "        num1, num2 = getNumbers()\n",
    "        num1 = int(num1)\n",
    "        num2 = int(num2)\n",
    "        print(num1, \"%\", num2, modulus(num1, num2))\n",
    "        \n",
    "        \n",
    "    \n",
    "    else:\n",
    "        print('Not a legal operation')\n",
    "    \n"
   ]
  },
  {
   "cell_type": "code",
   "execution_count": 8,
   "metadata": {},
   "outputs": [
    {
     "name": "stdin",
     "output_type": "stream",
     "text": [
      "Enter the first number :  4\n",
      "Enter the second number :  2\n"
     ]
    },
    {
     "name": "stdout",
     "output_type": "stream",
     "text": [
      "4 + 2 6\n"
     ]
    }
   ],
   "source": [
    "Menu(1)"
   ]
  },
  {
   "cell_type": "code",
   "execution_count": 9,
   "metadata": {},
   "outputs": [
    {
     "name": "stdin",
     "output_type": "stream",
     "text": [
      "Enter the first number :  4\n",
      "Enter the second number :  3\n"
     ]
    },
    {
     "name": "stdout",
     "output_type": "stream",
     "text": [
      "4 - 3 1\n"
     ]
    }
   ],
   "source": [
    "Menu(2)"
   ]
  },
  {
   "cell_type": "code",
   "execution_count": 10,
   "metadata": {},
   "outputs": [
    {
     "name": "stdin",
     "output_type": "stream",
     "text": [
      "Enter the first number :  3\n",
      "Enter the second number :  4\n"
     ]
    },
    {
     "name": "stdout",
     "output_type": "stream",
     "text": [
      "3 * 4 12\n"
     ]
    }
   ],
   "source": [
    "Menu(3)"
   ]
  },
  {
   "cell_type": "code",
   "execution_count": 11,
   "metadata": {},
   "outputs": [
    {
     "name": "stdin",
     "output_type": "stream",
     "text": [
      "Enter the first number :  4\n",
      "Enter the second number :  2\n"
     ]
    },
    {
     "name": "stdout",
     "output_type": "stream",
     "text": [
      "4 / 2 2.0\n"
     ]
    }
   ],
   "source": [
    "Menu(4)"
   ]
  },
  {
   "cell_type": "code",
   "execution_count": 12,
   "metadata": {},
   "outputs": [
    {
     "name": "stdout",
     "output_type": "stream",
     "text": [
      "Not a legal operation\n"
     ]
    }
   ],
   "source": [
    "Menu(5)"
   ]
  },
  {
   "cell_type": "code",
   "execution_count": null,
   "metadata": {},
   "outputs": [],
   "source": [
    "def MenuChoice ():\n",
    "    print('Select Operation')\n",
    "    print('1: Add')\n",
    "    print('2: Subtract')\n",
    "    print('3: Multiply')\n",
    "    print('4: Divide')\n",
    "    choice = input('Please enter a selection: ')\n",
    "    int(choice)\n",
    "    return choice"
   ]
  },
  {
   "cell_type": "code",
   "execution_count": null,
   "metadata": {},
   "outputs": [],
   "source": []
  },
  {
   "cell_type": "code",
   "execution_count": null,
   "metadata": {},
   "outputs": [],
   "source": []
  }
 ],
 "metadata": {
  "kernelspec": {
   "display_name": "Python 3",
   "language": "python",
   "name": "python3"
  },
  "language_info": {
   "codemirror_mode": {
    "name": "ipython",
    "version": 3
   },
   "file_extension": ".py",
   "mimetype": "text/x-python",
   "name": "python",
   "nbconvert_exporter": "python",
   "pygments_lexer": "ipython3",
   "version": "3.6.6"
  }
 },
 "nbformat": 4,
 "nbformat_minor": 2
}
