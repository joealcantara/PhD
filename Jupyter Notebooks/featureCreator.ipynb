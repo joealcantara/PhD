{
 "cells": [
  {
   "cell_type": "markdown",
   "metadata": {},
   "source": [
    "To Do:\n",
    "\n",
    "SVR\n",
    "Gaussian Process\n",
    "Polynomial Regression\n",
    "NN\n",
    "Random Forest for Regression"
   ]
  },
  {
   "cell_type": "code",
   "execution_count": 1,
   "metadata": {},
   "outputs": [],
   "source": [
    "# Import Packages I will need\n",
    "from lex_processing import * \n",
    "import os\n",
    "import pandas as pd\n",
    "import numpy as np\n",
    "import matplotlib\n",
    "import matplotlib.pyplot as plt\n",
    "\n",
    "# To show plots in notebook\n",
    "%matplotlib inline  \n",
    "\n",
    "from sklearn import datasets, linear_model, preprocessing\n",
    "from sklearn.model_selection import train_test_split\n",
    "from matplotlib import pyplot as plt\n",
    "plt.style.use('classic')\n",
    "\n",
    "from scipy.stats import linregress\n",
    "from scipy.stats import pearsonr\n",
    "from scipy import stats\n",
    "\n",
    "from sklearn.gaussian_process import GaussianProcessRegressor\n",
    "from sklearn.gaussian_process.kernels import RBF, ConstantKernel as C\n",
    "\n",
    "from collections import Counter"
   ]
  },
  {
   "cell_type": "code",
   "execution_count": 10,
   "metadata": {},
   "outputs": [],
   "source": [
    "# Path is where the data I want to process is.\n",
    "# For Mac\n",
    "pathReagan = '/Users/Joe/dropbox/Data/Edited Data/Presidents Data/ReaganSpeeches/'\n",
    "pathBush = '/Users/Joe/dropbox/Data/Edited Data/Presidents Data/BushSpeeches/'\n",
    "pathTrump = '/Users/Joe/dropbox/Data/Edited Data/Presidents Data/TrumpSpeeches/'\n",
    "# For Linux\n",
    "#pathReagan = '/home/CAMPUS/alcantaj/Dropbox/Data/Edited Data/Presidents Data/ReaganSpeeches/'\n",
    "#pathBush = '/home/CAMPUS/alcantaj/Dropbox/Data/Edited Data/Presidents Data/BushSpeeches/'\n",
    "#pathTrump = '/home/CAMPUS/alcantaj/Dropbox/Data/Edited Data/Presidents Data/TrumpSpeeches/'"
   ]
  },
  {
   "cell_type": "code",
   "execution_count": 11,
   "metadata": {},
   "outputs": [],
   "source": [
    "dfReagan = pd.DataFrame()\n",
    "dfBush = pd.DataFrame()\n",
    "dfTrump = pd.DataFrame()"
   ]
  },
  {
   "cell_type": "code",
   "execution_count": 12,
   "metadata": {},
   "outputs": [],
   "source": [
    "for filename in os.listdir(pathReagan):\n",
    "    if filename.endswith('txt'):\n",
    "        f = open(pathReagan + filename)\n",
    "        raw = f.read()\n",
    "        # Clear raw of punctuation and tokenize for word counts.\n",
    "        wordsNoPunct = strip_punctuation(raw)\n",
    "        #hesitations = wordsNoPunct.count('—')\n",
    "        wordsNoPunct.replace(\"—\", ' ')\n",
    "        wordsNoPunct = word_tokenize(wordsNoPunct)\n",
    "        words = word_tokenize(raw)\n",
    "        # Word Counts for certain words\n",
    "        c = Counter(words)\n",
    "        Fillers = c['well'] + c['so'] + c['basically'] + c['actually'] + c['literally'] + c['um'] + c['ah']\n",
    "        NSNouns = c['something'] + c['anything'] + c['thing']\n",
    "        LIVerbs = c['be'] + c['come'] + c['do'] + c['get'] + c['give'] + c['go'] + c['have'] + c['know'] + c['look']\n",
    "        + c['make'] + c['see'] + c['tell'] + c['think'] + c['want']\n",
    "        \n",
    "        sents = sent_tokenize(raw)\n",
    "        processed = preprocess(raw)\n",
    "        lex = lexical_diversity(wordsNoPunct)\n",
    "        mls = meanLengthSentence(processed)\n",
    "        wordDict = wordCount(processed)\n",
    "        thetuple = {'Filename': filename, 'TTR': lex,\n",
    "                    'WordCount':len(wordsNoPunct), \n",
    "                    'UniqueWords':len(set(wordsNoPunct)), \n",
    "                    'MLU': mls, 'Fillers': Fillers,\n",
    "                   'NSNouns': NSNouns, 'LIVerbs': LIVerbs}\n",
    "        finalDict = {**thetuple, **wordDict}\n",
    "        dfReagan = dfReagan.append(finalDict, ignore_index = True)"
   ]
  },
  {
   "cell_type": "code",
   "execution_count": 13,
   "metadata": {},
   "outputs": [],
   "source": [
    "for filename in os.listdir(pathBush):\n",
    "    if filename.endswith('txt'):\n",
    "        f = open(pathBush + filename)\n",
    "        raw = f.read()\n",
    "        # Clear raw of punctuation and tokenize for word counts.\n",
    "        wordsNoPunct = strip_punctuation(raw)\n",
    "        #hesitations = wordsNoPunct.count('-')\n",
    "        wordsNoPunct.replace(\"-\", ' ')\n",
    "        wordsNoPunct = word_tokenize(wordsNoPunct)\n",
    "        \n",
    "        words = word_tokenize(raw)\n",
    "        # Word Counts for certain words\n",
    "        c = Counter(words)\n",
    "        Fillers = c['well'] + c['so'] + c['basically'] + c['actually'] + c['literally'] + c['um'] + c['ah']\n",
    "        NSNouns = c['something'] + c['anything'] + c['thing']\n",
    "        LIVerbs = c['be'] + c['come'] + c['do'] + c['get'] + c['give'] + c['go'] + c['have'] + c['know'] + c['look']\n",
    "        + c['make'] + c['see'] + c['tell'] + c['think'] + c['want']\n",
    "        \n",
    "        sents = sent_tokenize(raw)\n",
    "        processed = preprocess(raw)\n",
    "        lex = lexical_diversity(wordsNoPunct)\n",
    "        mls = meanLengthSentence(processed)\n",
    "        wordDict = wordCount(processed)\n",
    "        thetuple = {'Filename': filename, 'TTR': lex,\n",
    "                    'WordCount':len(wordsNoPunct), \n",
    "                    'UniqueWords':len(set(wordsNoPunct)), \n",
    "                    'MLU': mls, 'Fillers': Fillers,\n",
    "                   'NSNouns': NSNouns, 'LIVerbs': LIVerbs}\n",
    "        finalDict = {**thetuple, **wordDict}\n",
    "        dfBush = dfBush.append(finalDict, ignore_index = True)"
   ]
  },
  {
   "cell_type": "code",
   "execution_count": 14,
   "metadata": {},
   "outputs": [],
   "source": [
    "for filename in os.listdir(pathTrump):\n",
    "    if filename.endswith('txt'):\n",
    "        f = open(pathTrump + filename)\n",
    "        raw = f.read()\n",
    "        # Clear raw of punctuation and tokenize for word counts.\n",
    "        wordsNoPunct = strip_punctuation(raw)\n",
    "        #hesitations = wordsNoPunct.count('-')\n",
    "        wordsNoPunct.replace(\"-\", ' ')\n",
    "        wordsNoPunct = word_tokenize(wordsNoPunct)\n",
    "        \n",
    "        words = word_tokenize(raw)\n",
    "        # Word Counts for certain words\n",
    "        c = Counter(words)\n",
    "        Fillers = c['well'] + c['so'] + c['basically'] + c['actually'] + c['literally'] + c['um'] + c['ah']\n",
    "        NSNouns = c['something'] + c['anything'] + c['thing']\n",
    "        LIVerbs = c['be'] + c['come'] + c['do'] + c['get'] + c['give'] + c['go'] + c['have'] + c['know'] + c['look']\n",
    "        + c['make'] + c['see'] + c['tell'] + c['think'] + c['want']\n",
    "        \n",
    "        sents = sent_tokenize(raw)\n",
    "        processed = preprocess(raw)\n",
    "        lex = lexical_diversity(wordsNoPunct)\n",
    "        mls = meanLengthSentence(processed)\n",
    "        wordDict = wordCount(processed)\n",
    "        thetuple = {'Filename': filename, 'TTR': lex,\n",
    "                    'WordCount':len(wordsNoPunct), \n",
    "                    'UniqueWords':len(set(wordsNoPunct)), \n",
    "                    'MLU': mls, 'Fillers': Fillers,\n",
    "                   'NSNouns': NSNouns, 'LIVerbs': LIVerbs}\n",
    "        finalDict = {**thetuple, **wordDict}\n",
    "        dfTrump = dfTrump.append(finalDict, ignore_index = True)"
   ]
  },
  {
   "cell_type": "code",
   "execution_count": 15,
   "metadata": {},
   "outputs": [],
   "source": [
    "# Rearranging Columns\n",
    "inserted_cols = ['Filename', 'TTR','WordCount', 'UniqueWords', 'MLU', 'Fillers', 'NSNouns', 'LIVerbs']\n",
    "cols = ([col for col in inserted_cols if col in dfReagan] \n",
    "        + [col for col in dfReagan if col not in inserted_cols])\n",
    "dfReagan = dfReagan[cols]"
   ]
  },
  {
   "cell_type": "code",
   "execution_count": 16,
   "metadata": {},
   "outputs": [],
   "source": [
    "# Rearranging Columns\n",
    "inserted_cols = ['Filename', 'TTR','WordCount', 'UniqueWords', 'MLU', 'Fillers', 'NSNouns', 'LIVerbs']\n",
    "cols = ([col for col in inserted_cols if col in dfBush] \n",
    "        + [col for col in dfBush if col not in inserted_cols])\n",
    "dfBush = dfBush[cols]"
   ]
  },
  {
   "cell_type": "code",
   "execution_count": 17,
   "metadata": {},
   "outputs": [],
   "source": [
    "# Rearranging Columns\n",
    "inserted_cols = ['Filename', 'TTR','WordCount', 'UniqueWords', 'MLU', 'Fillers', 'NSNouns', 'LIVerbs']\n",
    "cols = ([col for col in inserted_cols if col in dfTrump] \n",
    "        + [col for col in dfTrump if col not in inserted_cols])\n",
    "dfTrump = dfTrump[cols]"
   ]
  },
  {
   "cell_type": "code",
   "execution_count": 18,
   "metadata": {},
   "outputs": [],
   "source": [
    "# Fill NA's with 0s as in this dataset, NAN represent the feature NOT occuring in a particular document.\n",
    "dfReagan = dfReagan.fillna(0)\n",
    "dfBush = dfBush.fillna(0)\n",
    "dfTrump = dfTrump.fillna(0)"
   ]
  },
  {
   "cell_type": "code",
   "execution_count": 19,
   "metadata": {},
   "outputs": [],
   "source": [
    "dfReagan.to_csv('testReagan.csv')\n",
    "dfBush.to_csv('testBush.csv')\n",
    "dfTrump.to_csv('testTrump.csv')"
   ]
  },
  {
   "cell_type": "code",
   "execution_count": 22,
   "metadata": {},
   "outputs": [],
   "source": [
    "# For Mac\n",
    "testpath = '/Users/Joe/Documents/PhD/Jupyter Notebooks/'\n",
    "# For Linux\n",
    "#testpath = '/home/CAMPUS/alcantaj/Documents/PhD/Jupyter Notebooks/'"
   ]
  },
  {
   "cell_type": "code",
   "execution_count": 23,
   "metadata": {},
   "outputs": [],
   "source": [
    "a = pd.read_csv(testpath + \"dates.csv\")\n",
    "b = pd.read_csv(testpath + \"testReagan.csv\")\n",
    "\n",
    "c = pd.read_csv(testpath + \"dates2.csv\")\n",
    "d = pd.read_csv(testpath + \"testBush.csv\")\n",
    "\n",
    "e = pd.read_csv(testpath + \"dates3.csv\")\n",
    "f = pd.read_csv(testpath + \"testTrump.csv\")"
   ]
  },
  {
   "cell_type": "code",
   "execution_count": 24,
   "metadata": {},
   "outputs": [],
   "source": [
    "a['JDate'] = [datetime.datetime.strptime(x, '%d/%m/%Y') for x in a['Date']]\n",
    "c['JDate'] = [datetime.datetime.strptime(x, '%d/%m/%Y') for x in c['Date']]\n",
    "e['JDate'] = [datetime.datetime.strptime(x, '%d/%m/%Y') for x in e['Date']]"
   ]
  },
  {
   "cell_type": "code",
   "execution_count": 25,
   "metadata": {},
   "outputs": [],
   "source": [
    "a['Julian'] = [get_julian_datetime(x) for x in a['JDate']]\n",
    "c['Julian'] = [get_julian_datetime(x) for x in c['JDate']]\n",
    "e['Julian'] = [get_julian_datetime(x) for x in e['JDate']]"
   ]
  },
  {
   "cell_type": "code",
   "execution_count": 26,
   "metadata": {},
   "outputs": [],
   "source": [
    "mergedRR = a.merge(b, on='Filename')\n",
    "mergedGWHB = c.merge(d, on='Filename')\n",
    "mergedDJT = e.merge(f, on='Filename')"
   ]
  },
  {
   "cell_type": "code",
   "execution_count": 27,
   "metadata": {},
   "outputs": [],
   "source": [
    "mergedRR = mergedRR.sort_values(by=['JDate'])\n",
    "mergedGWHB = mergedGWHB.sort_values(by=['JDate'])\n",
    "mergedDJT = mergedDJT.sort_values(by=['JDate'])"
   ]
  },
  {
   "cell_type": "code",
   "execution_count": 28,
   "metadata": {},
   "outputs": [],
   "source": [
    "# Create new labels (Index is in order of article date)\n",
    "mergedRR = mergedRR.reset_index()\n",
    "mergedRR['index'] = mergedRR.index\n",
    "mergedGWHB = mergedGWHB.reset_index()\n",
    "mergedGWHB['index'] = mergedGWHB.index\n",
    "mergedDJT = mergedDJT.reset_index()\n",
    "mergedDJT['index'] = mergedDJT.index"
   ]
  },
  {
   "cell_type": "code",
   "execution_count": 29,
   "metadata": {},
   "outputs": [],
   "source": [
    "# Dropping Redundant Columns\n",
    "mergedRR = mergedRR.drop(['Unnamed: 0'], axis=1)\n",
    "mergedGWHB = mergedGWHB.drop(['Unnamed: 0'], axis=1)\n",
    "mergedDJT = mergedDJT.drop(['Unnamed: 0'], axis=1)"
   ]
  },
  {
   "cell_type": "code",
   "execution_count": 30,
   "metadata": {},
   "outputs": [],
   "source": [
    "# To avoid confusion, rename merged to df\n",
    "dfRR = mergedRR\n",
    "dfGWHB = mergedGWHB\n",
    "dfDJT = mergedDJT"
   ]
  },
  {
   "cell_type": "code",
   "execution_count": 31,
   "metadata": {},
   "outputs": [],
   "source": [
    "# Add Target Variable\n",
    "yRR = dfRR['index']\n",
    "yGWHB = dfGWHB['index']\n",
    "yDJT = dfDJT['index']\n",
    "\n",
    "#yRR = dfRR['Julian']\n",
    "#yGWHB = dfGWHB['Julian']"
   ]
  },
  {
   "cell_type": "code",
   "execution_count": 32,
   "metadata": {},
   "outputs": [],
   "source": [
    "# Calculate some new aggregate columns\n",
    "dfRR['Nouns'] = dfRR['NN'] + dfRR['NNS']+ dfRR['NNP'] + dfRR['NNPS']\n",
    "dfRR['Nouns/100'] = dfRR['Nouns'] / 100\n",
    "dfRR['NounsNormalised'] = dfRR['Nouns'] / dfRR['WordCount']\n",
    "dfRR['Adjectives'] = dfRR['JJ'] + dfRR['JJR'] + dfRR['JJS']\n",
    "dfRR['Adjectives/100'] = dfRR['Adjectives'] / 100\n",
    "dfRR['AdjectivesNormalised'] = dfRR['Adjectives'] / dfRR['WordCount']\n",
    "dfRR['Adverbs'] = dfRR['RB'] + dfRR['RBR'] + dfRR['RBS']\n",
    "dfRR['Adverbs/100'] = dfRR['Adverbs'] / 100\n",
    "dfRR['AdverbsNormalised'] = dfRR['Adverbs'] / dfRR['WordCount']\n",
    "dfRR['Verbs'] = dfRR['VB'] + dfRR['VBD'] + dfRR['VBG'] + dfRR['VBN'] + dfRR['VBP'] + dfRR['VBZ']\n",
    "dfRR['Verbs/100'] = dfRR['Verbs'] / 100\n",
    "dfRR['VerbsNormalised'] = dfRR['Verbs'] / dfRR['WordCount']\n",
    "dfRR['Pronouns'] = dfRR['PRP'] + dfRR['PRP$']\n",
    "dfRR['PronounsNormalised'] = dfRR['Pronouns'] / dfRR['WordCount']"
   ]
  },
  {
   "cell_type": "code",
   "execution_count": 33,
   "metadata": {},
   "outputs": [],
   "source": [
    "# Calculate some new aggregate columns\n",
    "dfGWHB['Nouns'] = dfGWHB['NN'] + dfGWHB['NNS']+ dfGWHB['NNP'] + dfGWHB['NNPS']\n",
    "dfGWHB['Nouns/100'] = dfGWHB['Nouns'] / 100\n",
    "dfGWHB['NounsNormalised'] = dfGWHB['Nouns'] / dfGWHB['WordCount']\n",
    "dfGWHB['Adjectives'] = dfGWHB['JJ'] + dfGWHB['JJR'] + dfGWHB['JJS']\n",
    "dfGWHB['Adjectives/100'] = dfGWHB['Adjectives'] / 100\n",
    "dfGWHB['AdjectivesNormalised'] = dfGWHB['Adjectives'] / dfGWHB['WordCount']\n",
    "dfGWHB['Adverbs'] = dfGWHB['RB'] + dfGWHB['RBR'] + dfGWHB['RBS']\n",
    "dfGWHB['Adverbs/100'] = dfGWHB['Adverbs'] / 100\n",
    "dfGWHB['AdverbsNormalised'] = dfGWHB['Adverbs'] / dfGWHB['WordCount']\n",
    "dfGWHB['Verbs'] = dfGWHB['VB'] + dfGWHB['VBD'] + dfGWHB['VBG'] + dfGWHB['VBN'] + dfGWHB['VBP'] + dfGWHB['VBZ']\n",
    "dfGWHB['Verbs/100'] = dfGWHB['Verbs'] / 100\n",
    "dfGWHB['VerbsNormalised'] = dfGWHB['Verbs'] / dfGWHB['WordCount']\n",
    "dfGWHB['Pronouns'] = dfGWHB['PRP'] + dfGWHB['PRP$']\n",
    "dfGWHB['PronounsNormalised'] = dfGWHB['Pronouns'] / dfGWHB['WordCount']"
   ]
  },
  {
   "cell_type": "code",
   "execution_count": 34,
   "metadata": {},
   "outputs": [],
   "source": [
    "# Calculate some new aggregate columns\n",
    "dfDJT['Nouns'] = dfDJT['NN'] + dfDJT['NNS']+ dfDJT['NNP'] + dfDJT['NNPS']\n",
    "dfDJT['Nouns/100'] = dfDJT['Nouns'] / 100\n",
    "dfDJT['NounsNormalised'] = dfDJT['Nouns'] / dfDJT['WordCount']\n",
    "dfDJT['Adjectives'] = dfDJT['JJ'] + dfDJT['JJR'] + dfDJT['JJS']\n",
    "dfDJT['Adjectives/100'] = dfDJT['Adjectives'] / 100\n",
    "dfDJT['AdjectivesNormalised'] = dfDJT['Adjectives'] / dfDJT['WordCount']\n",
    "dfDJT['Adverbs'] = dfDJT['RB'] + dfDJT['RBR'] + dfDJT['RBS']\n",
    "dfDJT['Adverbs/100'] = dfDJT['Adverbs'] / 100\n",
    "dfDJT['AdverbsNormalised'] = dfDJT['Adverbs'] / dfDJT['WordCount']\n",
    "dfDJT['Verbs'] = dfDJT['VB'] + dfDJT['VBD'] + dfDJT['VBG'] + dfDJT['VBN'] + dfDJT['VBP'] + dfDJT['VBZ']\n",
    "dfDJT['Verbs/100'] = dfDJT['Verbs'] / 100\n",
    "dfDJT['VerbsNormalised'] = dfDJT['Verbs'] / dfDJT['WordCount']\n",
    "dfDJT['Pronouns'] = dfDJT['PRP'] + dfDJT['PRP$']\n",
    "dfDJT['PronounsNormalised'] = dfDJT['Pronouns'] / dfRR['WordCount']"
   ]
  },
  {
   "cell_type": "code",
   "execution_count": 35,
   "metadata": {},
   "outputs": [],
   "source": [
    "# Export dataset to csv files\n",
    "dfRR.to_csv('Reagan.csv')\n",
    "dfGWHB.to_csv('Bush.csv')\n",
    "dfDJT.to_csv('Trump.csv')"
   ]
  },
  {
   "cell_type": "markdown",
   "metadata": {},
   "source": [
    "T-Tests"
   ]
  },
  {
   "cell_type": "code",
   "execution_count": 36,
   "metadata": {},
   "outputs": [
    {
     "name": "stdout",
     "output_type": "stream",
     "text": [
      "RR Unique Words Mean 894.1304347826087\n",
      "RR Unique Words SD 85.15178831439829\n",
      "GHWB Unique Words Mean 667.7651515151515\n",
      "GWHB Unique Words SD 218.66893865044307\n",
      "DJT Unique Words Mean 481.82758620689657\n",
      "DJT Unique Words SD 221.2892530095778\n"
     ]
    }
   ],
   "source": [
    "print('RR Unique Words Mean', dfRR['UniqueWords'].mean())\n",
    "print('RR Unique Words SD', dfRR['UniqueWords'].std())\n",
    "print('GHWB Unique Words Mean', dfGWHB['UniqueWords'].mean())\n",
    "print('GWHB Unique Words SD', dfGWHB['UniqueWords'].std())\n",
    "print('DJT Unique Words Mean', dfDJT['UniqueWords'].mean())\n",
    "print('DJT Unique Words SD', dfDJT['UniqueWords'].std())"
   ]
  },
  {
   "cell_type": "code",
   "execution_count": 37,
   "metadata": {},
   "outputs": [
    {
     "name": "stdout",
     "output_type": "stream",
     "text": [
      "T Value 6.8323930043748415\n",
      "P Value 0.0000000001\n"
     ]
    }
   ],
   "source": [
    "# T-Test comparing RR Unique Words to GWHB Unique Words\n",
    "t2, p2 = stats.ttest_ind(dfRR['UniqueWords'], dfGWHB['UniqueWords'])\n",
    "print('T Value', t2)\n",
    "print('P Value', '{0:.10f}'.format(p2))"
   ]
  },
  {
   "cell_type": "code",
   "execution_count": 38,
   "metadata": {},
   "outputs": [
    {
     "name": "stdout",
     "output_type": "stream",
     "text": [
      "T Value 11.40330470919139\n",
      "P Value 0.0000000000\n"
     ]
    }
   ],
   "source": [
    "# T-Test comparing RR Unique Words to DJT Unique Words\n",
    "t2, p2 = stats.ttest_ind(dfRR['UniqueWords'], dfDJT['UniqueWords'])\n",
    "print('T Value', t2)\n",
    "print('P Value', '{0:.10f}'.format(p2))"
   ]
  },
  {
   "cell_type": "code",
   "execution_count": 39,
   "metadata": {},
   "outputs": [
    {
     "name": "stdout",
     "output_type": "stream",
     "text": [
      "T Value 4.1374530093401\n",
      "P Value 0.0000567656\n"
     ]
    }
   ],
   "source": [
    "# T-Test comparing GWHB Unique Words to DJT Unique Words\n",
    "t2, p2 = stats.ttest_ind(dfGWHB['UniqueWords'], dfDJT['UniqueWords'])\n",
    "print('T Value', t2)\n",
    "print('P Value', '{0:.10f}'.format(p2))"
   ]
  },
  {
   "cell_type": "code",
   "execution_count": 40,
   "metadata": {},
   "outputs": [
    {
     "name": "stdout",
     "output_type": "stream",
     "text": [
      "RR Non Specific Nouns Mean 12.717391304347826\n",
      "RR Non Specific Nouns SD 4.626796556669809\n",
      "GHWB Non Specific Nouns Mean 6.78030303030303\n",
      "GWHB Non Specific Nouns SD 4.32163807284489\n",
      "DJT Non Specific Nouns Mean 7.413793103448276\n",
      "DJT Non Specific Nouns SD 8.75670046054249\n"
     ]
    }
   ],
   "source": [
    "print('RR Non Specific Nouns Mean', dfRR['NSNouns'].mean())\n",
    "print('RR Non Specific Nouns SD', dfRR['NSNouns'].std())\n",
    "print('GHWB Non Specific Nouns Mean', dfGWHB['NSNouns'].mean())\n",
    "print('GWHB Non Specific Nouns SD', dfGWHB['NSNouns'].std())\n",
    "print('DJT Non Specific Nouns Mean', dfDJT['NSNouns'].mean())\n",
    "print('DJT Non Specific Nouns SD', dfDJT['NSNouns'].std())"
   ]
  },
  {
   "cell_type": "code",
   "execution_count": 41,
   "metadata": {},
   "outputs": [
    {
     "name": "stdout",
     "output_type": "stream",
     "text": [
      "T Value 7.87791706477377\n",
      "P Value 0.0000000000\n"
     ]
    }
   ],
   "source": [
    "t2, p2 = stats.ttest_ind(dfRR['NSNouns'], dfGWHB['NSNouns'])\n",
    "print('T Value', t2)\n",
    "print('P Value', '{0:.10f}'.format(p2))"
   ]
  },
  {
   "cell_type": "code",
   "execution_count": 42,
   "metadata": {},
   "outputs": [
    {
     "name": "stdout",
     "output_type": "stream",
     "text": [
      "T Value -0.5746875967921552\n",
      "P Value 0.5663148304\n"
     ]
    }
   ],
   "source": [
    "t2, p2 = stats.ttest_ind(dfGWHB['NSNouns'], dfDJT['NSNouns'])\n",
    "print('T Value', t2)\n",
    "print('P Value', '{0:.10f}'.format(p2))"
   ]
  },
  {
   "cell_type": "code",
   "execution_count": 43,
   "metadata": {},
   "outputs": [
    {
     "name": "stdout",
     "output_type": "stream",
     "text": [
      "T Value 3.4266832280839803\n",
      "P Value 0.0010069016\n"
     ]
    }
   ],
   "source": [
    "t2, p2 = stats.ttest_ind(dfRR['NSNouns'], dfDJT['NSNouns'])\n",
    "print('T Value', t2)\n",
    "print('P Value', '{0:.10f}'.format(p2))"
   ]
  },
  {
   "cell_type": "code",
   "execution_count": 44,
   "metadata": {},
   "outputs": [
    {
     "name": "stdout",
     "output_type": "stream",
     "text": [
      "RR Low Imageability Verbs Mean 124.21739130434783\n",
      "RR Low Imageability Verbs SD 17.89092015952755\n",
      "GHWB Low Imageability Verbs Mean 103.45454545454545\n",
      "GWHB Low Imageability Verbs SD 51.867176759321026\n",
      "DJT Low Imageability Verbs Mean 84.48275862068965\n",
      "DJT Low Imageability Verbs SD 75.78758883016172\n"
     ]
    }
   ],
   "source": [
    "print('RR Low Imageability Verbs Mean', dfRR['LIVerbs'].mean())\n",
    "print('RR Low Imageability Verbs SD', dfRR['LIVerbs'].std())\n",
    "print('GHWB Low Imageability Verbs Mean', dfGWHB['LIVerbs'].mean())\n",
    "print('GWHB Low Imageability Verbs SD', dfGWHB['LIVerbs'].std())\n",
    "print('DJT Low Imageability Verbs Mean', dfDJT['LIVerbs'].mean())\n",
    "print('DJT Low Imageability Verbs SD', dfDJT['LIVerbs'].std())"
   ]
  },
  {
   "cell_type": "code",
   "execution_count": 45,
   "metadata": {},
   "outputs": [
    {
     "name": "stdout",
     "output_type": "stream",
     "text": [
      "T Value 2.656270279028665\n",
      "P Value 0.0086270563\n"
     ]
    }
   ],
   "source": [
    "t2, p2 = stats.ttest_ind(dfRR['LIVerbs'], dfGWHB['LIVerbs'])\n",
    "print('T Value', t2)\n",
    "print('P Value', '{0:.10f}'.format(p2))"
   ]
  },
  {
   "cell_type": "code",
   "execution_count": 46,
   "metadata": {},
   "outputs": [
    {
     "name": "stdout",
     "output_type": "stream",
     "text": [
      "T Value 1.628241215966018\n",
      "P Value 0.1054536119\n"
     ]
    }
   ],
   "source": [
    "t2, p2 = stats.ttest_ind(dfGWHB['LIVerbs'], dfDJT['LIVerbs'])\n",
    "print('T Value', t2)\n",
    "print('P Value', '{0:.10f}'.format(p2))"
   ]
  },
  {
   "cell_type": "code",
   "execution_count": 115,
   "metadata": {},
   "outputs": [
    {
     "name": "stdout",
     "output_type": "stream",
     "text": [
      "T Value 3.4203838009668743\n",
      "P Value 0.0010271838\n"
     ]
    }
   ],
   "source": [
    "t2, p2 = stats.ttest_ind(dfRR['LIVerbs'], dfDJT['LIVerbs'])\n",
    "print('T Value', t2)\n",
    "print('P Value', '{0:.10f}'.format(p2))"
   ]
  },
  {
   "cell_type": "code",
   "execution_count": 48,
   "metadata": {},
   "outputs": [
    {
     "name": "stdout",
     "output_type": "stream",
     "text": [
      "RR Total Word Count Mean 3416.3478260869565\n",
      "RR Total Word Count  SD 414.95045044981265\n",
      "GHWB Total Word Count Mean 2607.7045454545455\n",
      "GWHB Total Word Count SD 1210.3429943403016\n",
      "DJT Total Word Count Mean 1848.655172413793\n",
      "DJT Total Word Count SD 1549.3764708023234\n"
     ]
    }
   ],
   "source": [
    "print('RR Total Word Count Mean', dfRR['WordCount'].mean())\n",
    "print('RR Total Word Count  SD', dfRR['WordCount'].std())\n",
    "print('GHWB Total Word Count Mean', dfGWHB['WordCount'].mean())\n",
    "print('GWHB Total Word Count SD', dfGWHB['WordCount'].std())\n",
    "print('DJT Total Word Count Mean', dfDJT['WordCount'].mean())\n",
    "print('DJT Total Word Count SD', dfDJT['WordCount'].std())"
   ]
  },
  {
   "cell_type": "code",
   "execution_count": 49,
   "metadata": {},
   "outputs": [
    {
     "name": "stdout",
     "output_type": "stream",
     "text": [
      "T Value 4.434350846994703\n",
      "P Value 0.0000162227\n"
     ]
    }
   ],
   "source": [
    "t2, p2 = stats.ttest_ind(dfRR['WordCount'], dfGWHB['WordCount'])\n",
    "print('T Value', t2)\n",
    "print('P Value', '{0:.10f}'.format(p2))"
   ]
  },
  {
   "cell_type": "code",
   "execution_count": 50,
   "metadata": {},
   "outputs": [
    {
     "name": "stdout",
     "output_type": "stream",
     "text": [
      "T Value 2.8992768572486547\n",
      "P Value 0.0042693791\n"
     ]
    }
   ],
   "source": [
    "t2, p2 = stats.ttest_ind(dfGWHB['WordCount'], dfDJT['WordCount'])\n",
    "print('T Value', t2)\n",
    "print('P Value', '{0:.10f}'.format(p2))"
   ]
  },
  {
   "cell_type": "code",
   "execution_count": 51,
   "metadata": {},
   "outputs": [
    {
     "name": "stdout",
     "output_type": "stream",
     "text": [
      "T Value 6.524433188835643\n",
      "P Value 0.0000000078\n"
     ]
    }
   ],
   "source": [
    "t2, p2 = stats.ttest_ind(dfRR['WordCount'], dfDJT['WordCount'])\n",
    "print('T Value', t2)\n",
    "print('P Value', '{0:.10f}'.format(p2))"
   ]
  },
  {
   "cell_type": "markdown",
   "metadata": {},
   "source": [
    "Pearson's Correlations"
   ]
  },
  {
   "cell_type": "code",
   "execution_count": 117,
   "metadata": {},
   "outputs": [
    {
     "name": "stdout",
     "output_type": "stream",
     "text": [
      "R Squared -0.5643631439172417\n",
      "P Value 0.0000440576\n"
     ]
    }
   ],
   "source": [
    "r,p = pearsonr(dfRR['index'], dfRR['UniqueWords'])\n",
    "print('R Squared', r)\n",
    "print('P Value', '{0:.10f}'.format(p))"
   ]
  },
  {
   "cell_type": "code",
   "execution_count": 53,
   "metadata": {},
   "outputs": [
    {
     "name": "stdout",
     "output_type": "stream",
     "text": [
      "R Squared -0.253112706046967\n",
      "P Value 0.0034090571\n"
     ]
    }
   ],
   "source": [
    "r,p = pearsonr(dfGWHB['UniqueWords'], dfGWHB['index'])\n",
    "print('R Squared', r)\n",
    "print('P Value', '{0:.10f}'.format(p))"
   ]
  },
  {
   "cell_type": "code",
   "execution_count": 54,
   "metadata": {},
   "outputs": [
    {
     "name": "stdout",
     "output_type": "stream",
     "text": [
      "R Squared 0.16683762805832847\n",
      "P Value 0.3870312947\n"
     ]
    }
   ],
   "source": [
    "r,p = pearsonr(dfDJT['UniqueWords'], dfDJT['index'])\n",
    "print('R Squared', r)\n",
    "print('P Value', '{0:.10f}'.format(p))"
   ]
  },
  {
   "cell_type": "code",
   "execution_count": 55,
   "metadata": {},
   "outputs": [
    {
     "name": "stdout",
     "output_type": "stream",
     "text": [
      "R Squared 0.30683435871579345\n",
      "P Value 0.0380695922\n"
     ]
    }
   ],
   "source": [
    "r,p = pearsonr(dfRR['NSNouns'], dfRR['index'])\n",
    "print('R Squared', r)\n",
    "print('P Value', '{0:.10f}'.format(p))"
   ]
  },
  {
   "cell_type": "code",
   "execution_count": 56,
   "metadata": {},
   "outputs": [
    {
     "name": "stdout",
     "output_type": "stream",
     "text": [
      "R Squared -0.08171630398555728\n",
      "P Value 0.3516062313\n"
     ]
    }
   ],
   "source": [
    "r,p = pearsonr(dfGWHB['NSNouns'], dfGWHB['index'])\n",
    "print('R Squared', r)\n",
    "print('P Value', '{0:.10f}'.format(p))"
   ]
  },
  {
   "cell_type": "code",
   "execution_count": 57,
   "metadata": {},
   "outputs": [
    {
     "name": "stdout",
     "output_type": "stream",
     "text": [
      "R Squared -0.03400876177489952\n",
      "P Value 0.8609718274\n"
     ]
    }
   ],
   "source": [
    "r,p = pearsonr(dfDJT['NSNouns'], dfDJT['index'])\n",
    "print('R Squared', r)\n",
    "print('P Value', '{0:.10f}'.format(p))"
   ]
  },
  {
   "cell_type": "code",
   "execution_count": 58,
   "metadata": {},
   "outputs": [
    {
     "name": "stdout",
     "output_type": "stream",
     "text": [
      "R Squared -0.19266299711149595\n",
      "P Value 0.1995620531\n"
     ]
    }
   ],
   "source": [
    "r,p = pearsonr(dfRR['LIVerbs'], dfRR['index'])\n",
    "print('R Squared', r)\n",
    "print('P Value', '{0:.10f}'.format(p))"
   ]
  },
  {
   "cell_type": "code",
   "execution_count": 59,
   "metadata": {},
   "outputs": [
    {
     "name": "stdout",
     "output_type": "stream",
     "text": [
      "R Squared -0.20483831308935999\n",
      "P Value 0.0184694853\n"
     ]
    }
   ],
   "source": [
    "r,p = pearsonr(dfGWHB['LIVerbs'], dfGWHB['index'])\n",
    "print('R Squared', r)\n",
    "print('P Value', '{0:.10f}'.format(p))"
   ]
  },
  {
   "cell_type": "code",
   "execution_count": 60,
   "metadata": {},
   "outputs": [
    {
     "name": "stdout",
     "output_type": "stream",
     "text": [
      "R Squared 0.024628325572036803\n",
      "P Value 0.8990886967\n"
     ]
    }
   ],
   "source": [
    "r,p = pearsonr(dfDJT['LIVerbs'], dfDJT['index'])\n",
    "print('R Squared', r)\n",
    "print('P Value', '{0:.10f}'.format(p))"
   ]
  },
  {
   "cell_type": "code",
   "execution_count": 61,
   "metadata": {},
   "outputs": [
    {
     "name": "stdout",
     "output_type": "stream",
     "text": [
      "R Squared -0.7083041813577335\n",
      "P Value 0.0000000366\n"
     ]
    }
   ],
   "source": [
    "r,p = pearsonr(dfRR['index'], (dfRR['NounsNormalised']))\n",
    "print('R Squared', r)\n",
    "print('P Value', '{0:.10f}'.format(p))"
   ]
  },
  {
   "cell_type": "code",
   "execution_count": 62,
   "metadata": {},
   "outputs": [
    {
     "name": "stdout",
     "output_type": "stream",
     "text": [
      "R Squared -0.032511401975167435\n",
      "P Value 0.7113282987\n"
     ]
    }
   ],
   "source": [
    "r,p = pearsonr(dfGWHB['index'], (dfGWHB['NounsNormalised']))\n",
    "print('R Squared', r)\n",
    "print('P Value', '{0:.10f}'.format(p))"
   ]
  },
  {
   "cell_type": "code",
   "execution_count": 63,
   "metadata": {},
   "outputs": [
    {
     "name": "stdout",
     "output_type": "stream",
     "text": [
      "R Squared 0.14709093083425426\n",
      "P Value 0.4464050319\n"
     ]
    }
   ],
   "source": [
    "r,p = pearsonr(dfDJT['index'], (dfDJT['NounsNormalised']))\n",
    "print('R Squared', r)\n",
    "print('P Value', '{0:.10f}'.format(p))"
   ]
  },
  {
   "cell_type": "code",
   "execution_count": 64,
   "metadata": {},
   "outputs": [
    {
     "name": "stdout",
     "output_type": "stream",
     "text": [
      "R Squared 0.36655499642844114\n",
      "P Value 0.0122255758\n"
     ]
    }
   ],
   "source": [
    "r,p = pearsonr(dfRR['index'], (dfRR['VerbsNormalised']))\n",
    "print('R Squared', r)\n",
    "print('P Value', '{0:.10f}'.format(p))"
   ]
  },
  {
   "cell_type": "code",
   "execution_count": 65,
   "metadata": {},
   "outputs": [
    {
     "name": "stdout",
     "output_type": "stream",
     "text": [
      "R Squared 0.24250571447042382\n",
      "P Value 0.0050845904\n"
     ]
    }
   ],
   "source": [
    "r,p = pearsonr(dfGWHB['index'], (dfGWHB['VerbsNormalised']))\n",
    "print('R Squared', r)\n",
    "print('P Value', '{0:.10f}'.format(p))"
   ]
  },
  {
   "cell_type": "code",
   "execution_count": 66,
   "metadata": {},
   "outputs": [
    {
     "name": "stdout",
     "output_type": "stream",
     "text": [
      "R Squared -0.038245856698319335\n",
      "P Value 0.8438491421\n"
     ]
    }
   ],
   "source": [
    "r,p = pearsonr(dfDJT['index'], (dfDJT['VerbsNormalised']))\n",
    "print('R Squared', r)\n",
    "print('P Value', '{0:.10f}'.format(p))"
   ]
  },
  {
   "cell_type": "code",
   "execution_count": 67,
   "metadata": {},
   "outputs": [
    {
     "name": "stdout",
     "output_type": "stream",
     "text": [
      "R Squared -0.40684753612962926\n",
      "P Value 0.0050169671\n"
     ]
    }
   ],
   "source": [
    "r,p = pearsonr(dfRR['index'], (dfRR['AdjectivesNormalised']))\n",
    "print('R Squared', r)\n",
    "print('P Value', '{0:.10f}'.format(p))"
   ]
  },
  {
   "cell_type": "code",
   "execution_count": 68,
   "metadata": {},
   "outputs": [
    {
     "name": "stdout",
     "output_type": "stream",
     "text": [
      "R Squared 0.08919531600682687\n",
      "P Value 0.3091257757\n"
     ]
    }
   ],
   "source": [
    "r,p = pearsonr(dfGWHB['index'], (dfGWHB['AdjectivesNormalised']))\n",
    "print('R Squared', r)\n",
    "print('P Value', '{0:.10f}'.format(p))"
   ]
  },
  {
   "cell_type": "code",
   "execution_count": 69,
   "metadata": {},
   "outputs": [
    {
     "name": "stdout",
     "output_type": "stream",
     "text": [
      "R Squared -0.3466677963487802\n",
      "P Value 0.0654241967\n"
     ]
    }
   ],
   "source": [
    "r,p = pearsonr(dfDJT['index'], (dfDJT['AdjectivesNormalised']))\n",
    "print('R Squared', r)\n",
    "print('P Value', '{0:.10f}'.format(p))"
   ]
  },
  {
   "cell_type": "code",
   "execution_count": 70,
   "metadata": {},
   "outputs": [
    {
     "name": "stdout",
     "output_type": "stream",
     "text": [
      "R Squared 0.4150974661614389\n",
      "P Value 0.0041240126\n"
     ]
    }
   ],
   "source": [
    "r,p = pearsonr(dfRR['index'], (dfRR['AdverbsNormalised']))\n",
    "print('R Squared', r)\n",
    "print('P Value', '{0:.10f}'.format(p))"
   ]
  },
  {
   "cell_type": "code",
   "execution_count": 71,
   "metadata": {},
   "outputs": [
    {
     "name": "stdout",
     "output_type": "stream",
     "text": [
      "R Squared 0.02623656202381207\n",
      "P Value 0.7652303477\n"
     ]
    }
   ],
   "source": [
    "r,p = pearsonr(dfGWHB['index'], (dfGWHB['AdverbsNormalised']))\n",
    "print('R Squared', r)\n",
    "print('P Value', '{0:.10f}'.format(p))"
   ]
  },
  {
   "cell_type": "code",
   "execution_count": 72,
   "metadata": {},
   "outputs": [
    {
     "name": "stdout",
     "output_type": "stream",
     "text": [
      "R Squared -0.3684967628503911\n",
      "P Value 0.0491868023\n"
     ]
    }
   ],
   "source": [
    "r,p = pearsonr(dfDJT['index'], (dfDJT['AdverbsNormalised']))\n",
    "print('R Squared', r)\n",
    "print('P Value', '{0:.10f}'.format(p))"
   ]
  },
  {
   "cell_type": "code",
   "execution_count": 73,
   "metadata": {},
   "outputs": [
    {
     "name": "stdout",
     "output_type": "stream",
     "text": [
      "R Squared 0.65230873911194\n",
      "P Value 0.0000009028\n"
     ]
    }
   ],
   "source": [
    "r,p = pearsonr(dfRR['PronounsNormalised'], dfRR['index'])\n",
    "print('R Squared', r)\n",
    "print('P Value', '{0:.10f}'.format(p))"
   ]
  },
  {
   "cell_type": "code",
   "execution_count": 74,
   "metadata": {},
   "outputs": [
    {
     "name": "stdout",
     "output_type": "stream",
     "text": [
      "R Squared 0.13095888177969037\n",
      "P Value 0.1344592989\n"
     ]
    }
   ],
   "source": [
    "r,p = pearsonr(dfGWHB['PronounsNormalised'], dfGWHB['index'])\n",
    "print('R Squared', r)\n",
    "print('P Value', '{0:.10f}'.format(p))"
   ]
  },
  {
   "cell_type": "code",
   "execution_count": 75,
   "metadata": {},
   "outputs": [
    {
     "name": "stdout",
     "output_type": "stream",
     "text": [
      "R Squared 0.07949546712110854\n",
      "P Value 0.6818681491\n"
     ]
    }
   ],
   "source": [
    "r,p = pearsonr(dfDJT['PronounsNormalised'], dfDJT['index'])\n",
    "print('R Squared', r)\n",
    "print('P Value', '{0:.10f}'.format(p))"
   ]
  },
  {
   "cell_type": "code",
   "execution_count": 76,
   "metadata": {},
   "outputs": [
    {
     "name": "stdout",
     "output_type": "stream",
     "text": [
      "R Squared -0.31964097017635545\n",
      "P Value 0.0303562612\n"
     ]
    }
   ],
   "source": [
    "r,p = pearsonr(dfRR['WordCount'], dfRR['index'])\n",
    "print('R Squared', r)\n",
    "print('P Value', '{0:.10f}'.format(p))"
   ]
  },
  {
   "cell_type": "code",
   "execution_count": 77,
   "metadata": {},
   "outputs": [
    {
     "name": "stdout",
     "output_type": "stream",
     "text": [
      "R Squared -0.21014975604028122\n",
      "P Value 0.0155827302\n"
     ]
    }
   ],
   "source": [
    "r,p = pearsonr(dfGWHB['WordCount'], dfGWHB['index'])\n",
    "print('R Squared', r)\n",
    "print('P Value', '{0:.10f}'.format(p))"
   ]
  },
  {
   "cell_type": "code",
   "execution_count": 116,
   "metadata": {},
   "outputs": [
    {
     "name": "stdout",
     "output_type": "stream",
     "text": [
      "R Squared 0.08221955100264917\n",
      "P Value 0.6715592967\n"
     ]
    }
   ],
   "source": [
    "r,p = pearsonr(dfDJT['WordCount'], dfDJT['index'])\n",
    "print('R Squared', r)\n",
    "print('P Value', '{0:.10f}'.format(p))"
   ]
  },
  {
   "cell_type": "code",
   "execution_count": 78,
   "metadata": {},
   "outputs": [
    {
     "name": "stdout",
     "output_type": "stream",
     "text": [
      "R Squared 0.1992544090421524\n",
      "P Value 0.0219921477\n"
     ]
    }
   ],
   "source": [
    "r,p = pearsonr(dfGWHB['index'], (dfGWHB['TTR']))\n",
    "print('R Squared', r)\n",
    "print('P Value', '{0:.10f}'.format(p))"
   ]
  },
  {
   "cell_type": "code",
   "execution_count": 79,
   "metadata": {},
   "outputs": [
    {
     "data": {
      "text/plain": [
       "[<matplotlib.lines.Line2D at 0x1a22677780>]"
      ]
     },
     "execution_count": 79,
     "metadata": {},
     "output_type": "execute_result"
    },
    {
     "data": {
      "image/png": "[encoded data removed]",
      "text/plain": [
       "<Figure size 432x288 with 1 Axes>"
      ]
     },
     "metadata": {
      "needs_background": "light"
     },
     "output_type": "display_data"
    }
   ],
   "source": [
    "# Plot Mean Length of Utterance over time for RR\n",
    "xs = dfRR['index']\n",
    "ys = dfRR['MLU']\n",
    "xs = np.asarray(xs)\n",
    "trend = np.polyfit(xs, ys, 1)\n",
    "plt.plot(xs, ys, 'o')\n",
    "plt.plot(xs, trend[1] + trend[0] * xs)"
   ]
  },
  {
   "cell_type": "code",
   "execution_count": 80,
   "metadata": {},
   "outputs": [
    {
     "data": {
      "text/plain": [
       "[<matplotlib.lines.Line2D at 0x1a2298ab38>]"
      ]
     },
     "execution_count": 80,
     "metadata": {},
     "output_type": "execute_result"
    },
    {
     "data": {
      "image/png": "[encoded data removed]",
      "text/plain": [
       "<Figure size 432x288 with 1 Axes>"
      ]
     },
     "metadata": {
      "needs_background": "light"
     },
     "output_type": "display_data"
    }
   ],
   "source": [
    "# Plot Mean Length of Utterance over time for GWHB\n",
    "xs = dfGWHB['index']\n",
    "ys = dfGWHB['MLU']\n",
    "xs = np.asarray(xs)\n",
    "trend = np.polyfit(xs, ys, 1)\n",
    "plt.plot(xs, ys, 'o')\n",
    "plt.plot(xs, trend[1] + trend[0] * xs)"
   ]
  },
  {
   "cell_type": "code",
   "execution_count": 81,
   "metadata": {},
   "outputs": [
    {
     "data": {
      "text/plain": [
       "[<matplotlib.lines.Line2D at 0x1a22a5beb8>]"
      ]
     },
     "execution_count": 81,
     "metadata": {},
     "output_type": "execute_result"
    },
    {
     "data": {
      "image/png": "[encoded data removed]",
      "text/plain": [
       "<Figure size 432x288 with 1 Axes>"
      ]
     },
     "metadata": {
      "needs_background": "light"
     },
     "output_type": "display_data"
    }
   ],
   "source": [
    "# Plot Mean Length of Utterance over time for DJT\n",
    "xs = dfDJT['index']\n",
    "ys = dfDJT['MLU']\n",
    "xs = np.asarray(xs)\n",
    "trend = np.polyfit(xs, ys, 1)\n",
    "plt.plot(xs, ys, 'o')\n",
    "plt.plot(xs, trend[1] + trend[0] * xs)"
   ]
  },
  {
   "cell_type": "code",
   "execution_count": 124,
   "metadata": {},
   "outputs": [
    {
     "data": {
      "image/png": "[encoded data removed]",
      "text/plain": [
       "<Figure size 432x288 with 1 Axes>"
      ]
     },
     "metadata": {
      "needs_background": "light"
     },
     "output_type": "display_data"
    }
   ],
   "source": [
    "# Plot Unique Words over time for RR\n",
    "xs = dfRR['index']\n",
    "ys = dfRR['UniqueWords']\n",
    "xs = np.asarray(xs)\n",
    "trend = np.polyfit(xs, ys, 1)\n",
    "plt.xlabel('Transcript Index')\n",
    "plt.ylabel('Unique Word Count')\n",
    "plt.plot(xs, ys, 'o')\n",
    "plt.plot(xs, trend[1] + trend[0] * xs)\n",
    "plt.savefig('RRUniqueWords.png')"
   ]
  },
  {
   "cell_type": "code",
   "execution_count": 125,
   "metadata": {},
   "outputs": [
    {
     "data": {
      "image/png": "[encoded data removed]",
      "text/plain": [
       "<Figure size 432x288 with 1 Axes>"
      ]
     },
     "metadata": {
      "needs_background": "light"
     },
     "output_type": "display_data"
    }
   ],
   "source": [
    "# Plot Unique Words over time for GWHB\n",
    "xs = dfGWHB['index']\n",
    "ys = dfGWHB['UniqueWords']\n",
    "xs = np.asarray(xs)\n",
    "trend = np.polyfit(xs, ys, 1)\n",
    "plt.xlabel('Transcript Index')\n",
    "plt.ylabel('Unique Word Count')\n",
    "plt.plot(xs, ys, 'o')\n",
    "plt.plot(xs, trend[1] + trend[0] * xs)\n",
    "plt.savefig('GWHBUniqueWords.png')"
   ]
  },
  {
   "cell_type": "code",
   "execution_count": 84,
   "metadata": {},
   "outputs": [
    {
     "data": {
      "text/plain": [
       "[<matplotlib.lines.Line2D at 0x1a22caaef0>]"
      ]
     },
     "execution_count": 84,
     "metadata": {},
     "output_type": "execute_result"
    },
    {
     "data": {
      "image/png": "[encoded data removed]",
      "text/plain": [
       "<Figure size 432x288 with 1 Axes>"
      ]
     },
     "metadata": {
      "needs_background": "light"
     },
     "output_type": "display_data"
    }
   ],
   "source": [
    "# Plot Unique Words over time for DJT\n",
    "xs = dfDJT['index']\n",
    "ys = dfDJT['UniqueWords']\n",
    "xs = np.asarray(xs)\n",
    "trend = np.polyfit(xs, ys, 1)\n",
    "plt.plot(xs, ys, 'o')\n",
    "plt.plot(xs, trend[1] + trend[0] * xs)"
   ]
  },
  {
   "cell_type": "code",
   "execution_count": 85,
   "metadata": {},
   "outputs": [
    {
     "data": {
      "text/plain": [
       "[<matplotlib.lines.Line2D at 0x1a22d5c978>]"
      ]
     },
     "execution_count": 85,
     "metadata": {},
     "output_type": "execute_result"
    },
    {
     "data": {
      "image/png": "[encoded data removed]",
      "text/plain": [
       "<Figure size 432x288 with 1 Axes>"
      ]
     },
     "metadata": {
      "needs_background": "light"
     },
     "output_type": "display_data"
    }
   ],
   "source": [
    "# Plot Token Type Ratio over time for RR\n",
    "xs = dfRR['index']\n",
    "ys = dfRR['TTR']\n",
    "xs = np.asarray(xs)\n",
    "trend = np.polyfit(xs, ys, 1)\n",
    "plt.plot(xs, ys, 'o')\n",
    "plt.plot(xs, trend[1] + trend[0] * xs)"
   ]
  },
  {
   "cell_type": "code",
   "execution_count": 86,
   "metadata": {},
   "outputs": [
    {
     "data": {
      "text/plain": [
       "[<matplotlib.lines.Line2D at 0x1a22e261d0>]"
      ]
     },
     "execution_count": 86,
     "metadata": {},
     "output_type": "execute_result"
    },
    {
     "data": {
      "image/png": "[encoded data removed]",
      "text/plain": [
       "<Figure size 432x288 with 1 Axes>"
      ]
     },
     "metadata": {
      "needs_background": "light"
     },
     "output_type": "display_data"
    }
   ],
   "source": [
    "# Plot Token Type Ratio over time for GWHB\n",
    "xs = dfGWHB['index']\n",
    "ys = dfGWHB['TTR']\n",
    "xs = np.asarray(xs)\n",
    "trend = np.polyfit(xs, ys, 1)\n",
    "plt.plot(xs, ys, 'o')\n",
    "plt.plot(xs, trend[1] + trend[0] * xs)"
   ]
  },
  {
   "cell_type": "code",
   "execution_count": 87,
   "metadata": {},
   "outputs": [
    {
     "data": {
      "text/plain": [
       "[<matplotlib.lines.Line2D at 0x1a22eddf28>]"
      ]
     },
     "execution_count": 87,
     "metadata": {},
     "output_type": "execute_result"
    },
    {
     "data": {
      "image/png": "[encoded data removed]",
      "text/plain": [
       "<Figure size 432x288 with 1 Axes>"
      ]
     },
     "metadata": {
      "needs_background": "light"
     },
     "output_type": "display_data"
    }
   ],
   "source": [
    "# Plot Token Type Ratio over time for DJT\n",
    "xs = dfDJT['index']\n",
    "ys = dfDJT['TTR']\n",
    "xs = np.asarray(xs)\n",
    "trend = np.polyfit(xs, ys, 1)\n",
    "plt.plot(xs, ys, 'o')\n",
    "plt.plot(xs, trend[1] + trend[0] * xs)"
   ]
  },
  {
   "cell_type": "code",
   "execution_count": 88,
   "metadata": {},
   "outputs": [
    {
     "data": {
      "text/plain": [
       "[<matplotlib.lines.Line2D at 0x1a22f97e80>]"
      ]
     },
     "execution_count": 88,
     "metadata": {},
     "output_type": "execute_result"
    },
    {
     "data": {
      "image/png": "[encoded data removed]",
      "text/plain": [
       "<Figure size 432x288 with 1 Axes>"
      ]
     },
     "metadata": {
      "needs_background": "light"
     },
     "output_type": "display_data"
    }
   ],
   "source": [
    "# Plot Word Count over time for RR\n",
    "xs = dfRR['index']\n",
    "ys = dfRR['WordCount']\n",
    "xs = np.asarray(xs)\n",
    "trend = np.polyfit(xs, ys, 1)\n",
    "plt.plot(xs, ys, 'o')\n",
    "plt.plot(xs, trend[1] + trend[0] * xs)"
   ]
  },
  {
   "cell_type": "code",
   "execution_count": 89,
   "metadata": {},
   "outputs": [
    {
     "data": {
      "text/plain": [
       "[<matplotlib.lines.Line2D at 0x1a23061ac8>]"
      ]
     },
     "execution_count": 89,
     "metadata": {},
     "output_type": "execute_result"
    },
    {
     "data": {
      "image/png": "[encoded data removed]",
      "text/plain": [
       "<Figure size 432x288 with 1 Axes>"
      ]
     },
     "metadata": {
      "needs_background": "light"
     },
     "output_type": "display_data"
    }
   ],
   "source": [
    "# Plot Word Count over time for GHWB\n",
    "xs = dfGWHB['index']\n",
    "ys = dfGWHB['WordCount']\n",
    "xs = np.asarray(xs)\n",
    "trend = np.polyfit(xs, ys, 1)\n",
    "plt.plot(xs, ys, 'o')\n",
    "plt.plot(xs, trend[1] + trend[0] * xs)"
   ]
  },
  {
   "cell_type": "code",
   "execution_count": 90,
   "metadata": {},
   "outputs": [
    {
     "data": {
      "text/plain": [
       "[<matplotlib.lines.Line2D at 0x1a231301d0>]"
      ]
     },
     "execution_count": 90,
     "metadata": {},
     "output_type": "execute_result"
    },
    {
     "data": {
      "image/png": "[encoded data removed]",
      "text/plain": [
       "<Figure size 432x288 with 1 Axes>"
      ]
     },
     "metadata": {
      "needs_background": "light"
     },
     "output_type": "display_data"
    }
   ],
   "source": [
    "# Plot Word Count over time for DJT\n",
    "xs = dfDJT['index']\n",
    "ys = dfDJT['WordCount']\n",
    "xs = np.asarray(xs)\n",
    "trend = np.polyfit(xs, ys, 1)\n",
    "plt.plot(xs, ys, 'o')\n",
    "plt.plot(xs, trend[1] + trend[0] * xs)"
   ]
  },
  {
   "cell_type": "code",
   "execution_count": 91,
   "metadata": {},
   "outputs": [
    {
     "data": {
      "text/plain": [
       "[<matplotlib.lines.Line2D at 0x1a231fe400>]"
      ]
     },
     "execution_count": 91,
     "metadata": {},
     "output_type": "execute_result"
    },
    {
     "data": {
      "image/png": "[encoded data removed]",
      "text/plain": [
       "<Figure size 432x288 with 1 Axes>"
      ]
     },
     "metadata": {
      "needs_background": "light"
     },
     "output_type": "display_data"
    }
   ],
   "source": [
    "# Plot Nouns per 100 over time for RR\n",
    "xs = dfRR['index']\n",
    "ys = dfRR['Nouns/100']\n",
    "xs = np.asarray(xs)\n",
    "trend = np.polyfit(xs, ys, 1) # fit a straight line\n",
    "plt.plot(xs, ys,'o')\n",
    "plt.plot(xs,trend[1]+trend[0]*xs)"
   ]
  },
  {
   "cell_type": "code",
   "execution_count": 92,
   "metadata": {},
   "outputs": [
    {
     "data": {
      "text/plain": [
       "[<matplotlib.lines.Line2D at 0x1a232c8668>]"
      ]
     },
     "execution_count": 92,
     "metadata": {},
     "output_type": "execute_result"
    },
    {
     "data": {
      "image/png": "[encoded data removed]",
      "text/plain": [
       "<Figure size 432x288 with 1 Axes>"
      ]
     },
     "metadata": {
      "needs_background": "light"
     },
     "output_type": "display_data"
    }
   ],
   "source": [
    "# Plot Nouns per 100 over time for GHWB\n",
    "xs = dfGWHB['index']\n",
    "ys = dfGWHB['Nouns/100']\n",
    "xs = np.asarray(xs)\n",
    "trend = np.polyfit(xs, ys, 1) # fit a straight line\n",
    "plt.plot(xs, ys,'o')\n",
    "plt.plot(xs,trend[1]+trend[0]*xs)"
   ]
  },
  {
   "cell_type": "code",
   "execution_count": 93,
   "metadata": {},
   "outputs": [
    {
     "data": {
      "text/plain": [
       "[<matplotlib.lines.Line2D at 0x1a23385d68>]"
      ]
     },
     "execution_count": 93,
     "metadata": {},
     "output_type": "execute_result"
    },
    {
     "data": {
      "image/png": "[encoded data removed]",
      "text/plain": [
       "<Figure size 432x288 with 1 Axes>"
      ]
     },
     "metadata": {
      "needs_background": "light"
     },
     "output_type": "display_data"
    }
   ],
   "source": [
    "# Plot Nouns per 100 over time for DJT\n",
    "xs = dfDJT['index']\n",
    "ys = dfDJT['Nouns/100']\n",
    "xs = np.asarray(xs)\n",
    "trend = np.polyfit(xs, ys, 1) # fit a straight line\n",
    "plt.plot(xs, ys,'o')\n",
    "plt.plot(xs,trend[1]+trend[0]*xs)"
   ]
  },
  {
   "cell_type": "code",
   "execution_count": 94,
   "metadata": {},
   "outputs": [
    {
     "data": {
      "text/plain": [
       "[<matplotlib.lines.Line2D at 0x1a23453710>]"
      ]
     },
     "execution_count": 94,
     "metadata": {},
     "output_type": "execute_result"
    },
    {
     "data": {
      "image/png": "[encoded data removed]",
      "text/plain": [
       "<Figure size 432x288 with 1 Axes>"
      ]
     },
     "metadata": {
      "needs_background": "light"
     },
     "output_type": "display_data"
    }
   ],
   "source": [
    "# Plot Verbs per 100 over time for RR\n",
    "xs = dfRR['index']\n",
    "ys = dfRR['Verbs/100']\n",
    "xs = np.asarray(xs)\n",
    "trend = np.polyfit(xs, ys, 1) # fit a straight line\n",
    "plt.plot(xs, ys,'o')\n",
    "plt.plot(xs,trend[1]+trend[0]*xs)"
   ]
  },
  {
   "cell_type": "code",
   "execution_count": 95,
   "metadata": {},
   "outputs": [
    {
     "data": {
      "text/plain": [
       "[<matplotlib.lines.Line2D at 0x1a2351ef28>]"
      ]
     },
     "execution_count": 95,
     "metadata": {},
     "output_type": "execute_result"
    },
    {
     "data": {
      "image/png": "[encoded data removed]",
      "text/plain": [
       "<Figure size 432x288 with 1 Axes>"
      ]
     },
     "metadata": {
      "needs_background": "light"
     },
     "output_type": "display_data"
    }
   ],
   "source": [
    "# Plot Verbs per 100 over time for GHWB\n",
    "xs = dfGWHB['index']\n",
    "ys = dfGWHB['Verbs/100']\n",
    "xs = np.asarray(xs)\n",
    "trend = np.polyfit(xs, ys, 1) # fit a straight line\n",
    "plt.plot(xs, ys,'o')\n",
    "plt.plot(xs,trend[1]+trend[0]*xs)"
   ]
  },
  {
   "cell_type": "code",
   "execution_count": 96,
   "metadata": {},
   "outputs": [
    {
     "data": {
      "text/plain": [
       "[<matplotlib.lines.Line2D at 0x1a235e69e8>]"
      ]
     },
     "execution_count": 96,
     "metadata": {},
     "output_type": "execute_result"
    },
    {
     "data": {
      "image/png": "[encoded data removed]",
      "text/plain": [
       "<Figure size 432x288 with 1 Axes>"
      ]
     },
     "metadata": {
      "needs_background": "light"
     },
     "output_type": "display_data"
    }
   ],
   "source": [
    "# Plot Verbs per 100 over time for DJT\n",
    "xs = dfDJT['index']\n",
    "ys = dfDJT['Verbs/100']\n",
    "xs = np.asarray(xs)\n",
    "trend = np.polyfit(xs, ys, 1) # fit a straight line\n",
    "plt.plot(xs, ys,'o')\n",
    "plt.plot(xs,trend[1]+trend[0]*xs)"
   ]
  },
  {
   "cell_type": "code",
   "execution_count": 97,
   "metadata": {},
   "outputs": [
    {
     "data": {
      "text/plain": [
       "[<matplotlib.lines.Line2D at 0x1a236a4080>]"
      ]
     },
     "execution_count": 97,
     "metadata": {},
     "output_type": "execute_result"
    },
    {
     "data": {
      "image/png": "[encoded data removed]",
      "text/plain": [
       "<Figure size 432x288 with 1 Axes>"
      ]
     },
     "metadata": {
      "needs_background": "light"
     },
     "output_type": "display_data"
    }
   ],
   "source": [
    "# Plot Adjectives per 100 over time for RR\n",
    "xs = dfRR['index']\n",
    "ys = dfRR['Adjectives/100']\n",
    "xs = np.asarray(xs)\n",
    "trend = np.polyfit(xs, ys, 1) # fit a straight line\n",
    "plt.plot(xs, ys,'o')\n",
    "plt.plot(xs,trend[1]+trend[0]*xs)"
   ]
  },
  {
   "cell_type": "code",
   "execution_count": 98,
   "metadata": {},
   "outputs": [
    {
     "data": {
      "text/plain": [
       "[<matplotlib.lines.Line2D at 0x1a23769f28>]"
      ]
     },
     "execution_count": 98,
     "metadata": {},
     "output_type": "execute_result"
    },
    {
     "data": {
      "image/png": "[encoded data removed]",
      "text/plain": [
       "<Figure size 432x288 with 1 Axes>"
      ]
     },
     "metadata": {
      "needs_background": "light"
     },
     "output_type": "display_data"
    }
   ],
   "source": [
    "# Plot Adjectives per 100 over time for GHWB\n",
    "xs = dfGWHB['index']\n",
    "ys = dfGWHB['Adjectives/100']\n",
    "xs = np.asarray(xs)\n",
    "trend = np.polyfit(xs, ys, 1) # fit a straight line\n",
    "plt.plot(xs, ys,'o')\n",
    "plt.plot(xs,trend[1]+trend[0]*xs)"
   ]
  },
  {
   "cell_type": "code",
   "execution_count": 99,
   "metadata": {},
   "outputs": [
    {
     "data": {
      "text/plain": [
       "[<matplotlib.lines.Line2D at 0x1a2382dc50>]"
      ]
     },
     "execution_count": 99,
     "metadata": {},
     "output_type": "execute_result"
    },
    {
     "data": {
      "image/png": "[encoded data removed]",
      "text/plain": [
       "<Figure size 432x288 with 1 Axes>"
      ]
     },
     "metadata": {
      "needs_background": "light"
     },
     "output_type": "display_data"
    }
   ],
   "source": [
    "# Plot Adjectives per 100 over time for DJT\n",
    "xs = dfDJT['index']\n",
    "ys = dfDJT['Adjectives/100']\n",
    "xs = np.asarray(xs)\n",
    "trend = np.polyfit(xs, ys, 1) # fit a straight line\n",
    "plt.plot(xs, ys,'o')\n",
    "plt.plot(xs,trend[1]+trend[0]*xs)"
   ]
  },
  {
   "cell_type": "code",
   "execution_count": 100,
   "metadata": {},
   "outputs": [
    {
     "data": {
      "text/plain": [
       "[<matplotlib.lines.Line2D at 0x1a238ec9b0>]"
      ]
     },
     "execution_count": 100,
     "metadata": {},
     "output_type": "execute_result"
    },
    {
     "data": {
      "image/png": "[encoded data removed]",
      "text/plain": [
       "<Figure size 432x288 with 1 Axes>"
      ]
     },
     "metadata": {
      "needs_background": "light"
     },
     "output_type": "display_data"
    }
   ],
   "source": [
    "# Plot Adverbs per 100 over time for RR\n",
    "xs = dfRR['index']\n",
    "ys = dfRR['Adverbs/100']\n",
    "xs = np.asarray(xs)\n",
    "trend = np.polyfit(xs, ys, 1) # fit a straight line\n",
    "plt.plot(xs, ys,'o')\n",
    "plt.plot(xs,trend[1]+trend[0]*xs)"
   ]
  },
  {
   "cell_type": "code",
   "execution_count": 101,
   "metadata": {},
   "outputs": [
    {
     "data": {
      "text/plain": [
       "[<matplotlib.lines.Line2D at 0x1a239cf0f0>]"
      ]
     },
     "execution_count": 101,
     "metadata": {},
     "output_type": "execute_result"
    },
    {
     "data": {
      "image/png": "[encoded data removed]",
      "text/plain": [
       "<Figure size 432x288 with 1 Axes>"
      ]
     },
     "metadata": {
      "needs_background": "light"
     },
     "output_type": "display_data"
    }
   ],
   "source": [
    "# Plot Adverbs per 100 over time for GHWB\n",
    "xs = dfGWHB['index']\n",
    "ys = dfGWHB['Adverbs/100']\n",
    "xs = np.asarray(xs)\n",
    "trend = np.polyfit(xs, ys, 1) # fit a straight line\n",
    "plt.plot(xs, ys,'o')\n",
    "plt.plot(xs,trend[1]+trend[0]*xs)"
   ]
  },
  {
   "cell_type": "code",
   "execution_count": 102,
   "metadata": {},
   "outputs": [
    {
     "data": {
      "text/plain": [
       "[<matplotlib.lines.Line2D at 0x1a23a8fbe0>]"
      ]
     },
     "execution_count": 102,
     "metadata": {},
     "output_type": "execute_result"
    },
    {
     "data": {
      "image/png": "[encoded data removed]",
      "text/plain": [
       "<Figure size 432x288 with 1 Axes>"
      ]
     },
     "metadata": {
      "needs_background": "light"
     },
     "output_type": "display_data"
    }
   ],
   "source": [
    "# Plot Adverbs per 100 over time for DJT\n",
    "xs = dfDJT['index']\n",
    "ys = dfDJT['Adverbs/100']\n",
    "xs = np.asarray(xs)\n",
    "trend = np.polyfit(xs, ys, 1) # fit a straight line\n",
    "plt.plot(xs, ys,'o')\n",
    "plt.plot(xs,trend[1]+trend[0]*xs)"
   ]
  },
  {
   "cell_type": "code",
   "execution_count": 129,
   "metadata": {},
   "outputs": [
    {
     "data": {
      "image/png": "[encoded data removed]",
      "text/plain": [
       "<Figure size 432x288 with 1 Axes>"
      ]
     },
     "metadata": {
      "needs_background": "light"
     },
     "output_type": "display_data"
    }
   ],
   "source": [
    "xs = dfRR['index']\n",
    "ys = dfRR['NounsNormalised']\n",
    "xs = np.asarray(xs)\n",
    "trend = np.polyfit(xs, ys, 1) # fit a straight line\n",
    "plt.xlabel('Transcript Index')\n",
    "plt.ylabel('Nouns Normalised')\n",
    "plt.plot(xs, ys,'o')\n",
    "plt.plot(xs,trend[1]+trend[0]*xs)\n",
    "plt.savefig('RRNounsNormalised.png')"
   ]
  },
  {
   "cell_type": "code",
   "execution_count": 104,
   "metadata": {},
   "outputs": [
    {
     "data": {
      "text/plain": [
       "[<matplotlib.lines.Line2D at 0x1a23c21518>]"
      ]
     },
     "execution_count": 104,
     "metadata": {},
     "output_type": "execute_result"
    },
    {
     "data": {
      "image/png": "[encoded data removed]",
      "text/plain": [
       "<Figure size 432x288 with 1 Axes>"
      ]
     },
     "metadata": {
      "needs_background": "light"
     },
     "output_type": "display_data"
    }
   ],
   "source": [
    "xs = dfGWHB['index']\n",
    "ys = dfGWHB['NounsNormalised']\n",
    "xs = np.asarray(xs)\n",
    "trend = np.polyfit(xs, ys, 1) # fit a straight line\n",
    "plt.plot(xs, ys,'o')\n",
    "plt.plot(xs,trend[1]+trend[0]*xs)"
   ]
  },
  {
   "cell_type": "code",
   "execution_count": 105,
   "metadata": {},
   "outputs": [
    {
     "data": {
      "text/plain": [
       "[<matplotlib.lines.Line2D at 0x1a23cf1048>]"
      ]
     },
     "execution_count": 105,
     "metadata": {},
     "output_type": "execute_result"
    },
    {
     "data": {
      "image/png": "[encoded data removed]",
      "text/plain": [
       "<Figure size 432x288 with 1 Axes>"
      ]
     },
     "metadata": {
      "needs_background": "light"
     },
     "output_type": "display_data"
    }
   ],
   "source": [
    "xs = dfDJT['index']\n",
    "ys = dfDJT['NounsNormalised']\n",
    "xs = np.asarray(xs)\n",
    "trend = np.polyfit(xs, ys, 1) # fit a straight line\n",
    "plt.plot(xs, ys,'o')\n",
    "plt.plot(xs,trend[1]+trend[0]*xs)"
   ]
  },
  {
   "cell_type": "code",
   "execution_count": 106,
   "metadata": {},
   "outputs": [
    {
     "data": {
      "text/plain": [
       "[<matplotlib.lines.Line2D at 0x1a23dacd68>]"
      ]
     },
     "execution_count": 106,
     "metadata": {},
     "output_type": "execute_result"
    },
    {
     "data": {
      "image/png": "[encoded data removed]",
      "text/plain": [
       "<Figure size 432x288 with 1 Axes>"
      ]
     },
     "metadata": {
      "needs_background": "light"
     },
     "output_type": "display_data"
    }
   ],
   "source": [
    "xs = dfRR['index']\n",
    "ys = dfRR['AdjectivesNormalised']\n",
    "xs = np.asarray(xs)\n",
    "trend = np.polyfit(xs, ys, 1) # fit a straight line\n",
    "plt.plot(xs, ys,'o')\n",
    "plt.plot(xs,trend[1]+trend[0]*xs)"
   ]
  },
  {
   "cell_type": "code",
   "execution_count": 107,
   "metadata": {},
   "outputs": [
    {
     "data": {
      "text/plain": [
       "[<matplotlib.lines.Line2D at 0x1a23e79940>]"
      ]
     },
     "execution_count": 107,
     "metadata": {},
     "output_type": "execute_result"
    },
    {
     "data": {
      "image/png": "[encoded data removed]",
      "text/plain": [
       "<Figure size 432x288 with 1 Axes>"
      ]
     },
     "metadata": {
      "needs_background": "light"
     },
     "output_type": "display_data"
    }
   ],
   "source": [
    "xs = dfGWHB['index']\n",
    "ys = dfGWHB['AdjectivesNormalised']\n",
    "xs = np.asarray(xs)\n",
    "trend = np.polyfit(xs, ys, 1) # fit a straight line\n",
    "plt.plot(xs, ys,'o')\n",
    "plt.plot(xs,trend[1]+trend[0]*xs)"
   ]
  },
  {
   "cell_type": "code",
   "execution_count": 108,
   "metadata": {},
   "outputs": [
    {
     "data": {
      "text/plain": [
       "[<matplotlib.lines.Line2D at 0x1a23f43c50>]"
      ]
     },
     "execution_count": 108,
     "metadata": {},
     "output_type": "execute_result"
    },
    {
     "data": {
      "image/png": "[encoded data removed]",
      "text/plain": [
       "<Figure size 432x288 with 1 Axes>"
      ]
     },
     "metadata": {
      "needs_background": "light"
     },
     "output_type": "display_data"
    }
   ],
   "source": [
    "xs = dfDJT['index']\n",
    "ys = dfDJT['AdjectivesNormalised']\n",
    "xs = np.asarray(xs)\n",
    "trend = np.polyfit(xs, ys, 1) # fit a straight line\n",
    "plt.plot(xs, ys,'o')\n",
    "plt.plot(xs,trend[1]+trend[0]*xs)"
   ]
  },
  {
   "cell_type": "code",
   "execution_count": 109,
   "metadata": {},
   "outputs": [
    {
     "data": {
      "text/plain": [
       "[<matplotlib.lines.Line2D at 0x1a23fffd30>]"
      ]
     },
     "execution_count": 109,
     "metadata": {},
     "output_type": "execute_result"
    },
    {
     "data": {
      "image/png": "[encoded data removed]",
      "text/plain": [
       "<Figure size 432x288 with 1 Axes>"
      ]
     },
     "metadata": {
      "needs_background": "light"
     },
     "output_type": "display_data"
    }
   ],
   "source": [
    "xs = dfRR['index']\n",
    "ys = dfRR['Fillers']\n",
    "xs = np.asarray(xs)\n",
    "trend = np.polyfit(xs, ys, 1) # fit a straight line\n",
    "plt.plot(xs, ys,'o')\n",
    "plt.plot(xs,trend[1]+trend[0]*xs)"
   ]
  },
  {
   "cell_type": "code",
   "execution_count": 110,
   "metadata": {},
   "outputs": [
    {
     "data": {
      "text/plain": [
       "[<matplotlib.lines.Line2D at 0x1a240ce400>]"
      ]
     },
     "execution_count": 110,
     "metadata": {},
     "output_type": "execute_result"
    },
    {
     "data": {
      "image/png": "[encoded data removed]",
      "text/plain": [
       "<Figure size 432x288 with 1 Axes>"
      ]
     },
     "metadata": {
      "needs_background": "light"
     },
     "output_type": "display_data"
    }
   ],
   "source": [
    "xs = dfGWHB['index']\n",
    "ys = dfGWHB['Fillers']\n",
    "xs = np.asarray(xs)\n",
    "trend = np.polyfit(xs, ys, 1) # fit a straight line\n",
    "plt.plot(xs, ys,'o')\n",
    "plt.plot(xs,trend[1]+trend[0]*xs)"
   ]
  },
  {
   "cell_type": "code",
   "execution_count": 111,
   "metadata": {},
   "outputs": [
    {
     "data": {
      "text/plain": [
       "[<matplotlib.lines.Line2D at 0x1a24189a90>]"
      ]
     },
     "execution_count": 111,
     "metadata": {},
     "output_type": "execute_result"
    },
    {
     "data": {
      "image/png": "[encoded data removed]",
      "text/plain": [
       "<Figure size 432x288 with 1 Axes>"
      ]
     },
     "metadata": {
      "needs_background": "light"
     },
     "output_type": "display_data"
    }
   ],
   "source": [
    "xs = dfDJT['index']\n",
    "ys = dfDJT['Fillers']\n",
    "xs = np.asarray(xs)\n",
    "trend = np.polyfit(xs, ys, 1) # fit a straight line\n",
    "plt.plot(xs, ys,'o')\n",
    "plt.plot(xs,trend[1]+trend[0]*xs)"
   ]
  },
  {
   "cell_type": "code",
   "execution_count": 126,
   "metadata": {},
   "outputs": [
    {
     "data": {
      "image/png": "[encoded data removed]",
      "text/plain": [
       "<Figure size 432x288 with 1 Axes>"
      ]
     },
     "metadata": {
      "needs_background": "light"
     },
     "output_type": "display_data"
    }
   ],
   "source": [
    "xs = dfRR['index']\n",
    "ys = dfRR['NSNouns']\n",
    "xs = np.asarray(xs)\n",
    "trend = np.polyfit(xs, ys, 1) # fit a straight line\n",
    "plt.xlabel('Transcript Index')\n",
    "plt.ylabel('Non-specific Nouns')\n",
    "plt.plot(xs, ys,'o')\n",
    "plt.plot(xs,trend[1]+trend[0]*xs)\n",
    "plt.savefig('RRNSNouns.png')"
   ]
  },
  {
   "cell_type": "code",
   "execution_count": 113,
   "metadata": {},
   "outputs": [
    {
     "data": {
      "text/plain": [
       "[<matplotlib.lines.Line2D at 0x1a24316da0>]"
      ]
     },
     "execution_count": 113,
     "metadata": {},
     "output_type": "execute_result"
    },
    {
     "data": {
      "image/png": "[encoded data removed]",
      "text/plain": [
       "<Figure size 432x288 with 1 Axes>"
      ]
     },
     "metadata": {
      "needs_background": "light"
     },
     "output_type": "display_data"
    }
   ],
   "source": [
    "xs = dfGWHB['index']\n",
    "ys = dfGWHB['NSNouns']\n",
    "xs = np.asarray(xs)\n",
    "trend = np.polyfit(xs, ys, 1) # fit a straight line\n",
    "plt.xlabel('Transcript Index')\n",
    "plt.ylabel('Non-specific Nouns')\n",
    "plt.plot(xs, ys,'o')\n",
    "plt.plot(xs,trend[1]+trend[0]*xs)"
   ]
  },
  {
   "cell_type": "code",
   "execution_count": 127,
   "metadata": {},
   "outputs": [
    {
     "data": {
      "image/png": "[encoded data removed]",
      "text/plain": [
       "<Figure size 432x288 with 1 Axes>"
      ]
     },
     "metadata": {
      "needs_background": "light"
     },
     "output_type": "display_data"
    }
   ],
   "source": [
    "xs = dfDJT['index']\n",
    "ys = dfDJT['NSNouns']\n",
    "xs = np.asarray(xs)\n",
    "trend = np.polyfit(xs, ys, 1) # fit a straight line\n",
    "plt.xlabel('Transcript Index')\n",
    "plt.ylabel('Non-specific Nouns')\n",
    "plt.plot(xs, ys,'o')\n",
    "plt.plot(xs,trend[1]+trend[0]*xs)\n",
    "plt.savefig('DJTNSNouns.png')"
   ]
  },
  {
   "cell_type": "code",
   "execution_count": null,
   "metadata": {},
   "outputs": [],
   "source": [
    "xs = dfRR['index']\n",
    "ys = dfRR['LIVerbs']\n",
    "xs = np.asarray(xs)\n",
    "trend = np.polyfit(xs, ys, 1) # fit a straight line\n",
    "plt.plot(xs, ys,'o')\n",
    "plt.plot(xs,trend[1]+trend[0]*xs)"
   ]
  },
  {
   "cell_type": "code",
   "execution_count": null,
   "metadata": {},
   "outputs": [],
   "source": [
    "xs = dfGWHB['index']\n",
    "ys = dfGWHB['LIVerbs']\n",
    "xs = np.asarray(xs)\n",
    "trend = np.polyfit(xs, ys, 1) # fit a straight line\n",
    "plt.plot(xs, ys,'o')\n",
    "plt.plot(xs,trend[1]+trend[0]*xs)"
   ]
  },
  {
   "cell_type": "code",
   "execution_count": null,
   "metadata": {},
   "outputs": [],
   "source": [
    "xs = dfDJT['index']\n",
    "ys = dfDJT['LIVerbs']\n",
    "xs = np.asarray(xs)\n",
    "trend = np.polyfit(xs, ys, 1) # fit a straight line\n",
    "plt.plot(xs, ys,'o')\n",
    "plt.plot(xs,trend[1]+trend[0]*xs)\n"
   ]
  },
  {
   "cell_type": "code",
   "execution_count": 128,
   "metadata": {},
   "outputs": [
    {
     "data": {
      "image/png": "[encoded data removed]",
      "text/plain": [
       "<Figure size 432x288 with 1 Axes>"
      ]
     },
     "metadata": {
      "needs_background": "light"
     },
     "output_type": "display_data"
    }
   ],
   "source": [
    "xs = dfRR['index']\n",
    "ys = dfRR['PronounsNormalised']\n",
    "xs = np.asarray(xs)\n",
    "trend = np.polyfit(xs, ys, 1) # fit a straight line\n",
    "plt.xlabel('Transcript Index')\n",
    "plt.ylabel('Pronouns Normalised')\n",
    "plt.plot(xs, ys,'o')\n",
    "plt.plot(xs,trend[1]+trend[0]*xs)\n",
    "plt.savefig('RRPronouns.png')"
   ]
  },
  {
   "cell_type": "code",
   "execution_count": null,
   "metadata": {},
   "outputs": [],
   "source": [
    "labelsRR = dfRR['Filename']\n",
    "dfRR = dfRR.drop(['Filename', 'JDate', 'Julian', 'Date', 'index'], axis=1)\n",
    "labelsGHWB = dfGWHB['Filename']\n",
    "dfGWHB = dfGWHB.drop(['Filename', 'JDate', 'Julian', 'Date', 'index'], axis=1)\n",
    "labelsDJT = dfDJT['Filename']\n",
    "dfDJT = dfDJT.drop(['Filename', 'JDate', 'Julian', 'Date', 'index'], axis=1)"
   ]
  },
  {
   "cell_type": "code",
   "execution_count": null,
   "metadata": {},
   "outputs": [],
   "source": [
    "# Scale the data\n",
    "yRRscaled = preprocessing.scale(yRR)\n",
    "dfRRscaled = preprocessing.scale(dfRR)\n",
    "\n",
    "yGWHBscaled = preprocessing.scale(yGWHB)\n",
    "dfGWHBscaled = preprocessing.scale(dfGWHB)\n",
    "\n",
    "yDJTscaled = preprocessing.scale(yDJT)\n",
    "dfDJTscaled = preprocessing.scale(dfDJT)"
   ]
  },
  {
   "cell_type": "markdown",
   "metadata": {},
   "source": [
    "-- LINEAR REGRESSION --"
   ]
  },
  {
   "cell_type": "code",
   "execution_count": null,
   "metadata": {},
   "outputs": [],
   "source": [
    "resultsGridRR = pd.DataFrame()\n",
    "for i in range (1,1000):\n",
    "    X_train, X_test, y_train, y_test = train_test_split(dfRRscaled, yRR, test_size=0.20)\n",
    "    # fit a model\n",
    "    lm = linear_model.LinearRegression()\n",
    "    model = lm.fit(X_train, y_train)\n",
    "    predictions = lm.predict(X_test)\n",
    "    slope, intercept, r_value, p_value, std_err = linregress(predictions, y_test)\n",
    "    resultsTuple = {'Slope': slope, 'intercept': intercept, 'r_value': r_value,\n",
    "                    'p_value':p_value, \n",
    "                    'std_err':std_err}\n",
    "    resultsGridRR = resultsGridRR.append(resultsTuple, ignore_index=True)\n",
    "    "
   ]
  },
  {
   "cell_type": "code",
   "execution_count": null,
   "metadata": {},
   "outputs": [],
   "source": [
    "resultsGridGWHB = pd.DataFrame()\n",
    "for i in range (1,1000):\n",
    "    X_train, X_test, y_train, y_test = train_test_split(dfGWHBscaled, yGWHB, test_size=0.20)\n",
    "    # fit a model\n",
    "    lm = linear_model.LinearRegression()\n",
    "    model = lm.fit(X_train, y_train)\n",
    "    predictions = lm.predict(X_test)\n",
    "    slope, intercept, r_value, p_value, std_err = linregress(predictions, y_test)\n",
    "    resultsTuple = {'Slope': slope, 'intercept': intercept, 'r_value': r_value,\n",
    "                    'p_value':p_value, \n",
    "                    'std_err':std_err}\n",
    "    resultsGridGWHB = resultsGridGWHB.append(resultsTuple, ignore_index=True)"
   ]
  },
  {
   "cell_type": "code",
   "execution_count": null,
   "metadata": {},
   "outputs": [],
   "source": [
    "resultsGridDJT = pd.DataFrame()\n",
    "for i in range (1,1000):\n",
    "    X_train, X_test, y_train, y_test = train_test_split(dfDJTscaled, yDJT, test_size=0.20)\n",
    "    # fit a model\n",
    "    lm = linear_model.LinearRegression()\n",
    "    model = lm.fit(X_train, y_train)\n",
    "    predictions = lm.predict(X_test)\n",
    "    slope, intercept, r_value, p_value, std_err = linregress(predictions, y_test)\n",
    "    resultsTuple = {'Slope': slope, 'intercept': intercept, 'r_value': r_value,\n",
    "                    'p_value':p_value, \n",
    "                    'std_err':std_err}\n",
    "    resultsGridDJT = resultsGridDJT.append(resultsTuple, ignore_index=True)"
   ]
  },
  {
   "cell_type": "code",
   "execution_count": null,
   "metadata": {},
   "outputs": [],
   "source": [
    "resultsGridRR.describe()"
   ]
  },
  {
   "cell_type": "code",
   "execution_count": null,
   "metadata": {},
   "outputs": [],
   "source": [
    "resultsGridGWHB.describe()"
   ]
  },
  {
   "cell_type": "code",
   "execution_count": null,
   "metadata": {},
   "outputs": [],
   "source": [
    "resultsGridDJT.describe()"
   ]
  },
  {
   "cell_type": "markdown",
   "metadata": {},
   "source": [
    "-- GAUSSIAN PROCESSES --"
   ]
  },
  {
   "cell_type": "code",
   "execution_count": null,
   "metadata": {},
   "outputs": [],
   "source": [
    "path = '/home/CAMPUS/alcantaj/Dropbox/'\n",
    "bush_df = pd.read_csv(path + 'Bush.csv')\n",
    "reagan_df = pd.read_csv(path + 'Reagan.csv')"
   ]
  },
  {
   "cell_type": "code",
   "execution_count": null,
   "metadata": {},
   "outputs": [],
   "source": [
    "minimum = reagan_df['Julian'].min() # Smallest Julian Date\n",
    "maximum = reagan_df['Julian'].max() # Maximum Julian Date"
   ]
  },
  {
   "cell_type": "code",
   "execution_count": null,
   "metadata": {},
   "outputs": [],
   "source": [
    "reagan_df['NormalisedDate'] = (reagan_df['Julian'] - minimum) / (maximum - minimum) "
   ]
  },
  {
   "cell_type": "code",
   "execution_count": null,
   "metadata": {},
   "outputs": [],
   "source": [
    "reagan_df['CountDays'] = reagan_df['Julian'] - minimum"
   ]
  },
  {
   "cell_type": "code",
   "execution_count": null,
   "metadata": {},
   "outputs": [],
   "source": [
    "reagan_df['CountDaysN'] = reagan_df['CountDays'] / 365"
   ]
  },
  {
   "cell_type": "code",
   "execution_count": null,
   "metadata": {},
   "outputs": [],
   "source": [
    "# NEED TO DROP DATA COLUMNS HERE BEFORE RUN MODEL\n",
    "reagan_df = reagan_df.drop(['Unnamed: 0', 'Filename', 'index','Date', 'JDate', 'Julian',\n",
    "                           'NormalisedDate', 'CountDays'], axis=1)"
   ]
  },
  {
   "cell_type": "code",
   "execution_count": null,
   "metadata": {},
   "outputs": [],
   "source": [
    "target = reagan_df['CountDaysN']"
   ]
  },
  {
   "cell_type": "code",
   "execution_count": null,
   "metadata": {},
   "outputs": [],
   "source": [
    "max_target = target.max()"
   ]
  },
  {
   "cell_type": "code",
   "execution_count": null,
   "metadata": {},
   "outputs": [],
   "source": [
    "# Instantiate a Gaussian Process model\n",
    "kernel = C(1.0, (1e-3, 1e3)) * RBF(185, (1e-2, 1e4))\n",
    "# kernel = RBF(10, (1e-2, 1e2))\n",
    "gp = GaussianProcessRegressor(kernel = kernel, n_restarts_optimizer=15)"
   ]
  },
  {
   "cell_type": "code",
   "execution_count": null,
   "metadata": {},
   "outputs": [],
   "source": [
    "# Split Data\n",
    "X_train, X_test, y_train, y_test = train_test_split(reagan_df, target, test_size=0.20)"
   ]
  },
  {
   "cell_type": "code",
   "execution_count": null,
   "metadata": {},
   "outputs": [],
   "source": [
    "target = np.asarray(y_train)\n",
    "variables = np.asarray(X_train)"
   ]
  },
  {
   "cell_type": "code",
   "execution_count": null,
   "metadata": {},
   "outputs": [],
   "source": [
    "# Fit to data using Maximum Likelihood Estimation of the parameters\n",
    "model = gp.fit(variables, target) # This looks fine according to documentation"
   ]
  },
  {
   "cell_type": "code",
   "execution_count": null,
   "metadata": {},
   "outputs": [],
   "source": [
    "y_pred, sigma = gp.predict(np.asarray(X_test), return_std=True)"
   ]
  },
  {
   "cell_type": "code",
   "execution_count": null,
   "metadata": {},
   "outputs": [],
   "source": [
    "# The plot\n",
    "plt.figure()\n",
    "xs = [x for x in range(0, 9)]\n",
    "ys = [x for x in range(0, 9)]\n",
    "plt.plot(xs, ys)\n",
    "plt.plot(y_test, y_pred, 'o', linestyle='None')\n",
    "plt.xlabel('True Values')\n",
    "plt.ylabel('Predictions')\n",
    "plt.axis(xscale = 0, yscale = 0)\n",
    "plt.errorbar(y_test, y_pred, yerr=sigma, elinewidth=1, fillstyle='full', linestyle ='None')"
   ]
  },
  {
   "cell_type": "code",
   "execution_count": null,
   "metadata": {},
   "outputs": [],
   "source": [
    "sqErr = (y_test - y_pred)**2"
   ]
  },
  {
   "cell_type": "code",
   "execution_count": null,
   "metadata": {},
   "outputs": [],
   "source": [
    "df = pd.DataFrame({'y_test':y_test, 'y_pred':y_pred, 'sigma': sigma, 'Squared Error': sqErr})"
   ]
  },
  {
   "cell_type": "code",
   "execution_count": null,
   "metadata": {},
   "outputs": [],
   "source": [
    "df"
   ]
  },
  {
   "cell_type": "code",
   "execution_count": null,
   "metadata": {},
   "outputs": [],
   "source": [
    "MSE = sum(sqErr) / len(sqErr)"
   ]
  },
  {
   "cell_type": "code",
   "execution_count": null,
   "metadata": {},
   "outputs": [],
   "source": [
    "MSE"
   ]
  },
  {
   "cell_type": "code",
   "execution_count": null,
   "metadata": {},
   "outputs": [],
   "source": [
    "bush_df = pd.read_csv(path + 'Bush.csv')\n",
    "reagan_df = pd.read_csv(path + 'Reagan.csv')"
   ]
  },
  {
   "cell_type": "code",
   "execution_count": null,
   "metadata": {},
   "outputs": [],
   "source": [
    "minimum = reagan_df['Julian'].min() # Smallest Julian Date\n",
    "maximum = reagan_df['Julian'].max() # Maximum Julian Date"
   ]
  },
  {
   "cell_type": "code",
   "execution_count": null,
   "metadata": {},
   "outputs": [],
   "source": [
    "reagan_df['NormalisedDate'] = (reagan_df['Julian'] - minimum) / (maximum - minimum) "
   ]
  },
  {
   "cell_type": "code",
   "execution_count": null,
   "metadata": {},
   "outputs": [],
   "source": [
    "reagan_df['CountDays'] = reagan_df['Julian'] - minimum"
   ]
  },
  {
   "cell_type": "code",
   "execution_count": null,
   "metadata": {},
   "outputs": [],
   "source": [
    "reagan_df['CountDaysN'] = reagan_df['CountDays'] / 365"
   ]
  },
  {
   "cell_type": "code",
   "execution_count": null,
   "metadata": {},
   "outputs": [],
   "source": [
    "# NEED TO DROP DATA COLUMNS HERE BEFORE RUN MODEL\n",
    "reagan_df = reagan_df.drop(['Unnamed: 0', 'Filename', 'index','Date', 'JDate', 'Julian',\n",
    "                           'NormalisedDate', 'CountDays'], axis=1)"
   ]
  },
  {
   "cell_type": "code",
   "execution_count": null,
   "metadata": {},
   "outputs": [],
   "source": [
    "target = reagan_df['CountDaysN']"
   ]
  },
  {
   "cell_type": "code",
   "execution_count": null,
   "metadata": {},
   "outputs": [],
   "source": [
    "max_target = target.max()"
   ]
  },
  {
   "cell_type": "code",
   "execution_count": null,
   "metadata": {},
   "outputs": [],
   "source": [
    "# Instantiate a Gaussian Process model\n",
    "kernel = C(1.0, (1e-3, 1e3)) * RBF(191, (1e-2, 1e4))\n",
    "# kernel = RBF(10, (1e-2, 1e2))\n",
    "gp = GaussianProcessRegressor(kernel = kernel, n_restarts_optimizer=15)"
   ]
  },
  {
   "cell_type": "code",
   "execution_count": null,
   "metadata": {},
   "outputs": [],
   "source": [
    "X_train, X_test, y_train, y_test = train_test_split(reagan_df, target, test_size=0.20)"
   ]
  },
  {
   "cell_type": "code",
   "execution_count": null,
   "metadata": {},
   "outputs": [],
   "source": [
    "Results = pd.DataFrame()\n",
    "for i in range(0, 999):\n",
    "    X_train, X_test, y_train, y_test = train_test_split(reagan_df, target, test_size=0.20)\n",
    "    targetVar = np.asarray(y_train)\n",
    "    variables = np.asarray(X_train)\n",
    "    model = gp.fit(variables, targetVar)\n",
    "    y_pred, sigma = gp.predict(np.asarray(X_test), return_std=True)\n",
    "    sqErr = (y_test - y_pred)**2\n",
    "    MSE = sum(sqErr)/len(sqErr)\n",
    "    tuple = {'MSE': MSE, 'gp.kernel':gp.kernel, 'gp.kernel_':gp.kernel_}\n",
    "    Results = Results.append(tuple, ignore_index = True)"
   ]
  },
  {
   "cell_type": "code",
   "execution_count": null,
   "metadata": {},
   "outputs": [],
   "source": [
    "Mean = Results['MSE'].mean()\n",
    "SD = Results['MSE'].std()"
   ]
  },
  {
   "cell_type": "code",
   "execution_count": null,
   "metadata": {},
   "outputs": [],
   "source": [
    "print('The Mean is', Mean)\n",
    "print('The SD is', SD)"
   ]
  }
 ],
 "metadata": {
  "kernelspec": {
   "display_name": "Python 3",
   "language": "python",
   "name": "python3"
  },
  "language_info": {
   "codemirror_mode": {
    "name": "ipython",
    "version": 3
   },
   "file_extension": ".py",
   "mimetype": "text/x-python",
   "name": "python",
   "nbconvert_exporter": "python",
   "pygments_lexer": "ipython3",
   "version": "3.6.6"
  }
 },
 "nbformat": 4,
 "nbformat_minor": 2
}
