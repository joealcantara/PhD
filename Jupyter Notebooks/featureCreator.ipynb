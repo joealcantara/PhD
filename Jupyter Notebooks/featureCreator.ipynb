{
 "cells": [
  {
   "cell_type": "markdown",
   "metadata": {},
   "source": [
    "To Do:\n",
    "\n",
    "SVR\n",
    "Gaussian Process\n",
    "Polynomial Regression\n",
    "NN\n",
    "Random Forest for Regression"
   ]
  },
  {
   "cell_type": "code",
   "execution_count": 1,
   "metadata": {},
   "outputs": [],
   "source": [
    "# Import Packages I will need\n",
    "from lex_processing import * \n",
    "import os\n",
    "import pandas as pd\n",
    "import numpy as np\n",
    "import matplotlib\n",
    "import matplotlib.pyplot as plt\n",
    "\n",
    "# To show plots in notebook\n",
    "%matplotlib inline  \n",
    "\n",
    "from sklearn import datasets, linear_model, preprocessing\n",
    "from sklearn.model_selection import train_test_split\n",
    "from matplotlib import pyplot as plt\n",
    "plt.style.use('classic')\n",
    "\n",
    "from scipy.stats import linregress\n",
    "from scipy.stats import pearsonr\n",
    "from scipy import stats\n",
    "\n",
    "from sklearn.gaussian_process import GaussianProcessRegressor\n",
    "from sklearn.gaussian_process.kernels import RBF, ConstantKernel as C\n",
    "\n",
    "from collections import Counter"
   ]
  },
  {
   "cell_type": "code",
   "execution_count": 2,
   "metadata": {},
   "outputs": [],
   "source": [
    "# Path is where the data I want to process is.\n",
    "# For Mac\n",
    "# pathReagan = '/Users/Joe/dropbox/Data/Edited Data/Presidents Data/ReaganSpeeches/'\n",
    "# pathBush = '/Users/Joe/dropbox/Data/Edited Data/Presidents Data/BushSpeeches/'\n",
    "# pathTrump = '/Users/Joe/dropbox/Data/Edited Data/Presidents Data/TrumpSpeeches/'\n",
    "# For Linux\n",
    "pathReagan = '/home/CAMPUS/alcantaj/Dropbox/Data/Edited Data/Presidents Data/ReaganSpeeches/'\n",
    "pathBush = '/home/CAMPUS/alcantaj/Dropbox/Data/Edited Data/Presidents Data/BushSpeeches/'\n",
    "pathTrump = '/home/CAMPUS/alcantaj/Dropbox/Data/Edited Data/Presidents Data/TrumpSpeeches/'"
   ]
  },
  {
   "cell_type": "code",
   "execution_count": 3,
   "metadata": {},
   "outputs": [],
   "source": [
    "dfReagan = pd.DataFrame()\n",
    "dfBush = pd.DataFrame()\n",
    "dfTrump = pd.DataFrame()"
   ]
  },
  {
   "cell_type": "code",
   "execution_count": 4,
   "metadata": {},
   "outputs": [],
   "source": [
    "for filename in os.listdir(pathReagan):\n",
    "    if filename.endswith('txt'):\n",
    "        f = open(pathReagan + filename)\n",
    "        raw = f.read()\n",
    "        # Clear raw of punctuation and tokenize for word counts.\n",
    "        wordsNoPunct = strip_punctuation(raw)\n",
    "        #hesitations = wordsNoPunct.count('—')\n",
    "        wordsNoPunct.replace(\"—\", ' ')\n",
    "        wordsNoPunct = word_tokenize(wordsNoPunct)\n",
    "        words = word_tokenize(raw)\n",
    "        # Word Counts for certain words\n",
    "        c = Counter(words)\n",
    "        Fillers = c['well'] + c['so'] + c['basically'] + c['actually'] + c['literally'] + c['um'] + c['ah']\n",
    "        NSNouns = c['something'] + c['anything'] + c['thing']\n",
    "        LIVerbs = c['be'] + c['come'] + c['do'] + c['get'] + c['give'] + c['go'] + c['have'] + c['know'] + c['look']\n",
    "        + c['make'] + c['see'] + c['tell'] + c['think'] + c['want']\n",
    "        \n",
    "        sents = sent_tokenize(raw)\n",
    "        processed = preprocess(raw)\n",
    "        lex = lexical_diversity(wordsNoPunct)\n",
    "        mls = meanLengthSentence(processed)\n",
    "        wordDict = wordCount(processed)\n",
    "        thetuple = {'Filename': filename, 'TTR': lex,\n",
    "                    'WordCount':len(wordsNoPunct), \n",
    "                    'UniqueWords':len(set(wordsNoPunct)), \n",
    "                    'MLU': mls, 'Fillers': Fillers,\n",
    "                   'NSNouns': NSNouns, 'LIVerbs': LIVerbs}\n",
    "        finalDict = {**thetuple, **wordDict}\n",
    "        dfReagan = dfReagan.append(finalDict, ignore_index = True)"
   ]
  },
  {
   "cell_type": "code",
   "execution_count": 5,
   "metadata": {},
   "outputs": [],
   "source": [
    "for filename in os.listdir(pathBush):\n",
    "    if filename.endswith('txt'):\n",
    "        f = open(pathBush + filename)\n",
    "        raw = f.read()\n",
    "        # Clear raw of punctuation and tokenize for word counts.\n",
    "        wordsNoPunct = strip_punctuation(raw)\n",
    "        #hesitations = wordsNoPunct.count('-')\n",
    "        wordsNoPunct.replace(\"-\", ' ')\n",
    "        wordsNoPunct = word_tokenize(wordsNoPunct)\n",
    "        \n",
    "        words = word_tokenize(raw)\n",
    "        # Word Counts for certain words\n",
    "        c = Counter(words)\n",
    "        Fillers = c['well'] + c['so'] + c['basically'] + c['actually'] + c['literally'] + c['um'] + c['ah']\n",
    "        NSNouns = c['something'] + c['anything'] + c['thing']\n",
    "        LIVerbs = c['be'] + c['come'] + c['do'] + c['get'] + c['give'] + c['go'] + c['have'] + c['know'] + c['look']\n",
    "        + c['make'] + c['see'] + c['tell'] + c['think'] + c['want']\n",
    "        \n",
    "        sents = sent_tokenize(raw)\n",
    "        processed = preprocess(raw)\n",
    "        lex = lexical_diversity(wordsNoPunct)\n",
    "        mls = meanLengthSentence(processed)\n",
    "        wordDict = wordCount(processed)\n",
    "        thetuple = {'Filename': filename, 'TTR': lex,\n",
    "                    'WordCount':len(wordsNoPunct), \n",
    "                    'UniqueWords':len(set(wordsNoPunct)), \n",
    "                    'MLU': mls, 'Fillers': Fillers,\n",
    "                   'NSNouns': NSNouns, 'LIVerbs': LIVerbs}\n",
    "        finalDict = {**thetuple, **wordDict}\n",
    "        dfBush = dfBush.append(finalDict, ignore_index = True)"
   ]
  },
  {
   "cell_type": "code",
   "execution_count": 6,
   "metadata": {},
   "outputs": [],
   "source": [
    "for filename in os.listdir(pathTrump):\n",
    "    if filename.endswith('txt'):\n",
    "        f = open(pathTrump + filename)\n",
    "        raw = f.read()\n",
    "        # Clear raw of punctuation and tokenize for word counts.\n",
    "        wordsNoPunct = strip_punctuation(raw)\n",
    "        #hesitations = wordsNoPunct.count('-')\n",
    "        wordsNoPunct.replace(\"-\", ' ')\n",
    "        wordsNoPunct = word_tokenize(wordsNoPunct)\n",
    "        \n",
    "        words = word_tokenize(raw)\n",
    "        # Word Counts for certain words\n",
    "        c = Counter(words)\n",
    "        Fillers = c['well'] + c['so'] + c['basically'] + c['actually'] + c['literally'] + c['um'] + c['ah']\n",
    "        NSNouns = c['something'] + c['anything'] + c['thing']\n",
    "        LIVerbs = c['be'] + c['come'] + c['do'] + c['get'] + c['give'] + c['go'] + c['have'] + c['know'] + c['look']\n",
    "        + c['make'] + c['see'] + c['tell'] + c['think'] + c['want']\n",
    "        \n",
    "        sents = sent_tokenize(raw)\n",
    "        processed = preprocess(raw)\n",
    "        lex = lexical_diversity(wordsNoPunct)\n",
    "        mls = meanLengthSentence(processed)\n",
    "        wordDict = wordCount(processed)\n",
    "        thetuple = {'Filename': filename, 'TTR': lex,\n",
    "                    'WordCount':len(wordsNoPunct), \n",
    "                    'UniqueWords':len(set(wordsNoPunct)), \n",
    "                    'MLU': mls, 'Fillers': Fillers,\n",
    "                   'NSNouns': NSNouns, 'LIVerbs': LIVerbs}\n",
    "        finalDict = {**thetuple, **wordDict}\n",
    "        dfTrump = dfTrump.append(finalDict, ignore_index = True)"
   ]
  },
  {
   "cell_type": "code",
   "execution_count": 7,
   "metadata": {},
   "outputs": [],
   "source": [
    "# Rearranging Columns\n",
    "inserted_cols = ['Filename', 'TTR','WordCount', 'UniqueWords', 'MLU', 'Fillers', 'NSNouns', 'LIVerbs']\n",
    "cols = ([col for col in inserted_cols if col in dfReagan] \n",
    "        + [col for col in dfReagan if col not in inserted_cols])\n",
    "dfReagan = dfReagan[cols]"
   ]
  },
  {
   "cell_type": "code",
   "execution_count": 8,
   "metadata": {},
   "outputs": [],
   "source": [
    "# Rearranging Columns\n",
    "inserted_cols = ['Filename', 'TTR','WordCount', 'UniqueWords', 'MLU', 'Fillers', 'NSNouns', 'LIVerbs']\n",
    "cols = ([col for col in inserted_cols if col in dfBush] \n",
    "        + [col for col in dfBush if col not in inserted_cols])\n",
    "dfBush = dfBush[cols]"
   ]
  },
  {
   "cell_type": "code",
   "execution_count": 9,
   "metadata": {},
   "outputs": [],
   "source": [
    "# Rearranging Columns\n",
    "inserted_cols = ['Filename', 'TTR','WordCount', 'UniqueWords', 'MLU', 'Fillers', 'NSNouns', 'LIVerbs']\n",
    "cols = ([col for col in inserted_cols if col in dfTrump] \n",
    "        + [col for col in dfTrump if col not in inserted_cols])\n",
    "dfTrump = dfTrump[cols]"
   ]
  },
  {
   "cell_type": "code",
   "execution_count": 10,
   "metadata": {},
   "outputs": [],
   "source": [
    "# Fill NA's with 0s as in this dataset, NAN represent the feature NOT occuring in a particular document.\n",
    "dfReagan = dfReagan.fillna(0)\n",
    "dfBush = dfBush.fillna(0)\n",
    "dfTrump = dfTrump.fillna(0)"
   ]
  },
  {
   "cell_type": "code",
   "execution_count": 11,
   "metadata": {},
   "outputs": [],
   "source": [
    "dfReagan.to_csv('testReagan.csv')\n",
    "dfBush.to_csv('testBush.csv')\n",
    "dfTrump.to_csv('testTrump.csv')"
   ]
  },
  {
   "cell_type": "code",
   "execution_count": 12,
   "metadata": {},
   "outputs": [],
   "source": [
    "testpath = '/home/CAMPUS/alcantaj/Documents/PhD/Jupyter Notebooks/'"
   ]
  },
  {
   "cell_type": "code",
   "execution_count": 13,
   "metadata": {},
   "outputs": [],
   "source": [
    "a = pd.read_csv(testpath + \"dates.csv\")\n",
    "b = pd.read_csv(testpath + \"testReagan.csv\")\n",
    "\n",
    "c = pd.read_csv(testpath + \"dates2.csv\")\n",
    "d = pd.read_csv(testpath + \"testBush.csv\")\n",
    "\n",
    "e = pd.read_csv(testpath + \"dates3.csv\")\n",
    "f = pd.read_csv(testpath + \"testTrump.csv\")"
   ]
  },
  {
   "cell_type": "code",
   "execution_count": 14,
   "metadata": {},
   "outputs": [],
   "source": [
    "a['JDate'] = [datetime.datetime.strptime(x, '%d/%m/%Y') for x in a['Date']]\n",
    "c['JDate'] = [datetime.datetime.strptime(x, '%d/%m/%Y') for x in c['Date']]\n",
    "e['JDate'] = [datetime.datetime.strptime(x, '%d/%m/%Y') for x in e['Date']]"
   ]
  },
  {
   "cell_type": "code",
   "execution_count": 15,
   "metadata": {},
   "outputs": [],
   "source": [
    "a['Julian'] = [get_julian_datetime(x) for x in a['JDate']]\n",
    "c['Julian'] = [get_julian_datetime(x) for x in c['JDate']]\n",
    "e['Julian'] = [get_julian_datetime(x) for x in e['JDate']]"
   ]
  },
  {
   "cell_type": "code",
   "execution_count": 16,
   "metadata": {},
   "outputs": [],
   "source": [
    "mergedRR = a.merge(b, on='Filename')\n",
    "mergedGWHB = c.merge(d, on='Filename')\n",
    "mergedDJT = e.merge(f, on='Filename')"
   ]
  },
  {
   "cell_type": "code",
   "execution_count": 17,
   "metadata": {},
   "outputs": [],
   "source": [
    "mergedRR = mergedRR.sort_values(by=['JDate'])\n",
    "mergedGWHB = mergedGWHB.sort_values(by=['JDate'])\n",
    "mergedDJT = mergedDJT.sort_values(by=['JDate'])"
   ]
  },
  {
   "cell_type": "code",
   "execution_count": 18,
   "metadata": {},
   "outputs": [],
   "source": [
    "# Create new labels (Index is in order of article date)\n",
    "mergedRR = mergedRR.reset_index()\n",
    "mergedRR['index'] = mergedRR.index\n",
    "mergedGWHB = mergedGWHB.reset_index()\n",
    "mergedGWHB['index'] = mergedGWHB.index\n",
    "mergedDJT = mergedDJT.reset_index()\n",
    "mergedDJT['index'] = mergedDJT.index"
   ]
  },
  {
   "cell_type": "code",
   "execution_count": 19,
   "metadata": {},
   "outputs": [],
   "source": [
    "# Dropping Redundant Columns\n",
    "mergedRR = mergedRR.drop(['Unnamed: 0'], axis=1)\n",
    "mergedGWHB = mergedGWHB.drop(['Unnamed: 0'], axis=1)\n",
    "mergedDJT = mergedDJT.drop(['Unnamed: 0'], axis=1)"
   ]
  },
  {
   "cell_type": "code",
   "execution_count": 20,
   "metadata": {},
   "outputs": [],
   "source": [
    "# To avoid confusion, rename merged to df\n",
    "dfRR = mergedRR\n",
    "dfGWHB = mergedGWHB\n",
    "dfDJT = mergedDJT"
   ]
  },
  {
   "cell_type": "code",
   "execution_count": 21,
   "metadata": {},
   "outputs": [],
   "source": [
    "# Add Target Variable\n",
    "yRR = dfRR['index']\n",
    "yGWHB = dfGWHB['index']\n",
    "yDJT = dfDJT['index']\n",
    "\n",
    "#yRR = dfRR['Julian']\n",
    "#yGWHB = dfGWHB['Julian']"
   ]
  },
  {
   "cell_type": "code",
   "execution_count": 22,
   "metadata": {},
   "outputs": [],
   "source": [
    "# Calculate some new aggregate columns\n",
    "dfRR['Nouns'] = dfRR['NN'] + dfRR['NNS']+ dfRR['NNP'] + dfRR['NNPS']\n",
    "dfRR['Nouns/100'] = dfRR['Nouns'] / 100\n",
    "dfRR['NounsNormalised'] = dfRR['Nouns'] / dfRR['WordCount']\n",
    "dfRR['Adjectives'] = dfRR['JJ'] + dfRR['JJR'] + dfRR['JJS']\n",
    "dfRR['Adjectives/100'] = dfRR['Adjectives'] / 100\n",
    "dfRR['AdjectivesNormalised'] = dfRR['Adjectives'] / dfRR['WordCount']\n",
    "dfRR['Adverbs'] = dfRR['RB'] + dfRR['RBR'] + dfRR['RBS']\n",
    "dfRR['Adverbs/100'] = dfRR['Adverbs'] / 100\n",
    "dfRR['AdverbsNormalised'] = dfRR['Adverbs'] / dfRR['WordCount']\n",
    "dfRR['Verbs'] = dfRR['VB'] + dfRR['VBD'] + dfRR['VBG'] + dfRR['VBN'] + dfRR['VBP'] + dfRR['VBZ']\n",
    "dfRR['Verbs/100'] = dfRR['Verbs'] / 100\n",
    "dfRR['VerbsNormalised'] = dfRR['Verbs'] / dfRR['WordCount']"
   ]
  },
  {
   "cell_type": "code",
   "execution_count": 23,
   "metadata": {},
   "outputs": [],
   "source": [
    "# Calculate some new aggregate columns\n",
    "dfGWHB['Nouns'] = dfGWHB['NN'] + dfGWHB['NNS']+ dfGWHB['NNP'] + dfGWHB['NNPS']\n",
    "dfGWHB['Nouns/100'] = dfGWHB['Nouns'] / 100\n",
    "dfGWHB['NounsNormalised'] = dfGWHB['Nouns'] / dfGWHB['WordCount']\n",
    "dfGWHB['Adjectives'] = dfGWHB['JJ'] + dfGWHB['JJR'] + dfGWHB['JJS']\n",
    "dfGWHB['Adjectives/100'] = dfGWHB['Adjectives'] / 100\n",
    "dfGWHB['AdjectivesNormalised'] = dfGWHB['Adjectives'] / dfGWHB['WordCount']\n",
    "dfGWHB['Adverbs'] = dfGWHB['RB'] + dfGWHB['RBR'] + dfGWHB['RBS']\n",
    "dfGWHB['Adverbs/100'] = dfGWHB['Adverbs'] / 100\n",
    "dfGWHB['AdverbsNormalised'] = dfGWHB['Adverbs'] / dfGWHB['WordCount']\n",
    "dfGWHB['Verbs'] = dfGWHB['VB'] + dfGWHB['VBD'] + dfGWHB['VBG'] + dfGWHB['VBN'] + dfGWHB['VBP'] + dfGWHB['VBZ']\n",
    "dfGWHB['Verbs/100'] = dfGWHB['Verbs'] / 100\n",
    "dfGWHB['VerbsNormalised'] = dfGWHB['Verbs'] / dfGWHB['WordCount']"
   ]
  },
  {
   "cell_type": "code",
   "execution_count": 24,
   "metadata": {},
   "outputs": [],
   "source": [
    "# Calculate some new aggregate columns\n",
    "dfDJT['Nouns'] = dfDJT['NN'] + dfDJT['NNS']+ dfDJT['NNP'] + dfDJT['NNPS']\n",
    "dfDJT['Nouns/100'] = dfDJT['Nouns'] / 100\n",
    "dfDJT['NounsNormalised'] = dfDJT['Nouns'] / dfDJT['WordCount']\n",
    "dfDJT['Adjectives'] = dfDJT['JJ'] + dfDJT['JJR'] + dfDJT['JJS']\n",
    "dfDJT['Adjectives/100'] = dfDJT['Adjectives'] / 100\n",
    "dfDJT['AdjectivesNormalised'] = dfDJT['Adjectives'] / dfDJT['WordCount']\n",
    "dfDJT['Adverbs'] = dfDJT['RB'] + dfDJT['RBR'] + dfDJT['RBS']\n",
    "dfDJT['Adverbs/100'] = dfDJT['Adverbs'] / 100\n",
    "dfDJT['AdverbsNormalised'] = dfDJT['Adverbs'] / dfDJT['WordCount']\n",
    "dfDJT['Verbs'] = dfDJT['VB'] + dfDJT['VBD'] + dfDJT['VBG'] + dfDJT['VBN'] + dfDJT['VBP'] + dfDJT['VBZ']\n",
    "dfDJT['Verbs/100'] = dfDJT['Verbs'] / 100\n",
    "dfDJT['VerbsNormalised'] = dfDJT['Verbs'] / dfDJT['WordCount']"
   ]
  },
  {
   "cell_type": "code",
   "execution_count": 25,
   "metadata": {},
   "outputs": [],
   "source": [
    "# Export dataset to csv files\n",
    "dfRR.to_csv('Reagan.csv')\n",
    "dfGWHB.to_csv('Bush.csv')\n",
    "dfDJT.to_csv('Trump.csv')"
   ]
  },
  {
   "cell_type": "markdown",
   "metadata": {},
   "source": [
    "T-Tests"
   ]
  },
  {
   "cell_type": "code",
   "execution_count": 26,
   "metadata": {},
   "outputs": [
    {
     "name": "stdout",
     "output_type": "stream",
     "text": [
      "T Value 6.75951316646184\n",
      "P Value 0.0000000002\n"
     ]
    }
   ],
   "source": [
    "t2, p2 = stats.ttest_ind(dfRR['UniqueWords'], dfGWHB['UniqueWords'])\n",
    "print('T Value', t2)\n",
    "print('P Value', '{0:.10f}'.format(p2))"
   ]
  },
  {
   "cell_type": "markdown",
   "metadata": {},
   "source": [
    "Pearson's Correlations"
   ]
  },
  {
   "cell_type": "code",
   "execution_count": 41,
   "metadata": {},
   "outputs": [
    {
     "name": "stdout",
     "output_type": "stream",
     "text": [
      "R Squared 0.9827076298239908\n",
      "P Value 0.017292370\n"
     ]
    }
   ],
   "source": [
    "r,p = pearsonr([1, 2, 3, 4], [1, 5, 7, 9])\n",
    "print('R Squared', r)\n",
    "print('P Value', '{0:.9f}'.format(p))"
   ]
  },
  {
   "cell_type": "code",
   "execution_count": 27,
   "metadata": {},
   "outputs": [
    {
     "name": "stdout",
     "output_type": "stream",
     "text": [
      "R Squared -0.5848886765334836\n",
      "P Value 0.0000244993\n"
     ]
    }
   ],
   "source": [
    "r,p = pearsonr(dfRR['UniqueWords'], dfRR['index'])\n",
    "print('R Squared', r)\n",
    "print('P Value', '{0:.10f}'.format(p))"
   ]
  },
  {
   "cell_type": "code",
   "execution_count": 28,
   "metadata": {},
   "outputs": [
    {
     "name": "stdout",
     "output_type": "stream",
     "text": [
      "R Squared -0.5756687790278094\n",
      "P Value 0.0000351506\n"
     ]
    }
   ],
   "source": [
    "r,p = pearsonr(dfRR['Nouns/100'], dfRR['index'])\n",
    "print('R Squared', r)\n",
    "print('P Value', '{0:.10f}'.format(p))"
   ]
  },
  {
   "cell_type": "code",
   "execution_count": 29,
   "metadata": {},
   "outputs": [
    {
     "name": "stdout",
     "output_type": "stream",
     "text": [
      "R Squared -0.21401649793578123\n",
      "P Value 0.0137359285\n"
     ]
    }
   ],
   "source": [
    "r,p = pearsonr(dfGWHB['Nouns/100'], dfGWHB['index'])\n",
    "print('R Squared', r)\n",
    "print('P Value', '{0:.10f}'.format(p))"
   ]
  },
  {
   "cell_type": "code",
   "execution_count": 30,
   "metadata": {},
   "outputs": [
    {
     "name": "stdout",
     "output_type": "stream",
     "text": [
      "R Squared -0.3631553129039883\n",
      "P Value 0.0142096204\n"
     ]
    }
   ],
   "source": [
    "r,p = pearsonr(dfRR['WordCount'], dfRR['index'])\n",
    "print('R Squared', r)\n",
    "print('P Value', '{0:.10f}'.format(p))"
   ]
  },
  {
   "cell_type": "code",
   "execution_count": 31,
   "metadata": {},
   "outputs": [
    {
     "name": "stdout",
     "output_type": "stream",
     "text": [
      "R Squared -0.2101381968678283\n",
      "P Value 0.0155885598\n"
     ]
    }
   ],
   "source": [
    "r,p = pearsonr(dfGWHB['WordCount'], dfGWHB['index'])\n",
    "print('R Squared', r)\n",
    "print('P Value', '{0:.10f}'.format(p))"
   ]
  },
  {
   "cell_type": "code",
   "execution_count": 42,
   "metadata": {},
   "outputs": [
    {
     "name": "stdout",
     "output_type": "stream",
     "text": [
      "R Squared 0.19926210120038373\n",
      "P Value 0.0219869231\n"
     ]
    }
   ],
   "source": [
    "r,p = pearsonr(dfGWHB['index'], (dfGWHB['TTR']))\n",
    "print('R Squared', r)\n",
    "print('P Value', '{0:.10f}'.format(p))"
   ]
  },
  {
   "cell_type": "code",
   "execution_count": 32,
   "metadata": {},
   "outputs": [
    {
     "data": {
      "text/plain": [
       "[<matplotlib.lines.Line2D at 0x7f594790ed30>]"
      ]
     },
     "execution_count": 32,
     "metadata": {},
     "output_type": "execute_result"
    },
    {
     "data": {
      "image/png": "[encoded data removed]",
      "text/plain": [
       "<Figure size 432x288 with 1 Axes>"
      ]
     },
     "metadata": {
      "needs_background": "light"
     },
     "output_type": "display_data"
    }
   ],
   "source": [
    "# Plot Mean Length of Utterance over time for RR\n",
    "xs = dfRR['index']\n",
    "ys = dfRR['MLU']\n",
    "xs = np.asarray(xs)\n",
    "trend = np.polyfit(xs, ys, 1)\n",
    "plt.plot(xs, ys, 'o')\n",
    "plt.plot(xs, trend[1] + trend[0] * xs)"
   ]
  },
  {
   "cell_type": "code",
   "execution_count": 33,
   "metadata": {},
   "outputs": [
    {
     "data": {
      "text/plain": [
       "[<matplotlib.lines.Line2D at 0x7f59455b2518>]"
      ]
     },
     "execution_count": 33,
     "metadata": {},
     "output_type": "execute_result"
    },
    {
     "data": {
      "image/png": "[encoded data removed]",
      "text/plain": [
       "<Figure size 432x288 with 1 Axes>"
      ]
     },
     "metadata": {
      "needs_background": "light"
     },
     "output_type": "display_data"
    }
   ],
   "source": [
    "# Plot Mean Length of Utterance over time for GWHB\n",
    "xs = dfGWHB['index']\n",
    "ys = dfGWHB['MLU']\n",
    "xs = np.asarray(xs)\n",
    "trend = np.polyfit(xs, ys, 1)\n",
    "plt.plot(xs, ys, 'o')\n",
    "plt.plot(xs, trend[1] + trend[0] * xs)"
   ]
  },
  {
   "cell_type": "code",
   "execution_count": 34,
   "metadata": {},
   "outputs": [
    {
     "data": {
      "text/plain": [
       "[<matplotlib.lines.Line2D at 0x7f5940030cf8>]"
      ]
     },
     "execution_count": 34,
     "metadata": {},
     "output_type": "execute_result"
    },
    {
     "data": {
      "image/png": "[encoded data removed]",
      "text/plain": [
       "<Figure size 432x288 with 1 Axes>"
      ]
     },
     "metadata": {
      "needs_background": "light"
     },
     "output_type": "display_data"
    }
   ],
   "source": [
    "# Plot Mean Length of Utterance over time for DJT\n",
    "xs = dfDJT['index']\n",
    "ys = dfDJT['MLU']\n",
    "xs = np.asarray(xs)\n",
    "trend = np.polyfit(xs, ys, 1)\n",
    "plt.plot(xs, ys, 'o')\n",
    "plt.plot(xs, trend[1] + trend[0] * xs)"
   ]
  },
  {
   "cell_type": "code",
   "execution_count": 35,
   "metadata": {},
   "outputs": [
    {
     "data": {
      "text/plain": [
       "[<matplotlib.lines.Line2D at 0x7f593bb934e0>]"
      ]
     },
     "execution_count": 35,
     "metadata": {},
     "output_type": "execute_result"
    },
    {
     "data": {
      "image/png": "[encoded data removed]",
      "text/plain": [
       "<Figure size 432x288 with 1 Axes>"
      ]
     },
     "metadata": {
      "needs_background": "light"
     },
     "output_type": "display_data"
    }
   ],
   "source": [
    "# Plot Unique Words over time for RR\n",
    "xs = dfRR['index']\n",
    "ys = dfRR['UniqueWords']\n",
    "xs = np.asarray(xs)\n",
    "trend = np.polyfit(xs, ys, 1)\n",
    "plt.plot(xs, ys, 'o')\n",
    "plt.plot(xs, trend[1] + trend[0] * xs)"
   ]
  },
  {
   "cell_type": "code",
   "execution_count": 36,
   "metadata": {},
   "outputs": [
    {
     "data": {
      "text/plain": [
       "[<matplotlib.lines.Line2D at 0x7f593bb76f60>]"
      ]
     },
     "execution_count": 36,
     "metadata": {},
     "output_type": "execute_result"
    },
    {
     "data": {
      "image/png": "[encoded data removed]",
      "text/plain": [
       "<Figure size 432x288 with 1 Axes>"
      ]
     },
     "metadata": {
      "needs_background": "light"
     },
     "output_type": "display_data"
    }
   ],
   "source": [
    "# Plot Unique Words over time for GWHB\n",
    "xs = dfGWHB['index']\n",
    "ys = dfGWHB['UniqueWords']\n",
    "xs = np.asarray(xs)\n",
    "trend = np.polyfit(xs, ys, 1)\n",
    "plt.plot(xs, ys, 'o')\n",
    "plt.plot(xs, trend[1] + trend[0] * xs)"
   ]
  },
  {
   "cell_type": "code",
   "execution_count": 37,
   "metadata": {},
   "outputs": [
    {
     "data": {
      "text/plain": [
       "[<matplotlib.lines.Line2D at 0x7f593bad0da0>]"
      ]
     },
     "execution_count": 37,
     "metadata": {},
     "output_type": "execute_result"
    },
    {
     "data": {
      "image/png": "[encoded data removed]",
      "text/plain": [
       "<Figure size 432x288 with 1 Axes>"
      ]
     },
     "metadata": {
      "needs_background": "light"
     },
     "output_type": "display_data"
    }
   ],
   "source": [
    "# Plot Unique Words over time for DJT\n",
    "xs = dfDJT['index']\n",
    "ys = dfDJT['UniqueWords']\n",
    "xs = np.asarray(xs)\n",
    "trend = np.polyfit(xs, ys, 1)\n",
    "plt.plot(xs, ys, 'o')\n",
    "plt.plot(xs, trend[1] + trend[0] * xs)"
   ]
  },
  {
   "cell_type": "code",
   "execution_count": 38,
   "metadata": {},
   "outputs": [
    {
     "data": {
      "text/plain": [
       "[<matplotlib.lines.Line2D at 0x7f593baaba90>]"
      ]
     },
     "execution_count": 38,
     "metadata": {},
     "output_type": "execute_result"
    },
    {
     "data": {
      "image/png": "[encoded data removed]",
      "text/plain": [
       "<Figure size 432x288 with 1 Axes>"
      ]
     },
     "metadata": {
      "needs_background": "light"
     },
     "output_type": "display_data"
    }
   ],
   "source": [
    "# Plot Token Type Ratio over time for RR\n",
    "xs = dfRR['index']\n",
    "ys = dfRR['TTR']\n",
    "xs = np.asarray(xs)\n",
    "trend = np.polyfit(xs, ys, 1)\n",
    "plt.plot(xs, ys, 'o')\n",
    "plt.plot(xs, trend[1] + trend[0] * xs)"
   ]
  },
  {
   "cell_type": "code",
   "execution_count": 39,
   "metadata": {},
   "outputs": [
    {
     "data": {
      "text/plain": [
       "[<matplotlib.lines.Line2D at 0x7f593ba0ff28>]"
      ]
     },
     "execution_count": 39,
     "metadata": {},
     "output_type": "execute_result"
    },
    {
     "data": {
      "image/png": "[encoded data removed]",
      "text/plain": [
       "<Figure size 432x288 with 1 Axes>"
      ]
     },
     "metadata": {
      "needs_background": "light"
     },
     "output_type": "display_data"
    }
   ],
   "source": [
    "# Plot Token Type Ratio over time for GWHB\n",
    "xs = dfGWHB['index']\n",
    "ys = dfGWHB['TTR']\n",
    "xs = np.asarray(xs)\n",
    "trend = np.polyfit(xs, ys, 1)\n",
    "plt.plot(xs, ys, 'o')\n",
    "plt.plot(xs, trend[1] + trend[0] * xs)"
   ]
  },
  {
   "cell_type": "code",
   "execution_count": 40,
   "metadata": {},
   "outputs": [
    {
     "data": {
      "text/plain": [
       "[<matplotlib.lines.Line2D at 0x7f593b9fd240>]"
      ]
     },
     "execution_count": 40,
     "metadata": {},
     "output_type": "execute_result"
    },
    {
     "data": {
      "image/png": "[encoded data removed]",
      "text/plain": [
       "<Figure size 432x288 with 1 Axes>"
      ]
     },
     "metadata": {
      "needs_background": "light"
     },
     "output_type": "display_data"
    }
   ],
   "source": [
    "# Plot Token Type Ratio over time for DJT\n",
    "xs = dfDJT['index']\n",
    "ys = dfDJT['TTR']\n",
    "xs = np.asarray(xs)\n",
    "trend = np.polyfit(xs, ys, 1)\n",
    "plt.plot(xs, ys, 'o')\n",
    "plt.plot(xs, trend[1] + trend[0] * xs)"
   ]
  },
  {
   "cell_type": "code",
   "execution_count": 41,
   "metadata": {},
   "outputs": [
    {
     "data": {
      "text/plain": [
       "[<matplotlib.lines.Line2D at 0x7f593b953e10>]"
      ]
     },
     "execution_count": 41,
     "metadata": {},
     "output_type": "execute_result"
    },
    {
     "data": {
      "image/png": "[encoded data removed]",
      "text/plain": [
       "<Figure size 432x288 with 1 Axes>"
      ]
     },
     "metadata": {
      "needs_background": "light"
     },
     "output_type": "display_data"
    }
   ],
   "source": [
    "# Plot Word Count over time for RR\n",
    "xs = dfRR['index']\n",
    "ys = dfRR['WordCount']\n",
    "xs = np.asarray(xs)\n",
    "trend = np.polyfit(xs, ys, 1)\n",
    "plt.plot(xs, ys, 'o')\n",
    "plt.plot(xs, trend[1] + trend[0] * xs)"
   ]
  },
  {
   "cell_type": "code",
   "execution_count": 42,
   "metadata": {},
   "outputs": [
    {
     "data": {
      "text/plain": [
       "[<matplotlib.lines.Line2D at 0x7f593b8c6588>]"
      ]
     },
     "execution_count": 42,
     "metadata": {},
     "output_type": "execute_result"
    },
    {
     "data": {
      "image/png": "[encoded data removed]",
      "text/plain": [
       "<Figure size 432x288 with 1 Axes>"
      ]
     },
     "metadata": {
      "needs_background": "light"
     },
     "output_type": "display_data"
    }
   ],
   "source": [
    "# Plot Word Count over time for GHWB\n",
    "xs = dfGWHB['index']\n",
    "ys = dfGWHB['WordCount']\n",
    "xs = np.asarray(xs)\n",
    "trend = np.polyfit(xs, ys, 1)\n",
    "plt.plot(xs, ys, 'o')\n",
    "plt.plot(xs, trend[1] + trend[0] * xs)"
   ]
  },
  {
   "cell_type": "code",
   "execution_count": 43,
   "metadata": {},
   "outputs": [
    {
     "data": {
      "text/plain": [
       "[<matplotlib.lines.Line2D at 0x7f593b8a5a20>]"
      ]
     },
     "execution_count": 43,
     "metadata": {},
     "output_type": "execute_result"
    },
    {
     "data": {
      "image/png": "[encoded data removed]",
      "text/plain": [
       "<Figure size 432x288 with 1 Axes>"
      ]
     },
     "metadata": {
      "needs_background": "light"
     },
     "output_type": "display_data"
    }
   ],
   "source": [
    "# Plot Word Count over time for DJT\n",
    "xs = dfDJT['index']\n",
    "ys = dfDJT['WordCount']\n",
    "xs = np.asarray(xs)\n",
    "trend = np.polyfit(xs, ys, 1)\n",
    "plt.plot(xs, ys, 'o')\n",
    "plt.plot(xs, trend[1] + trend[0] * xs)"
   ]
  },
  {
   "cell_type": "code",
   "execution_count": 44,
   "metadata": {},
   "outputs": [
    {
     "data": {
      "text/plain": [
       "[<matplotlib.lines.Line2D at 0x7f593b819828>]"
      ]
     },
     "execution_count": 44,
     "metadata": {},
     "output_type": "execute_result"
    },
    {
     "data": {
      "image/png": "[encoded data removed]",
      "text/plain": [
       "<Figure size 432x288 with 1 Axes>"
      ]
     },
     "metadata": {
      "needs_background": "light"
     },
     "output_type": "display_data"
    }
   ],
   "source": [
    "# Plot Nouns per 100 over time for RR\n",
    "xs = dfRR['index']\n",
    "ys = dfRR['Nouns/100']\n",
    "xs = np.asarray(xs)\n",
    "trend = np.polyfit(xs, ys, 1) # fit a straight line\n",
    "plt.plot(xs, ys,'o')\n",
    "plt.plot(xs,trend[1]+trend[0]*xs)"
   ]
  },
  {
   "cell_type": "code",
   "execution_count": 45,
   "metadata": {},
   "outputs": [
    {
     "data": {
      "text/plain": [
       "[<matplotlib.lines.Line2D at 0x7f593b7892e8>]"
      ]
     },
     "execution_count": 45,
     "metadata": {},
     "output_type": "execute_result"
    },
    {
     "data": {
      "image/png": "[encoded data removed]",
      "text/plain": [
       "<Figure size 432x288 with 1 Axes>"
      ]
     },
     "metadata": {
      "needs_background": "light"
     },
     "output_type": "display_data"
    }
   ],
   "source": [
    "# Plot Nouns per 100 over time for GHWB\n",
    "xs = dfGWHB['index']\n",
    "ys = dfGWHB['Nouns/100']\n",
    "xs = np.asarray(xs)\n",
    "trend = np.polyfit(xs, ys, 1) # fit a straight line\n",
    "plt.plot(xs, ys,'o')\n",
    "plt.plot(xs,trend[1]+trend[0]*xs)"
   ]
  },
  {
   "cell_type": "code",
   "execution_count": 46,
   "metadata": {},
   "outputs": [
    {
     "data": {
      "text/plain": [
       "[<matplotlib.lines.Line2D at 0x7f593b773940>]"
      ]
     },
     "execution_count": 46,
     "metadata": {},
     "output_type": "execute_result"
    },
    {
     "data": {
      "image/png": "[encoded data removed]",
      "text/plain": [
       "<Figure size 432x288 with 1 Axes>"
      ]
     },
     "metadata": {
      "needs_background": "light"
     },
     "output_type": "display_data"
    }
   ],
   "source": [
    "# Plot Nouns per 100 over time for DJT\n",
    "xs = dfDJT['index']\n",
    "ys = dfDJT['Nouns/100']\n",
    "xs = np.asarray(xs)\n",
    "trend = np.polyfit(xs, ys, 1) # fit a straight line\n",
    "plt.plot(xs, ys,'o')\n",
    "plt.plot(xs,trend[1]+trend[0]*xs)"
   ]
  },
  {
   "cell_type": "code",
   "execution_count": 47,
   "metadata": {},
   "outputs": [
    {
     "data": {
      "text/plain": [
       "[<matplotlib.lines.Line2D at 0x7f593b6e5198>]"
      ]
     },
     "execution_count": 47,
     "metadata": {},
     "output_type": "execute_result"
    },
    {
     "data": {
      "image/png": "[encoded data removed]",
      "text/plain": [
       "<Figure size 432x288 with 1 Axes>"
      ]
     },
     "metadata": {
      "needs_background": "light"
     },
     "output_type": "display_data"
    }
   ],
   "source": [
    "# Plot Verbs per 100 over time for RR\n",
    "xs = dfRR['index']\n",
    "ys = dfRR['Verbs/100']\n",
    "xs = np.asarray(xs)\n",
    "trend = np.polyfit(xs, ys, 1) # fit a straight line\n",
    "plt.plot(xs, ys,'o')\n",
    "plt.plot(xs,trend[1]+trend[0]*xs)"
   ]
  },
  {
   "cell_type": "code",
   "execution_count": 48,
   "metadata": {},
   "outputs": [
    {
     "data": {
      "text/plain": [
       "[<matplotlib.lines.Line2D at 0x7f593b64f320>]"
      ]
     },
     "execution_count": 48,
     "metadata": {},
     "output_type": "execute_result"
    },
    {
     "data": {
      "image/png": "[encoded data removed]",
      "text/plain": [
       "<Figure size 432x288 with 1 Axes>"
      ]
     },
     "metadata": {
      "needs_background": "light"
     },
     "output_type": "display_data"
    }
   ],
   "source": [
    "# Plot Verbs per 100 over time for GHWB\n",
    "xs = dfGWHB['index']\n",
    "ys = dfGWHB['Verbs/100']\n",
    "xs = np.asarray(xs)\n",
    "trend = np.polyfit(xs, ys, 1) # fit a straight line\n",
    "plt.plot(xs, ys,'o')\n",
    "plt.plot(xs,trend[1]+trend[0]*xs)"
   ]
  },
  {
   "cell_type": "code",
   "execution_count": 49,
   "metadata": {},
   "outputs": [
    {
     "data": {
      "text/plain": [
       "[<matplotlib.lines.Line2D at 0x7f593b63da90>]"
      ]
     },
     "execution_count": 49,
     "metadata": {},
     "output_type": "execute_result"
    },
    {
     "data": {
      "image/png": "[encoded data removed]",
      "text/plain": [
       "<Figure size 432x288 with 1 Axes>"
      ]
     },
     "metadata": {
      "needs_background": "light"
     },
     "output_type": "display_data"
    }
   ],
   "source": [
    "# Plot Verbs per 100 over time for DJT\n",
    "xs = dfDJT['index']\n",
    "ys = dfDJT['Verbs/100']\n",
    "xs = np.asarray(xs)\n",
    "trend = np.polyfit(xs, ys, 1) # fit a straight line\n",
    "plt.plot(xs, ys,'o')\n",
    "plt.plot(xs,trend[1]+trend[0]*xs)"
   ]
  },
  {
   "cell_type": "code",
   "execution_count": 50,
   "metadata": {},
   "outputs": [
    {
     "data": {
      "text/plain": [
       "[<matplotlib.lines.Line2D at 0x7f593b591fd0>]"
      ]
     },
     "execution_count": 50,
     "metadata": {},
     "output_type": "execute_result"
    },
    {
     "data": {
      "image/png": "[encoded data removed]",
      "text/plain": [
       "<Figure size 432x288 with 1 Axes>"
      ]
     },
     "metadata": {
      "needs_background": "light"
     },
     "output_type": "display_data"
    }
   ],
   "source": [
    "# Plot Adjectives per 100 over time for RR\n",
    "xs = dfRR['index']\n",
    "ys = dfRR['Adjectives/100']\n",
    "xs = np.asarray(xs)\n",
    "trend = np.polyfit(xs, ys, 1) # fit a straight line\n",
    "plt.plot(xs, ys,'o')\n",
    "plt.plot(xs,trend[1]+trend[0]*xs)"
   ]
  },
  {
   "cell_type": "code",
   "execution_count": 51,
   "metadata": {},
   "outputs": [
    {
     "data": {
      "text/plain": [
       "[<matplotlib.lines.Line2D at 0x7f593b512470>]"
      ]
     },
     "execution_count": 51,
     "metadata": {},
     "output_type": "execute_result"
    },
    {
     "data": {
      "image/png": "[encoded data removed]",
      "text/plain": [
       "<Figure size 432x288 with 1 Axes>"
      ]
     },
     "metadata": {
      "needs_background": "light"
     },
     "output_type": "display_data"
    }
   ],
   "source": [
    "# Plot Adjectives per 100 over time for GHWB\n",
    "xs = dfGWHB['index']\n",
    "ys = dfGWHB['Adjectives/100']\n",
    "xs = np.asarray(xs)\n",
    "trend = np.polyfit(xs, ys, 1) # fit a straight line\n",
    "plt.plot(xs, ys,'o')\n",
    "plt.plot(xs,trend[1]+trend[0]*xs)"
   ]
  },
  {
   "cell_type": "code",
   "execution_count": 52,
   "metadata": {},
   "outputs": [
    {
     "data": {
      "text/plain": [
       "[<matplotlib.lines.Line2D at 0x7f593b4ebe10>]"
      ]
     },
     "execution_count": 52,
     "metadata": {},
     "output_type": "execute_result"
    },
    {
     "data": {
      "image/png": "[encoded data removed]",
      "text/plain": [
       "<Figure size 432x288 with 1 Axes>"
      ]
     },
     "metadata": {
      "needs_background": "light"
     },
     "output_type": "display_data"
    }
   ],
   "source": [
    "# Plot Adjectives per 100 over time for DJT\n",
    "xs = dfDJT['index']\n",
    "ys = dfDJT['Adjectives/100']\n",
    "xs = np.asarray(xs)\n",
    "trend = np.polyfit(xs, ys, 1) # fit a straight line\n",
    "plt.plot(xs, ys,'o')\n",
    "plt.plot(xs,trend[1]+trend[0]*xs)"
   ]
  },
  {
   "cell_type": "code",
   "execution_count": 53,
   "metadata": {},
   "outputs": [
    {
     "data": {
      "text/plain": [
       "[<matplotlib.lines.Line2D at 0x7f593b4568d0>]"
      ]
     },
     "execution_count": 53,
     "metadata": {},
     "output_type": "execute_result"
    },
    {
     "data": {
      "image/png": "[encoded data removed]",
      "text/plain": [
       "<Figure size 432x288 with 1 Axes>"
      ]
     },
     "metadata": {
      "needs_background": "light"
     },
     "output_type": "display_data"
    }
   ],
   "source": [
    "# Plot Adverbs per 100 over time for RR\n",
    "xs = dfRR['index']\n",
    "ys = dfRR['Adverbs/100']\n",
    "xs = np.asarray(xs)\n",
    "trend = np.polyfit(xs, ys, 1) # fit a straight line\n",
    "plt.plot(xs, ys,'o')\n",
    "plt.plot(xs,trend[1]+trend[0]*xs)"
   ]
  },
  {
   "cell_type": "code",
   "execution_count": 54,
   "metadata": {},
   "outputs": [
    {
     "data": {
      "text/plain": [
       "[<matplotlib.lines.Line2D at 0x7f593b3c5a20>]"
      ]
     },
     "execution_count": 54,
     "metadata": {},
     "output_type": "execute_result"
    },
    {
     "data": {
      "image/png": "[encoded data removed]",
      "text/plain": [
       "<Figure size 432x288 with 1 Axes>"
      ]
     },
     "metadata": {
      "needs_background": "light"
     },
     "output_type": "display_data"
    }
   ],
   "source": [
    "# Plot Adverbs per 100 over time for GHWB\n",
    "xs = dfGWHB['index']\n",
    "ys = dfGWHB['Adverbs/100']\n",
    "xs = np.asarray(xs)\n",
    "trend = np.polyfit(xs, ys, 1) # fit a straight line\n",
    "plt.plot(xs, ys,'o')\n",
    "plt.plot(xs,trend[1]+trend[0]*xs)"
   ]
  },
  {
   "cell_type": "code",
   "execution_count": 55,
   "metadata": {},
   "outputs": [
    {
     "data": {
      "text/plain": [
       "[<matplotlib.lines.Line2D at 0x7f593b3afeb8>]"
      ]
     },
     "execution_count": 55,
     "metadata": {},
     "output_type": "execute_result"
    },
    {
     "data": {
      "image/png": "[encoded data removed]",
      "text/plain": [
       "<Figure size 432x288 with 1 Axes>"
      ]
     },
     "metadata": {
      "needs_background": "light"
     },
     "output_type": "display_data"
    }
   ],
   "source": [
    "# Plot Adverbs per 100 over time for DJT\n",
    "xs = dfDJT['index']\n",
    "ys = dfDJT['Adverbs/100']\n",
    "xs = np.asarray(xs)\n",
    "trend = np.polyfit(xs, ys, 1) # fit a straight line\n",
    "plt.plot(xs, ys,'o')\n",
    "plt.plot(xs,trend[1]+trend[0]*xs)"
   ]
  },
  {
   "cell_type": "code",
   "execution_count": 56,
   "metadata": {},
   "outputs": [
    {
     "data": {
      "text/plain": [
       "[<matplotlib.lines.Line2D at 0x7f593b31f4e0>]"
      ]
     },
     "execution_count": 56,
     "metadata": {},
     "output_type": "execute_result"
    },
    {
     "data": {
      "image/png": "[encoded data removed]",
      "text/plain": [
       "<Figure size 432x288 with 1 Axes>"
      ]
     },
     "metadata": {
      "needs_background": "light"
     },
     "output_type": "display_data"
    }
   ],
   "source": [
    "xs = dfRR['index']\n",
    "ys = dfRR['NounsNormalised']\n",
    "xs = np.asarray(xs)\n",
    "trend = np.polyfit(xs, ys, 1) # fit a straight line\n",
    "plt.plot(xs, ys,'o')\n",
    "plt.plot(xs,trend[1]+trend[0]*xs)"
   ]
  },
  {
   "cell_type": "code",
   "execution_count": 57,
   "metadata": {},
   "outputs": [
    {
     "data": {
      "text/plain": [
       "[<matplotlib.lines.Line2D at 0x7f593b28b3c8>]"
      ]
     },
     "execution_count": 57,
     "metadata": {},
     "output_type": "execute_result"
    },
    {
     "data": {
      "image/png": "[encoded data removed]",
      "text/plain": [
       "<Figure size 432x288 with 1 Axes>"
      ]
     },
     "metadata": {
      "needs_background": "light"
     },
     "output_type": "display_data"
    }
   ],
   "source": [
    "xs = dfGWHB['index']\n",
    "ys = dfGWHB['NounsNormalised']\n",
    "xs = np.asarray(xs)\n",
    "trend = np.polyfit(xs, ys, 1) # fit a straight line\n",
    "plt.plot(xs, ys,'o')\n",
    "plt.plot(xs,trend[1]+trend[0]*xs)"
   ]
  },
  {
   "cell_type": "code",
   "execution_count": 58,
   "metadata": {},
   "outputs": [
    {
     "data": {
      "text/plain": [
       "[<matplotlib.lines.Line2D at 0x7f593b26e908>]"
      ]
     },
     "execution_count": 58,
     "metadata": {},
     "output_type": "execute_result"
    },
    {
     "data": {
      "image/png": "[encoded data removed]",
      "text/plain": [
       "<Figure size 432x288 with 1 Axes>"
      ]
     },
     "metadata": {
      "needs_background": "light"
     },
     "output_type": "display_data"
    }
   ],
   "source": [
    "xs = dfDJT['index']\n",
    "ys = dfDJT['NounsNormalised']\n",
    "xs = np.asarray(xs)\n",
    "trend = np.polyfit(xs, ys, 1) # fit a straight line\n",
    "plt.plot(xs, ys,'o')\n",
    "plt.plot(xs,trend[1]+trend[0]*xs)"
   ]
  },
  {
   "cell_type": "code",
   "execution_count": 59,
   "metadata": {},
   "outputs": [
    {
     "data": {
      "text/plain": [
       "[<matplotlib.lines.Line2D at 0x7f594543b208>]"
      ]
     },
     "execution_count": 59,
     "metadata": {},
     "output_type": "execute_result"
    },
    {
     "data": {
      "image/png": "[encoded data removed]",
      "text/plain": [
       "<Figure size 432x288 with 1 Axes>"
      ]
     },
     "metadata": {
      "needs_background": "light"
     },
     "output_type": "display_data"
    }
   ],
   "source": [
    "xs = dfRR['index']\n",
    "ys = dfRR['Fillers']\n",
    "xs = np.asarray(xs)\n",
    "trend = np.polyfit(xs, ys, 1) # fit a straight line\n",
    "plt.plot(xs, ys,'o')\n",
    "plt.plot(xs,trend[1]+trend[0]*xs)"
   ]
  },
  {
   "cell_type": "code",
   "execution_count": 60,
   "metadata": {},
   "outputs": [
    {
     "data": {
      "text/plain": [
       "[<matplotlib.lines.Line2D at 0x7f593b1b5400>]"
      ]
     },
     "execution_count": 60,
     "metadata": {},
     "output_type": "execute_result"
    },
    {
     "data": {
      "image/png": "[encoded data removed]",
      "text/plain": [
       "<Figure size 432x288 with 1 Axes>"
      ]
     },
     "metadata": {
      "needs_background": "light"
     },
     "output_type": "display_data"
    }
   ],
   "source": [
    "xs = dfGWHB['index']\n",
    "ys = dfGWHB['Fillers']\n",
    "xs = np.asarray(xs)\n",
    "trend = np.polyfit(xs, ys, 1) # fit a straight line\n",
    "plt.plot(xs, ys,'o')\n",
    "plt.plot(xs,trend[1]+trend[0]*xs)"
   ]
  },
  {
   "cell_type": "code",
   "execution_count": 61,
   "metadata": {},
   "outputs": [
    {
     "data": {
      "text/plain": [
       "[<matplotlib.lines.Line2D at 0x7f593b123630>]"
      ]
     },
     "execution_count": 61,
     "metadata": {},
     "output_type": "execute_result"
    },
    {
     "data": {
      "image/png": "[encoded data removed]",
      "text/plain": [
       "<Figure size 432x288 with 1 Axes>"
      ]
     },
     "metadata": {
      "needs_background": "light"
     },
     "output_type": "display_data"
    }
   ],
   "source": [
    "xs = dfDJT['index']\n",
    "ys = dfDJT['Fillers']\n",
    "xs = np.asarray(xs)\n",
    "trend = np.polyfit(xs, ys, 1) # fit a straight line\n",
    "plt.plot(xs, ys,'o')\n",
    "plt.plot(xs,trend[1]+trend[0]*xs)"
   ]
  },
  {
   "cell_type": "code",
   "execution_count": 62,
   "metadata": {},
   "outputs": [
    {
     "data": {
      "text/plain": [
       "[<matplotlib.lines.Line2D at 0x7f593b08e518>]"
      ]
     },
     "execution_count": 62,
     "metadata": {},
     "output_type": "execute_result"
    },
    {
     "data": {
      "image/png": "[encoded data removed]",
      "text/plain": [
       "<Figure size 432x288 with 1 Axes>"
      ]
     },
     "metadata": {
      "needs_background": "light"
     },
     "output_type": "display_data"
    }
   ],
   "source": [
    "xs = dfRR['index']\n",
    "ys = dfRR['NSNouns']\n",
    "xs = np.asarray(xs)\n",
    "trend = np.polyfit(xs, ys, 1) # fit a straight line\n",
    "plt.plot(xs, ys,'o')\n",
    "plt.plot(xs,trend[1]+trend[0]*xs)"
   ]
  },
  {
   "cell_type": "code",
   "execution_count": 63,
   "metadata": {},
   "outputs": [
    {
     "data": {
      "text/plain": [
       "[<matplotlib.lines.Line2D at 0x7f593b065cf8>]"
      ]
     },
     "execution_count": 63,
     "metadata": {},
     "output_type": "execute_result"
    },
    {
     "data": {
      "image/png": "[encoded data removed]",
      "text/plain": [
       "<Figure size 432x288 with 1 Axes>"
      ]
     },
     "metadata": {
      "needs_background": "light"
     },
     "output_type": "display_data"
    }
   ],
   "source": [
    "xs = dfGWHB['index']\n",
    "ys = dfGWHB['NSNouns']\n",
    "xs = np.asarray(xs)\n",
    "trend = np.polyfit(xs, ys, 1) # fit a straight line\n",
    "plt.plot(xs, ys,'o')\n",
    "plt.plot(xs,trend[1]+trend[0]*xs)"
   ]
  },
  {
   "cell_type": "code",
   "execution_count": 64,
   "metadata": {},
   "outputs": [
    {
     "data": {
      "text/plain": [
       "[<matplotlib.lines.Line2D at 0x7f593afc7320>]"
      ]
     },
     "execution_count": 64,
     "metadata": {},
     "output_type": "execute_result"
    },
    {
     "data": {
      "image/png": "[encoded data removed]",
      "text/plain": [
       "<Figure size 432x288 with 1 Axes>"
      ]
     },
     "metadata": {
      "needs_background": "light"
     },
     "output_type": "display_data"
    }
   ],
   "source": [
    "xs = dfDJT['index']\n",
    "ys = dfDJT['NSNouns']\n",
    "xs = np.asarray(xs)\n",
    "trend = np.polyfit(xs, ys, 1) # fit a straight line\n",
    "plt.plot(xs, ys,'o')\n",
    "plt.plot(xs,trend[1]+trend[0]*xs)"
   ]
  },
  {
   "cell_type": "code",
   "execution_count": 65,
   "metadata": {},
   "outputs": [
    {
     "data": {
      "text/plain": [
       "[<matplotlib.lines.Line2D at 0x7f593afa3a58>]"
      ]
     },
     "execution_count": 65,
     "metadata": {},
     "output_type": "execute_result"
    },
    {
     "data": {
      "image/png": "[encoded data removed]",
      "text/plain": [
       "<Figure size 432x288 with 1 Axes>"
      ]
     },
     "metadata": {
      "needs_background": "light"
     },
     "output_type": "display_data"
    }
   ],
   "source": [
    "xs = dfRR['index']\n",
    "ys = dfRR['LIVerbs']\n",
    "xs = np.asarray(xs)\n",
    "trend = np.polyfit(xs, ys, 1) # fit a straight line\n",
    "plt.plot(xs, ys,'o')\n",
    "plt.plot(xs,trend[1]+trend[0]*xs)"
   ]
  },
  {
   "cell_type": "code",
   "execution_count": 66,
   "metadata": {},
   "outputs": [
    {
     "data": {
      "text/plain": [
       "[<matplotlib.lines.Line2D at 0x7f593af12b00>]"
      ]
     },
     "execution_count": 66,
     "metadata": {},
     "output_type": "execute_result"
    },
    {
     "data": {
      "image/png": "[encoded data removed]",
      "text/plain": [
       "<Figure size 432x288 with 1 Axes>"
      ]
     },
     "metadata": {
      "needs_background": "light"
     },
     "output_type": "display_data"
    }
   ],
   "source": [
    "xs = dfGWHB['index']\n",
    "ys = dfGWHB['LIVerbs']\n",
    "xs = np.asarray(xs)\n",
    "trend = np.polyfit(xs, ys, 1) # fit a straight line\n",
    "plt.plot(xs, ys,'o')\n",
    "plt.plot(xs,trend[1]+trend[0]*xs)"
   ]
  },
  {
   "cell_type": "code",
   "execution_count": 67,
   "metadata": {},
   "outputs": [
    {
     "data": {
      "text/plain": [
       "[<matplotlib.lines.Line2D at 0x7f593aef95c0>]"
      ]
     },
     "execution_count": 67,
     "metadata": {},
     "output_type": "execute_result"
    },
    {
     "data": {
      "image/png": "[encoded data removed]",
      "text/plain": [
       "<Figure size 432x288 with 1 Axes>"
      ]
     },
     "metadata": {
      "needs_background": "light"
     },
     "output_type": "display_data"
    }
   ],
   "source": [
    "xs = dfDJT['index']\n",
    "ys = dfDJT['LIVerbs']\n",
    "xs = np.asarray(xs)\n",
    "trend = np.polyfit(xs, ys, 1) # fit a straight line\n",
    "plt.plot(xs, ys,'o')\n",
    "plt.plot(xs,trend[1]+trend[0]*xs)"
   ]
  },
  {
   "cell_type": "code",
   "execution_count": 68,
   "metadata": {},
   "outputs": [],
   "source": [
    "labelsRR = dfRR['Filename']\n",
    "dfRR = dfRR.drop(['Filename', 'JDate', 'Julian', 'Date', 'index'], axis=1)\n",
    "labelsGHWB = dfGWHB['Filename']\n",
    "dfGWHB = dfGWHB.drop(['Filename', 'JDate', 'Julian', 'Date', 'index'], axis=1)\n",
    "labelsDJT = dfDJT['Filename']\n",
    "dfDJT = dfDJT.drop(['Filename', 'JDate', 'Julian', 'Date', 'index'], axis=1)"
   ]
  },
  {
   "cell_type": "code",
   "execution_count": 69,
   "metadata": {},
   "outputs": [
    {
     "name": "stderr",
     "output_type": "stream",
     "text": [
      "/home/CAMPUS/alcantaj/anaconda3/lib/python3.7/site-packages/sklearn/utils/validation.py:595: DataConversionWarning: Data with input dtype int64 was converted to float64 by the scale function.\n",
      "  warnings.warn(msg, DataConversionWarning)\n",
      "/home/CAMPUS/alcantaj/anaconda3/lib/python3.7/site-packages/sklearn/utils/validation.py:595: DataConversionWarning: Data with input dtype int64 was converted to float64 by the scale function.\n",
      "  warnings.warn(msg, DataConversionWarning)\n",
      "/home/CAMPUS/alcantaj/anaconda3/lib/python3.7/site-packages/sklearn/utils/validation.py:595: DataConversionWarning: Data with input dtype int64 was converted to float64 by the scale function.\n",
      "  warnings.warn(msg, DataConversionWarning)\n"
     ]
    }
   ],
   "source": [
    "# Scale the data\n",
    "yRRscaled = preprocessing.scale(yRR)\n",
    "dfRRscaled = preprocessing.scale(dfRR)\n",
    "\n",
    "yGWHBscaled = preprocessing.scale(yGWHB)\n",
    "dfGWHBscaled = preprocessing.scale(dfGWHB)\n",
    "\n",
    "yDJTscaled = preprocessing.scale(yDJT)\n",
    "dfDJTscaled = preprocessing.scale(dfDJT)"
   ]
  },
  {
   "cell_type": "markdown",
   "metadata": {},
   "source": [
    "-- LINEAR REGRESSION --"
   ]
  },
  {
   "cell_type": "code",
   "execution_count": 70,
   "metadata": {},
   "outputs": [],
   "source": [
    "resultsGridRR = pd.DataFrame()\n",
    "for i in range (1,1000):\n",
    "    X_train, X_test, y_train, y_test = train_test_split(dfRRscaled, yRR, test_size=0.20)\n",
    "    # fit a model\n",
    "    lm = linear_model.LinearRegression()\n",
    "    model = lm.fit(X_train, y_train)\n",
    "    predictions = lm.predict(X_test)\n",
    "    slope, intercept, r_value, p_value, std_err = linregress(predictions, y_test)\n",
    "    resultsTuple = {'Slope': slope, 'intercept': intercept, 'r_value': r_value,\n",
    "                    'p_value':p_value, \n",
    "                    'std_err':std_err}\n",
    "    resultsGridRR = resultsGridRR.append(resultsTuple, ignore_index=True)\n",
    "    "
   ]
  },
  {
   "cell_type": "code",
   "execution_count": 71,
   "metadata": {},
   "outputs": [],
   "source": [
    "resultsGridGWHB = pd.DataFrame()\n",
    "for i in range (1,1000):\n",
    "    X_train, X_test, y_train, y_test = train_test_split(dfGWHBscaled, yGWHB, test_size=0.20)\n",
    "    # fit a model\n",
    "    lm = linear_model.LinearRegression()\n",
    "    model = lm.fit(X_train, y_train)\n",
    "    predictions = lm.predict(X_test)\n",
    "    slope, intercept, r_value, p_value, std_err = linregress(predictions, y_test)\n",
    "    resultsTuple = {'Slope': slope, 'intercept': intercept, 'r_value': r_value,\n",
    "                    'p_value':p_value, \n",
    "                    'std_err':std_err}\n",
    "    resultsGridGWHB = resultsGridGWHB.append(resultsTuple, ignore_index=True)"
   ]
  },
  {
   "cell_type": "code",
   "execution_count": 72,
   "metadata": {},
   "outputs": [],
   "source": [
    "resultsGridDJT = pd.DataFrame()\n",
    "for i in range (1,1000):\n",
    "    X_train, X_test, y_train, y_test = train_test_split(dfDJTscaled, yDJT, test_size=0.20)\n",
    "    # fit a model\n",
    "    lm = linear_model.LinearRegression()\n",
    "    model = lm.fit(X_train, y_train)\n",
    "    predictions = lm.predict(X_test)\n",
    "    slope, intercept, r_value, p_value, std_err = linregress(predictions, y_test)\n",
    "    resultsTuple = {'Slope': slope, 'intercept': intercept, 'r_value': r_value,\n",
    "                    'p_value':p_value, \n",
    "                    'std_err':std_err}\n",
    "    resultsGridDJT = resultsGridDJT.append(resultsTuple, ignore_index=True)"
   ]
  },
  {
   "cell_type": "code",
   "execution_count": 73,
   "metadata": {},
   "outputs": [
    {
     "data": {
      "text/html": [
       "<div>\n",
       "<style scoped>\n",
       "    .dataframe tbody tr th:only-of-type {\n",
       "        vertical-align: middle;\n",
       "    }\n",
       "\n",
       "    .dataframe tbody tr th {\n",
       "        vertical-align: top;\n",
       "    }\n",
       "\n",
       "    .dataframe thead th {\n",
       "        text-align: right;\n",
       "    }\n",
       "</style>\n",
       "<table border=\"1\" class=\"dataframe\">\n",
       "  <thead>\n",
       "    <tr style=\"text-align: right;\">\n",
       "      <th></th>\n",
       "      <th>Slope</th>\n",
       "      <th>intercept</th>\n",
       "      <th>p_value</th>\n",
       "      <th>r_value</th>\n",
       "      <th>std_err</th>\n",
       "    </tr>\n",
       "  </thead>\n",
       "  <tbody>\n",
       "    <tr>\n",
       "      <th>count</th>\n",
       "      <td>999.000000</td>\n",
       "      <td>999.000000</td>\n",
       "      <td>999.000000</td>\n",
       "      <td>999.000000</td>\n",
       "      <td>999.000000</td>\n",
       "    </tr>\n",
       "    <tr>\n",
       "      <th>mean</th>\n",
       "      <td>0.444913</td>\n",
       "      <td>12.321459</td>\n",
       "      <td>0.169618</td>\n",
       "      <td>0.561130</td>\n",
       "      <td>0.243390</td>\n",
       "    </tr>\n",
       "    <tr>\n",
       "      <th>std</th>\n",
       "      <td>0.236870</td>\n",
       "      <td>6.322432</td>\n",
       "      <td>0.217787</td>\n",
       "      <td>0.234722</td>\n",
       "      <td>0.103583</td>\n",
       "    </tr>\n",
       "    <tr>\n",
       "      <th>min</th>\n",
       "      <td>-1.397990</td>\n",
       "      <td>-25.667481</td>\n",
       "      <td>0.000170</td>\n",
       "      <td>-0.640119</td>\n",
       "      <td>0.072790</td>\n",
       "    </tr>\n",
       "    <tr>\n",
       "      <th>25%</th>\n",
       "      <td>0.320390</td>\n",
       "      <td>9.140647</td>\n",
       "      <td>0.028789</td>\n",
       "      <td>0.456837</td>\n",
       "      <td>0.172952</td>\n",
       "    </tr>\n",
       "    <tr>\n",
       "      <th>50%</th>\n",
       "      <td>0.452588</td>\n",
       "      <td>12.449773</td>\n",
       "      <td>0.077085</td>\n",
       "      <td>0.616012</td>\n",
       "      <td>0.218820</td>\n",
       "    </tr>\n",
       "    <tr>\n",
       "      <th>75%</th>\n",
       "      <td>0.570963</td>\n",
       "      <td>16.274632</td>\n",
       "      <td>0.211782</td>\n",
       "      <td>0.719763</td>\n",
       "      <td>0.289968</td>\n",
       "    </tr>\n",
       "    <tr>\n",
       "      <th>max</th>\n",
       "      <td>1.729776</td>\n",
       "      <td>40.819671</td>\n",
       "      <td>0.979087</td>\n",
       "      <td>0.939415</td>\n",
       "      <td>0.801521</td>\n",
       "    </tr>\n",
       "  </tbody>\n",
       "</table>\n",
       "</div>"
      ],
      "text/plain": [
       "            Slope   intercept     p_value     r_value     std_err\n",
       "count  999.000000  999.000000  999.000000  999.000000  999.000000\n",
       "mean     0.444913   12.321459    0.169618    0.561130    0.243390\n",
       "std      0.236870    6.322432    0.217787    0.234722    0.103583\n",
       "min     -1.397990  -25.667481    0.000170   -0.640119    0.072790\n",
       "25%      0.320390    9.140647    0.028789    0.456837    0.172952\n",
       "50%      0.452588   12.449773    0.077085    0.616012    0.218820\n",
       "75%      0.570963   16.274632    0.211782    0.719763    0.289968\n",
       "max      1.729776   40.819671    0.979087    0.939415    0.801521"
      ]
     },
     "execution_count": 73,
     "metadata": {},
     "output_type": "execute_result"
    }
   ],
   "source": [
    "resultsGridRR.describe()"
   ]
  },
  {
   "cell_type": "code",
   "execution_count": 74,
   "metadata": {},
   "outputs": [
    {
     "data": {
      "text/html": [
       "<div>\n",
       "<style scoped>\n",
       "    .dataframe tbody tr th:only-of-type {\n",
       "        vertical-align: middle;\n",
       "    }\n",
       "\n",
       "    .dataframe tbody tr th {\n",
       "        vertical-align: top;\n",
       "    }\n",
       "\n",
       "    .dataframe thead th {\n",
       "        text-align: right;\n",
       "    }\n",
       "</style>\n",
       "<table border=\"1\" class=\"dataframe\">\n",
       "  <thead>\n",
       "    <tr style=\"text-align: right;\">\n",
       "      <th></th>\n",
       "      <th>Slope</th>\n",
       "      <th>intercept</th>\n",
       "      <th>p_value</th>\n",
       "      <th>r_value</th>\n",
       "      <th>std_err</th>\n",
       "    </tr>\n",
       "  </thead>\n",
       "  <tbody>\n",
       "    <tr>\n",
       "      <th>count</th>\n",
       "      <td>999.000000</td>\n",
       "      <td>999.000000</td>\n",
       "      <td>9.990000e+02</td>\n",
       "      <td>999.000000</td>\n",
       "      <td>999.000000</td>\n",
       "    </tr>\n",
       "    <tr>\n",
       "      <th>mean</th>\n",
       "      <td>0.504676</td>\n",
       "      <td>31.500343</td>\n",
       "      <td>1.970617e-02</td>\n",
       "      <td>0.554751</td>\n",
       "      <td>0.150498</td>\n",
       "    </tr>\n",
       "    <tr>\n",
       "      <th>std</th>\n",
       "      <td>0.144254</td>\n",
       "      <td>11.295933</td>\n",
       "      <td>6.266537e-02</td>\n",
       "      <td>0.124119</td>\n",
       "      <td>0.035719</td>\n",
       "    </tr>\n",
       "    <tr>\n",
       "      <th>min</th>\n",
       "      <td>0.021867</td>\n",
       "      <td>-4.591971</td>\n",
       "      <td>8.771445e-08</td>\n",
       "      <td>0.026812</td>\n",
       "      <td>0.060410</td>\n",
       "    </tr>\n",
       "    <tr>\n",
       "      <th>25%</th>\n",
       "      <td>0.404795</td>\n",
       "      <td>24.566918</td>\n",
       "      <td>3.005415e-04</td>\n",
       "      <td>0.482782</td>\n",
       "      <td>0.123607</td>\n",
       "    </tr>\n",
       "    <tr>\n",
       "      <th>50%</th>\n",
       "      <td>0.491776</td>\n",
       "      <td>31.750458</td>\n",
       "      <td>1.950024e-03</td>\n",
       "      <td>0.569073</td>\n",
       "      <td>0.146852</td>\n",
       "    </tr>\n",
       "    <tr>\n",
       "      <th>75%</th>\n",
       "      <td>0.600717</td>\n",
       "      <td>39.144870</td>\n",
       "      <td>1.075245e-02</td>\n",
       "      <td>0.642663</td>\n",
       "      <td>0.174023</td>\n",
       "    </tr>\n",
       "    <tr>\n",
       "      <th>max</th>\n",
       "      <td>1.017060</td>\n",
       "      <td>64.085756</td>\n",
       "      <td>8.943898e-01</td>\n",
       "      <td>0.829685</td>\n",
       "      <td>0.269784</td>\n",
       "    </tr>\n",
       "  </tbody>\n",
       "</table>\n",
       "</div>"
      ],
      "text/plain": [
       "            Slope   intercept       p_value     r_value     std_err\n",
       "count  999.000000  999.000000  9.990000e+02  999.000000  999.000000\n",
       "mean     0.504676   31.500343  1.970617e-02    0.554751    0.150498\n",
       "std      0.144254   11.295933  6.266537e-02    0.124119    0.035719\n",
       "min      0.021867   -4.591971  8.771445e-08    0.026812    0.060410\n",
       "25%      0.404795   24.566918  3.005415e-04    0.482782    0.123607\n",
       "50%      0.491776   31.750458  1.950024e-03    0.569073    0.146852\n",
       "75%      0.600717   39.144870  1.075245e-02    0.642663    0.174023\n",
       "max      1.017060   64.085756  8.943898e-01    0.829685    0.269784"
      ]
     },
     "execution_count": 74,
     "metadata": {},
     "output_type": "execute_result"
    }
   ],
   "source": [
    "resultsGridGWHB.describe()"
   ]
  },
  {
   "cell_type": "code",
   "execution_count": 75,
   "metadata": {},
   "outputs": [
    {
     "data": {
      "text/html": [
       "<div>\n",
       "<style scoped>\n",
       "    .dataframe tbody tr th:only-of-type {\n",
       "        vertical-align: middle;\n",
       "    }\n",
       "\n",
       "    .dataframe tbody tr th {\n",
       "        vertical-align: top;\n",
       "    }\n",
       "\n",
       "    .dataframe thead th {\n",
       "        text-align: right;\n",
       "    }\n",
       "</style>\n",
       "<table border=\"1\" class=\"dataframe\">\n",
       "  <thead>\n",
       "    <tr style=\"text-align: right;\">\n",
       "      <th></th>\n",
       "      <th>Slope</th>\n",
       "      <th>intercept</th>\n",
       "      <th>p_value</th>\n",
       "      <th>r_value</th>\n",
       "      <th>std_err</th>\n",
       "    </tr>\n",
       "  </thead>\n",
       "  <tbody>\n",
       "    <tr>\n",
       "      <th>count</th>\n",
       "      <td>999.000000</td>\n",
       "      <td>999.000000</td>\n",
       "      <td>999.000000</td>\n",
       "      <td>999.000000</td>\n",
       "      <td>999.000000</td>\n",
       "    </tr>\n",
       "    <tr>\n",
       "      <th>mean</th>\n",
       "      <td>0.172964</td>\n",
       "      <td>10.939517</td>\n",
       "      <td>0.423867</td>\n",
       "      <td>0.235387</td>\n",
       "      <td>0.363425</td>\n",
       "    </tr>\n",
       "    <tr>\n",
       "      <th>std</th>\n",
       "      <td>0.429395</td>\n",
       "      <td>6.680889</td>\n",
       "      <td>0.277325</td>\n",
       "      <td>0.438921</td>\n",
       "      <td>0.236110</td>\n",
       "    </tr>\n",
       "    <tr>\n",
       "      <th>min</th>\n",
       "      <td>-2.341185</td>\n",
       "      <td>-27.753886</td>\n",
       "      <td>0.003652</td>\n",
       "      <td>-0.950240</td>\n",
       "      <td>0.061777</td>\n",
       "    </tr>\n",
       "    <tr>\n",
       "      <th>25%</th>\n",
       "      <td>-0.058342</td>\n",
       "      <td>7.228889</td>\n",
       "      <td>0.184742</td>\n",
       "      <td>-0.103020</td>\n",
       "      <td>0.200695</td>\n",
       "    </tr>\n",
       "    <tr>\n",
       "      <th>50%</th>\n",
       "      <td>0.235765</td>\n",
       "      <td>11.240043</td>\n",
       "      <td>0.385819</td>\n",
       "      <td>0.333003</td>\n",
       "      <td>0.300160</td>\n",
       "    </tr>\n",
       "    <tr>\n",
       "      <th>75%</th>\n",
       "      <td>0.401101</td>\n",
       "      <td>14.763709</td>\n",
       "      <td>0.635735</td>\n",
       "      <td>0.583282</td>\n",
       "      <td>0.462283</td>\n",
       "    </tr>\n",
       "    <tr>\n",
       "      <th>max</th>\n",
       "      <td>1.967514</td>\n",
       "      <td>36.323495</td>\n",
       "      <td>0.999814</td>\n",
       "      <td>0.944718</td>\n",
       "      <td>1.678821</td>\n",
       "    </tr>\n",
       "  </tbody>\n",
       "</table>\n",
       "</div>"
      ],
      "text/plain": [
       "            Slope   intercept     p_value     r_value     std_err\n",
       "count  999.000000  999.000000  999.000000  999.000000  999.000000\n",
       "mean     0.172964   10.939517    0.423867    0.235387    0.363425\n",
       "std      0.429395    6.680889    0.277325    0.438921    0.236110\n",
       "min     -2.341185  -27.753886    0.003652   -0.950240    0.061777\n",
       "25%     -0.058342    7.228889    0.184742   -0.103020    0.200695\n",
       "50%      0.235765   11.240043    0.385819    0.333003    0.300160\n",
       "75%      0.401101   14.763709    0.635735    0.583282    0.462283\n",
       "max      1.967514   36.323495    0.999814    0.944718    1.678821"
      ]
     },
     "execution_count": 75,
     "metadata": {},
     "output_type": "execute_result"
    }
   ],
   "source": [
    "resultsGridDJT.describe()"
   ]
  },
  {
   "cell_type": "markdown",
   "metadata": {},
   "source": [
    "-- GAUSSIAN PROCESSES --"
   ]
  },
  {
   "cell_type": "code",
   "execution_count": 93,
   "metadata": {},
   "outputs": [],
   "source": [
    "path = '/home/CAMPUS/alcantaj/Dropbox/'\n",
    "bush_df = pd.read_csv(path + 'Bush.csv')\n",
    "reagan_df = pd.read_csv(path + 'Reagan.csv')"
   ]
  },
  {
   "cell_type": "code",
   "execution_count": 94,
   "metadata": {},
   "outputs": [],
   "source": [
    "minimum = reagan_df['Julian'].min() # Smallest Julian Date\n",
    "maximum = reagan_df['Julian'].max() # Maximum Julian Date"
   ]
  },
  {
   "cell_type": "code",
   "execution_count": 95,
   "metadata": {},
   "outputs": [],
   "source": [
    "reagan_df['NormalisedDate'] = (reagan_df['Julian'] - minimum) / (maximum - minimum) "
   ]
  },
  {
   "cell_type": "code",
   "execution_count": 96,
   "metadata": {},
   "outputs": [],
   "source": [
    "reagan_df['CountDays'] = reagan_df['Julian'] - minimum"
   ]
  },
  {
   "cell_type": "code",
   "execution_count": 97,
   "metadata": {},
   "outputs": [],
   "source": [
    "reagan_df['CountDaysN'] = reagan_df['CountDays'] / 365"
   ]
  },
  {
   "cell_type": "code",
   "execution_count": 98,
   "metadata": {},
   "outputs": [],
   "source": [
    "# NEED TO DROP DATA COLUMNS HERE BEFORE RUN MODEL\n",
    "reagan_df = reagan_df.drop(['Unnamed: 0', 'Filename', 'index','Date', 'JDate', 'Julian',\n",
    "                           'NormalisedDate', 'CountDays'], axis=1)"
   ]
  },
  {
   "cell_type": "code",
   "execution_count": 99,
   "metadata": {},
   "outputs": [],
   "source": [
    "target = reagan_df['CountDaysN']"
   ]
  },
  {
   "cell_type": "code",
   "execution_count": 100,
   "metadata": {},
   "outputs": [],
   "source": [
    "max_target = target.max()"
   ]
  },
  {
   "cell_type": "code",
   "execution_count": 101,
   "metadata": {},
   "outputs": [],
   "source": [
    "# Instantiate a Gaussian Process model\n",
    "kernel = C(1.0, (1e-3, 1e3)) * RBF(185, (1e-2, 1e4))\n",
    "# kernel = RBF(10, (1e-2, 1e2))\n",
    "gp = GaussianProcessRegressor(kernel = kernel, n_restarts_optimizer=15)"
   ]
  },
  {
   "cell_type": "code",
   "execution_count": 102,
   "metadata": {},
   "outputs": [],
   "source": [
    "# Split Data\n",
    "X_train, X_test, y_train, y_test = train_test_split(reagan_df, target, test_size=0.20)"
   ]
  },
  {
   "cell_type": "code",
   "execution_count": 103,
   "metadata": {},
   "outputs": [],
   "source": [
    "target = np.asarray(y_train)\n",
    "variables = np.asarray(X_train)"
   ]
  },
  {
   "cell_type": "code",
   "execution_count": 104,
   "metadata": {},
   "outputs": [],
   "source": [
    "# Fit to data using Maximum Likelihood Estimation of the parameters\n",
    "model = gp.fit(variables, target) # This looks fine according to documentation"
   ]
  },
  {
   "cell_type": "code",
   "execution_count": 105,
   "metadata": {},
   "outputs": [],
   "source": [
    "y_pred, sigma = gp.predict(np.asarray(X_test), return_std=True)"
   ]
  },
  {
   "cell_type": "code",
   "execution_count": 106,
   "metadata": {},
   "outputs": [
    {
     "data": {
      "text/plain": [
       "<ErrorbarContainer object of 3 artists>"
      ]
     },
     "execution_count": 106,
     "metadata": {},
     "output_type": "execute_result"
    },
    {
     "data": {
      "image/png": "[encoded data removed]",
      "text/plain": [
       "<Figure size 432x288 with 1 Axes>"
      ]
     },
     "metadata": {
      "needs_background": "light"
     },
     "output_type": "display_data"
    }
   ],
   "source": [
    "# The plot\n",
    "plt.figure()\n",
    "xs = [x for x in range(0, 9)]\n",
    "ys = [x for x in range(0, 9)]\n",
    "plt.plot(xs, ys)\n",
    "plt.plot(y_test, y_pred, 'o', linestyle='None')\n",
    "plt.xlabel('True Values')\n",
    "plt.ylabel('Predictions')\n",
    "plt.axis(xscale = 0, yscale = 0)\n",
    "plt.errorbar(y_test, y_pred, yerr=sigma, elinewidth=1, fillstyle='full', linestyle ='None')"
   ]
  },
  {
   "cell_type": "code",
   "execution_count": 107,
   "metadata": {},
   "outputs": [],
   "source": [
    "sqErr = (y_test - y_pred)**2"
   ]
  },
  {
   "cell_type": "code",
   "execution_count": 108,
   "metadata": {},
   "outputs": [],
   "source": [
    "df = pd.DataFrame({'y_test':y_test, 'y_pred':y_pred, 'sigma': sigma, 'Squared Error': sqErr})"
   ]
  },
  {
   "cell_type": "code",
   "execution_count": 109,
   "metadata": {},
   "outputs": [
    {
     "data": {
      "text/html": [
       "<div>\n",
       "<style scoped>\n",
       "    .dataframe tbody tr th:only-of-type {\n",
       "        vertical-align: middle;\n",
       "    }\n",
       "\n",
       "    .dataframe tbody tr th {\n",
       "        vertical-align: top;\n",
       "    }\n",
       "\n",
       "    .dataframe thead th {\n",
       "        text-align: right;\n",
       "    }\n",
       "</style>\n",
       "<table border=\"1\" class=\"dataframe\">\n",
       "  <thead>\n",
       "    <tr style=\"text-align: right;\">\n",
       "      <th></th>\n",
       "      <th>y_test</th>\n",
       "      <th>y_pred</th>\n",
       "      <th>sigma</th>\n",
       "      <th>Squared Error</th>\n",
       "    </tr>\n",
       "  </thead>\n",
       "  <tbody>\n",
       "    <tr>\n",
       "      <th>11</th>\n",
       "      <td>1.493151</td>\n",
       "      <td>3.102115</td>\n",
       "      <td>2.027346</td>\n",
       "      <td>2.588765</td>\n",
       "    </tr>\n",
       "    <tr>\n",
       "      <th>23</th>\n",
       "      <td>3.312329</td>\n",
       "      <td>3.467768</td>\n",
       "      <td>1.132148</td>\n",
       "      <td>0.024161</td>\n",
       "    </tr>\n",
       "    <tr>\n",
       "      <th>27</th>\n",
       "      <td>4.065753</td>\n",
       "      <td>4.147050</td>\n",
       "      <td>2.254239</td>\n",
       "      <td>0.006609</td>\n",
       "    </tr>\n",
       "    <tr>\n",
       "      <th>9</th>\n",
       "      <td>1.284932</td>\n",
       "      <td>2.185391</td>\n",
       "      <td>3.071363</td>\n",
       "      <td>0.810827</td>\n",
       "    </tr>\n",
       "    <tr>\n",
       "      <th>15</th>\n",
       "      <td>2.049315</td>\n",
       "      <td>2.980182</td>\n",
       "      <td>1.155278</td>\n",
       "      <td>0.866514</td>\n",
       "    </tr>\n",
       "    <tr>\n",
       "      <th>30</th>\n",
       "      <td>4.386301</td>\n",
       "      <td>6.659624</td>\n",
       "      <td>2.354701</td>\n",
       "      <td>5.167996</td>\n",
       "    </tr>\n",
       "    <tr>\n",
       "      <th>26</th>\n",
       "      <td>3.947945</td>\n",
       "      <td>5.429175</td>\n",
       "      <td>1.302283</td>\n",
       "      <td>2.194041</td>\n",
       "    </tr>\n",
       "    <tr>\n",
       "      <th>10</th>\n",
       "      <td>1.416438</td>\n",
       "      <td>1.341820</td>\n",
       "      <td>2.284694</td>\n",
       "      <td>0.005568</td>\n",
       "    </tr>\n",
       "    <tr>\n",
       "      <th>2</th>\n",
       "      <td>0.378082</td>\n",
       "      <td>0.621327</td>\n",
       "      <td>1.312905</td>\n",
       "      <td>0.059168</td>\n",
       "    </tr>\n",
       "    <tr>\n",
       "      <th>6</th>\n",
       "      <td>0.972603</td>\n",
       "      <td>3.682230</td>\n",
       "      <td>2.055530</td>\n",
       "      <td>7.342082</td>\n",
       "    </tr>\n",
       "  </tbody>\n",
       "</table>\n",
       "</div>"
      ],
      "text/plain": [
       "      y_test    y_pred     sigma  Squared Error\n",
       "11  1.493151  3.102115  2.027346       2.588765\n",
       "23  3.312329  3.467768  1.132148       0.024161\n",
       "27  4.065753  4.147050  2.254239       0.006609\n",
       "9   1.284932  2.185391  3.071363       0.810827\n",
       "15  2.049315  2.980182  1.155278       0.866514\n",
       "30  4.386301  6.659624  2.354701       5.167996\n",
       "26  3.947945  5.429175  1.302283       2.194041\n",
       "10  1.416438  1.341820  2.284694       0.005568\n",
       "2   0.378082  0.621327  1.312905       0.059168\n",
       "6   0.972603  3.682230  2.055530       7.342082"
      ]
     },
     "execution_count": 109,
     "metadata": {},
     "output_type": "execute_result"
    }
   ],
   "source": [
    "df"
   ]
  },
  {
   "cell_type": "code",
   "execution_count": 110,
   "metadata": {},
   "outputs": [],
   "source": [
    "MSE = sum(sqErr) / len(sqErr)"
   ]
  },
  {
   "cell_type": "code",
   "execution_count": 111,
   "metadata": {},
   "outputs": [
    {
     "data": {
      "text/plain": [
       "1.9065731095694178"
      ]
     },
     "execution_count": 111,
     "metadata": {},
     "output_type": "execute_result"
    }
   ],
   "source": [
    "MSE"
   ]
  },
  {
   "cell_type": "code",
   "execution_count": 112,
   "metadata": {},
   "outputs": [],
   "source": [
    "bush_df = pd.read_csv(path + 'Bush.csv')\n",
    "reagan_df = pd.read_csv(path + 'Reagan.csv')"
   ]
  },
  {
   "cell_type": "code",
   "execution_count": 113,
   "metadata": {},
   "outputs": [],
   "source": [
    "minimum = reagan_df['Julian'].min() # Smallest Julian Date\n",
    "maximum = reagan_df['Julian'].max() # Maximum Julian Date"
   ]
  },
  {
   "cell_type": "code",
   "execution_count": 114,
   "metadata": {},
   "outputs": [],
   "source": [
    "reagan_df['NormalisedDate'] = (reagan_df['Julian'] - minimum) / (maximum - minimum) "
   ]
  },
  {
   "cell_type": "code",
   "execution_count": 115,
   "metadata": {},
   "outputs": [],
   "source": [
    "reagan_df['CountDays'] = reagan_df['Julian'] - minimum"
   ]
  },
  {
   "cell_type": "code",
   "execution_count": 116,
   "metadata": {},
   "outputs": [],
   "source": [
    "reagan_df['CountDaysN'] = reagan_df['CountDays'] / 365"
   ]
  },
  {
   "cell_type": "code",
   "execution_count": 117,
   "metadata": {},
   "outputs": [],
   "source": [
    "# NEED TO DROP DATA COLUMNS HERE BEFORE RUN MODEL\n",
    "reagan_df = reagan_df.drop(['Unnamed: 0', 'Filename', 'index','Date', 'JDate', 'Julian',\n",
    "                           'NormalisedDate', 'CountDays'], axis=1)"
   ]
  },
  {
   "cell_type": "code",
   "execution_count": 118,
   "metadata": {},
   "outputs": [],
   "source": [
    "target = reagan_df['CountDaysN']"
   ]
  },
  {
   "cell_type": "code",
   "execution_count": 119,
   "metadata": {},
   "outputs": [],
   "source": [
    "max_target = target.max()"
   ]
  },
  {
   "cell_type": "code",
   "execution_count": 120,
   "metadata": {},
   "outputs": [],
   "source": [
    "# Instantiate a Gaussian Process model\n",
    "kernel = C(1.0, (1e-3, 1e3)) * RBF(191, (1e-2, 1e4))\n",
    "# kernel = RBF(10, (1e-2, 1e2))\n",
    "gp = GaussianProcessRegressor(kernel = kernel, n_restarts_optimizer=15)"
   ]
  },
  {
   "cell_type": "code",
   "execution_count": 121,
   "metadata": {},
   "outputs": [],
   "source": [
    "X_train, X_test, y_train, y_test = train_test_split(reagan_df, target, test_size=0.20)"
   ]
  },
  {
   "cell_type": "code",
   "execution_count": 122,
   "metadata": {},
   "outputs": [],
   "source": [
    "Results = pd.DataFrame()\n",
    "for i in range(0, 999):\n",
    "    X_train, X_test, y_train, y_test = train_test_split(reagan_df, target, test_size=0.20)\n",
    "    targetVar = np.asarray(y_train)\n",
    "    variables = np.asarray(X_train)\n",
    "    model = gp.fit(variables, targetVar)\n",
    "    y_pred, sigma = gp.predict(np.asarray(X_test), return_std=True)\n",
    "    sqErr = (y_test - y_pred)**2\n",
    "    MSE = sum(sqErr)/len(sqErr)\n",
    "    tuple = {'MSE': MSE, 'gp.kernel':gp.kernel, 'gp.kernel_':gp.kernel_}\n",
    "    Results = Results.append(tuple, ignore_index = True)"
   ]
  },
  {
   "cell_type": "code",
   "execution_count": 123,
   "metadata": {},
   "outputs": [],
   "source": [
    "Mean = Results['MSE'].mean()\n",
    "SD = Results['MSE'].std()"
   ]
  },
  {
   "cell_type": "code",
   "execution_count": 124,
   "metadata": {},
   "outputs": [
    {
     "name": "stdout",
     "output_type": "stream",
     "text": [
      "The Mean is 5.1395666750183455\n",
      "The SD is 3.9062742053964143\n"
     ]
    }
   ],
   "source": [
    "print('The Mean is', Mean)\n",
    "print('The SD is', SD)"
   ]
  },
  {
   "cell_type": "code",
   "execution_count": 125,
   "metadata": {},
   "outputs": [
    {
     "data": {
      "text/html": [
       "<div>\n",
       "<style scoped>\n",
       "    .dataframe tbody tr th:only-of-type {\n",
       "        vertical-align: middle;\n",
       "    }\n",
       "\n",
       "    .dataframe tbody tr th {\n",
       "        vertical-align: top;\n",
       "    }\n",
       "\n",
       "    .dataframe thead th {\n",
       "        text-align: right;\n",
       "    }\n",
       "</style>\n",
       "<table border=\"1\" class=\"dataframe\">\n",
       "  <thead>\n",
       "    <tr style=\"text-align: right;\">\n",
       "      <th></th>\n",
       "      <th>MSE</th>\n",
       "      <th>gp.kernel</th>\n",
       "      <th>gp.kernel_</th>\n",
       "    </tr>\n",
       "  </thead>\n",
       "  <tbody>\n",
       "    <tr>\n",
       "      <th>0</th>\n",
       "      <td>2.348757</td>\n",
       "      <td>1**2 * RBF(length_scale=191)</td>\n",
       "      <td>4.2**2 * RBF(length_scale=195)</td>\n",
       "    </tr>\n",
       "    <tr>\n",
       "      <th>1</th>\n",
       "      <td>4.807252</td>\n",
       "      <td>1**2 * RBF(length_scale=191)</td>\n",
       "      <td>4.37**2 * RBF(length_scale=188)</td>\n",
       "    </tr>\n",
       "    <tr>\n",
       "      <th>2</th>\n",
       "      <td>8.883994</td>\n",
       "      <td>1**2 * RBF(length_scale=191)</td>\n",
       "      <td>3.86**2 * RBF(length_scale=192)</td>\n",
       "    </tr>\n",
       "    <tr>\n",
       "      <th>3</th>\n",
       "      <td>1.943527</td>\n",
       "      <td>1**2 * RBF(length_scale=191)</td>\n",
       "      <td>4.77**2 * RBF(length_scale=203)</td>\n",
       "    </tr>\n",
       "    <tr>\n",
       "      <th>4</th>\n",
       "      <td>1.824610</td>\n",
       "      <td>1**2 * RBF(length_scale=191)</td>\n",
       "      <td>4.08**2 * RBF(length_scale=174)</td>\n",
       "    </tr>\n",
       "    <tr>\n",
       "      <th>5</th>\n",
       "      <td>3.842889</td>\n",
       "      <td>1**2 * RBF(length_scale=191)</td>\n",
       "      <td>4.04**2 * RBF(length_scale=185)</td>\n",
       "    </tr>\n",
       "    <tr>\n",
       "      <th>6</th>\n",
       "      <td>4.299470</td>\n",
       "      <td>1**2 * RBF(length_scale=191)</td>\n",
       "      <td>4.25**2 * RBF(length_scale=200)</td>\n",
       "    </tr>\n",
       "    <tr>\n",
       "      <th>7</th>\n",
       "      <td>4.042687</td>\n",
       "      <td>1**2 * RBF(length_scale=191)</td>\n",
       "      <td>31.6**2 * RBF(length_scale=1.3e+03)</td>\n",
       "    </tr>\n",
       "    <tr>\n",
       "      <th>8</th>\n",
       "      <td>2.689878</td>\n",
       "      <td>1**2 * RBF(length_scale=191)</td>\n",
       "      <td>4.3**2 * RBF(length_scale=194)</td>\n",
       "    </tr>\n",
       "    <tr>\n",
       "      <th>9</th>\n",
       "      <td>4.031544</td>\n",
       "      <td>1**2 * RBF(length_scale=191)</td>\n",
       "      <td>4.8**2 * RBF(length_scale=228)</td>\n",
       "    </tr>\n",
       "    <tr>\n",
       "      <th>10</th>\n",
       "      <td>1.713609</td>\n",
       "      <td>1**2 * RBF(length_scale=191)</td>\n",
       "      <td>4.84**2 * RBF(length_scale=230)</td>\n",
       "    </tr>\n",
       "    <tr>\n",
       "      <th>11</th>\n",
       "      <td>6.131526</td>\n",
       "      <td>1**2 * RBF(length_scale=191)</td>\n",
       "      <td>4.03**2 * RBF(length_scale=187)</td>\n",
       "    </tr>\n",
       "    <tr>\n",
       "      <th>12</th>\n",
       "      <td>8.652363</td>\n",
       "      <td>1**2 * RBF(length_scale=191)</td>\n",
       "      <td>4.18**2 * RBF(length_scale=230)</td>\n",
       "    </tr>\n",
       "    <tr>\n",
       "      <th>13</th>\n",
       "      <td>2.245243</td>\n",
       "      <td>1**2 * RBF(length_scale=191)</td>\n",
       "      <td>7.84**2 * RBF(length_scale=333)</td>\n",
       "    </tr>\n",
       "    <tr>\n",
       "      <th>14</th>\n",
       "      <td>3.165708</td>\n",
       "      <td>1**2 * RBF(length_scale=191)</td>\n",
       "      <td>5.76**2 * RBF(length_scale=296)</td>\n",
       "    </tr>\n",
       "    <tr>\n",
       "      <th>15</th>\n",
       "      <td>3.175936</td>\n",
       "      <td>1**2 * RBF(length_scale=191)</td>\n",
       "      <td>4.65**2 * RBF(length_scale=232)</td>\n",
       "    </tr>\n",
       "    <tr>\n",
       "      <th>16</th>\n",
       "      <td>3.320716</td>\n",
       "      <td>1**2 * RBF(length_scale=191)</td>\n",
       "      <td>4.22**2 * RBF(length_scale=218)</td>\n",
       "    </tr>\n",
       "    <tr>\n",
       "      <th>17</th>\n",
       "      <td>1.450045</td>\n",
       "      <td>1**2 * RBF(length_scale=191)</td>\n",
       "      <td>4.16**2 * RBF(length_scale=179)</td>\n",
       "    </tr>\n",
       "    <tr>\n",
       "      <th>18</th>\n",
       "      <td>3.669855</td>\n",
       "      <td>1**2 * RBF(length_scale=191)</td>\n",
       "      <td>4.08**2 * RBF(length_scale=191)</td>\n",
       "    </tr>\n",
       "    <tr>\n",
       "      <th>19</th>\n",
       "      <td>5.718583</td>\n",
       "      <td>1**2 * RBF(length_scale=191)</td>\n",
       "      <td>4.18**2 * RBF(length_scale=241)</td>\n",
       "    </tr>\n",
       "    <tr>\n",
       "      <th>20</th>\n",
       "      <td>7.217105</td>\n",
       "      <td>1**2 * RBF(length_scale=191)</td>\n",
       "      <td>3.71**2 * RBF(length_scale=176)</td>\n",
       "    </tr>\n",
       "    <tr>\n",
       "      <th>21</th>\n",
       "      <td>1.079693</td>\n",
       "      <td>1**2 * RBF(length_scale=191)</td>\n",
       "      <td>4.42**2 * RBF(length_scale=184)</td>\n",
       "    </tr>\n",
       "    <tr>\n",
       "      <th>22</th>\n",
       "      <td>3.381676</td>\n",
       "      <td>1**2 * RBF(length_scale=191)</td>\n",
       "      <td>18.4**2 * RBF(length_scale=714)</td>\n",
       "    </tr>\n",
       "    <tr>\n",
       "      <th>23</th>\n",
       "      <td>15.787025</td>\n",
       "      <td>1**2 * RBF(length_scale=191)</td>\n",
       "      <td>4.1**2 * RBF(length_scale=15.2)</td>\n",
       "    </tr>\n",
       "    <tr>\n",
       "      <th>24</th>\n",
       "      <td>8.863139</td>\n",
       "      <td>1**2 * RBF(length_scale=191)</td>\n",
       "      <td>4.43**2 * RBF(length_scale=220)</td>\n",
       "    </tr>\n",
       "    <tr>\n",
       "      <th>25</th>\n",
       "      <td>14.946705</td>\n",
       "      <td>1**2 * RBF(length_scale=191)</td>\n",
       "      <td>4.13**2 * RBF(length_scale=6.45)</td>\n",
       "    </tr>\n",
       "    <tr>\n",
       "      <th>26</th>\n",
       "      <td>6.096318</td>\n",
       "      <td>1**2 * RBF(length_scale=191)</td>\n",
       "      <td>3.76**2 * RBF(length_scale=181)</td>\n",
       "    </tr>\n",
       "    <tr>\n",
       "      <th>27</th>\n",
       "      <td>1.811178</td>\n",
       "      <td>1**2 * RBF(length_scale=191)</td>\n",
       "      <td>5.14**2 * RBF(length_scale=248)</td>\n",
       "    </tr>\n",
       "    <tr>\n",
       "      <th>28</th>\n",
       "      <td>5.871933</td>\n",
       "      <td>1**2 * RBF(length_scale=191)</td>\n",
       "      <td>4.29**2 * RBF(length_scale=212)</td>\n",
       "    </tr>\n",
       "    <tr>\n",
       "      <th>29</th>\n",
       "      <td>3.157108</td>\n",
       "      <td>1**2 * RBF(length_scale=191)</td>\n",
       "      <td>4.8**2 * RBF(length_scale=222)</td>\n",
       "    </tr>\n",
       "    <tr>\n",
       "      <th>...</th>\n",
       "      <td>...</td>\n",
       "      <td>...</td>\n",
       "      <td>...</td>\n",
       "    </tr>\n",
       "    <tr>\n",
       "      <th>969</th>\n",
       "      <td>2.686213</td>\n",
       "      <td>1**2 * RBF(length_scale=191)</td>\n",
       "      <td>4**2 * RBF(length_scale=170)</td>\n",
       "    </tr>\n",
       "    <tr>\n",
       "      <th>970</th>\n",
       "      <td>2.249793</td>\n",
       "      <td>1**2 * RBF(length_scale=191)</td>\n",
       "      <td>4.59**2 * RBF(length_scale=204)</td>\n",
       "    </tr>\n",
       "    <tr>\n",
       "      <th>971</th>\n",
       "      <td>1.942689</td>\n",
       "      <td>1**2 * RBF(length_scale=191)</td>\n",
       "      <td>4.15**2 * RBF(length_scale=177)</td>\n",
       "    </tr>\n",
       "    <tr>\n",
       "      <th>972</th>\n",
       "      <td>7.261880</td>\n",
       "      <td>1**2 * RBF(length_scale=191)</td>\n",
       "      <td>4.02**2 * RBF(length_scale=199)</td>\n",
       "    </tr>\n",
       "    <tr>\n",
       "      <th>973</th>\n",
       "      <td>5.057052</td>\n",
       "      <td>1**2 * RBF(length_scale=191)</td>\n",
       "      <td>3.98**2 * RBF(length_scale=185)</td>\n",
       "    </tr>\n",
       "    <tr>\n",
       "      <th>974</th>\n",
       "      <td>4.320840</td>\n",
       "      <td>1**2 * RBF(length_scale=191)</td>\n",
       "      <td>5.73**2 * RBF(length_scale=274)</td>\n",
       "    </tr>\n",
       "    <tr>\n",
       "      <th>975</th>\n",
       "      <td>5.170188</td>\n",
       "      <td>1**2 * RBF(length_scale=191)</td>\n",
       "      <td>3.93**2 * RBF(length_scale=171)</td>\n",
       "    </tr>\n",
       "    <tr>\n",
       "      <th>976</th>\n",
       "      <td>2.178684</td>\n",
       "      <td>1**2 * RBF(length_scale=191)</td>\n",
       "      <td>3.97**2 * RBF(length_scale=178)</td>\n",
       "    </tr>\n",
       "    <tr>\n",
       "      <th>977</th>\n",
       "      <td>3.162550</td>\n",
       "      <td>1**2 * RBF(length_scale=191)</td>\n",
       "      <td>6.7**2 * RBF(length_scale=374)</td>\n",
       "    </tr>\n",
       "    <tr>\n",
       "      <th>978</th>\n",
       "      <td>1.910063</td>\n",
       "      <td>1**2 * RBF(length_scale=191)</td>\n",
       "      <td>4.42**2 * RBF(length_scale=190)</td>\n",
       "    </tr>\n",
       "    <tr>\n",
       "      <th>979</th>\n",
       "      <td>8.572419</td>\n",
       "      <td>1**2 * RBF(length_scale=191)</td>\n",
       "      <td>4.53**2 * RBF(length_scale=245)</td>\n",
       "    </tr>\n",
       "    <tr>\n",
       "      <th>980</th>\n",
       "      <td>4.552823</td>\n",
       "      <td>1**2 * RBF(length_scale=191)</td>\n",
       "      <td>4.6**2 * RBF(length_scale=233)</td>\n",
       "    </tr>\n",
       "    <tr>\n",
       "      <th>981</th>\n",
       "      <td>2.118651</td>\n",
       "      <td>1**2 * RBF(length_scale=191)</td>\n",
       "      <td>5.46**2 * RBF(length_scale=280)</td>\n",
       "    </tr>\n",
       "    <tr>\n",
       "      <th>982</th>\n",
       "      <td>7.883892</td>\n",
       "      <td>1**2 * RBF(length_scale=191)</td>\n",
       "      <td>4.21**2 * RBF(length_scale=202)</td>\n",
       "    </tr>\n",
       "    <tr>\n",
       "      <th>983</th>\n",
       "      <td>11.598032</td>\n",
       "      <td>1**2 * RBF(length_scale=191)</td>\n",
       "      <td>3.74**2 * RBF(length_scale=170)</td>\n",
       "    </tr>\n",
       "    <tr>\n",
       "      <th>984</th>\n",
       "      <td>3.242539</td>\n",
       "      <td>1**2 * RBF(length_scale=191)</td>\n",
       "      <td>4.3**2 * RBF(length_scale=191)</td>\n",
       "    </tr>\n",
       "    <tr>\n",
       "      <th>985</th>\n",
       "      <td>6.922763</td>\n",
       "      <td>1**2 * RBF(length_scale=191)</td>\n",
       "      <td>4.06**2 * RBF(length_scale=245)</td>\n",
       "    </tr>\n",
       "    <tr>\n",
       "      <th>986</th>\n",
       "      <td>8.081935</td>\n",
       "      <td>1**2 * RBF(length_scale=191)</td>\n",
       "      <td>4.75**2 * RBF(length_scale=242)</td>\n",
       "    </tr>\n",
       "    <tr>\n",
       "      <th>987</th>\n",
       "      <td>6.716542</td>\n",
       "      <td>1**2 * RBF(length_scale=191)</td>\n",
       "      <td>3.82**2 * RBF(length_scale=193)</td>\n",
       "    </tr>\n",
       "    <tr>\n",
       "      <th>988</th>\n",
       "      <td>5.591125</td>\n",
       "      <td>1**2 * RBF(length_scale=191)</td>\n",
       "      <td>31.6**2 * RBF(length_scale=1.05e+03)</td>\n",
       "    </tr>\n",
       "    <tr>\n",
       "      <th>989</th>\n",
       "      <td>2.740515</td>\n",
       "      <td>1**2 * RBF(length_scale=191)</td>\n",
       "      <td>30**2 * RBF(length_scale=989)</td>\n",
       "    </tr>\n",
       "    <tr>\n",
       "      <th>990</th>\n",
       "      <td>2.129396</td>\n",
       "      <td>1**2 * RBF(length_scale=191)</td>\n",
       "      <td>4.77**2 * RBF(length_scale=234)</td>\n",
       "    </tr>\n",
       "    <tr>\n",
       "      <th>991</th>\n",
       "      <td>11.042825</td>\n",
       "      <td>1**2 * RBF(length_scale=191)</td>\n",
       "      <td>4.26**2 * RBF(length_scale=0.01)</td>\n",
       "    </tr>\n",
       "    <tr>\n",
       "      <th>992</th>\n",
       "      <td>6.573705</td>\n",
       "      <td>1**2 * RBF(length_scale=191)</td>\n",
       "      <td>3.86**2 * RBF(length_scale=170)</td>\n",
       "    </tr>\n",
       "    <tr>\n",
       "      <th>993</th>\n",
       "      <td>2.725095</td>\n",
       "      <td>1**2 * RBF(length_scale=191)</td>\n",
       "      <td>4.17**2 * RBF(length_scale=192)</td>\n",
       "    </tr>\n",
       "    <tr>\n",
       "      <th>994</th>\n",
       "      <td>6.641489</td>\n",
       "      <td>1**2 * RBF(length_scale=191)</td>\n",
       "      <td>3.72**2 * RBF(length_scale=167)</td>\n",
       "    </tr>\n",
       "    <tr>\n",
       "      <th>995</th>\n",
       "      <td>1.862858</td>\n",
       "      <td>1**2 * RBF(length_scale=191)</td>\n",
       "      <td>3.97**2 * RBF(length_scale=170)</td>\n",
       "    </tr>\n",
       "    <tr>\n",
       "      <th>996</th>\n",
       "      <td>3.975464</td>\n",
       "      <td>1**2 * RBF(length_scale=191)</td>\n",
       "      <td>12.4**2 * RBF(length_scale=488)</td>\n",
       "    </tr>\n",
       "    <tr>\n",
       "      <th>997</th>\n",
       "      <td>7.484270</td>\n",
       "      <td>1**2 * RBF(length_scale=191)</td>\n",
       "      <td>3.89**2 * RBF(length_scale=191)</td>\n",
       "    </tr>\n",
       "    <tr>\n",
       "      <th>998</th>\n",
       "      <td>17.737386</td>\n",
       "      <td>1**2 * RBF(length_scale=191)</td>\n",
       "      <td>4.03**2 * RBF(length_scale=16.2)</td>\n",
       "    </tr>\n",
       "  </tbody>\n",
       "</table>\n",
       "<p>999 rows × 3 columns</p>\n",
       "</div>"
      ],
      "text/plain": [
       "           MSE                     gp.kernel  \\\n",
       "0     2.348757  1**2 * RBF(length_scale=191)   \n",
       "1     4.807252  1**2 * RBF(length_scale=191)   \n",
       "2     8.883994  1**2 * RBF(length_scale=191)   \n",
       "3     1.943527  1**2 * RBF(length_scale=191)   \n",
       "4     1.824610  1**2 * RBF(length_scale=191)   \n",
       "5     3.842889  1**2 * RBF(length_scale=191)   \n",
       "6     4.299470  1**2 * RBF(length_scale=191)   \n",
       "7     4.042687  1**2 * RBF(length_scale=191)   \n",
       "8     2.689878  1**2 * RBF(length_scale=191)   \n",
       "9     4.031544  1**2 * RBF(length_scale=191)   \n",
       "10    1.713609  1**2 * RBF(length_scale=191)   \n",
       "11    6.131526  1**2 * RBF(length_scale=191)   \n",
       "12    8.652363  1**2 * RBF(length_scale=191)   \n",
       "13    2.245243  1**2 * RBF(length_scale=191)   \n",
       "14    3.165708  1**2 * RBF(length_scale=191)   \n",
       "15    3.175936  1**2 * RBF(length_scale=191)   \n",
       "16    3.320716  1**2 * RBF(length_scale=191)   \n",
       "17    1.450045  1**2 * RBF(length_scale=191)   \n",
       "18    3.669855  1**2 * RBF(length_scale=191)   \n",
       "19    5.718583  1**2 * RBF(length_scale=191)   \n",
       "20    7.217105  1**2 * RBF(length_scale=191)   \n",
       "21    1.079693  1**2 * RBF(length_scale=191)   \n",
       "22    3.381676  1**2 * RBF(length_scale=191)   \n",
       "23   15.787025  1**2 * RBF(length_scale=191)   \n",
       "24    8.863139  1**2 * RBF(length_scale=191)   \n",
       "25   14.946705  1**2 * RBF(length_scale=191)   \n",
       "26    6.096318  1**2 * RBF(length_scale=191)   \n",
       "27    1.811178  1**2 * RBF(length_scale=191)   \n",
       "28    5.871933  1**2 * RBF(length_scale=191)   \n",
       "29    3.157108  1**2 * RBF(length_scale=191)   \n",
       "..         ...                           ...   \n",
       "969   2.686213  1**2 * RBF(length_scale=191)   \n",
       "970   2.249793  1**2 * RBF(length_scale=191)   \n",
       "971   1.942689  1**2 * RBF(length_scale=191)   \n",
       "972   7.261880  1**2 * RBF(length_scale=191)   \n",
       "973   5.057052  1**2 * RBF(length_scale=191)   \n",
       "974   4.320840  1**2 * RBF(length_scale=191)   \n",
       "975   5.170188  1**2 * RBF(length_scale=191)   \n",
       "976   2.178684  1**2 * RBF(length_scale=191)   \n",
       "977   3.162550  1**2 * RBF(length_scale=191)   \n",
       "978   1.910063  1**2 * RBF(length_scale=191)   \n",
       "979   8.572419  1**2 * RBF(length_scale=191)   \n",
       "980   4.552823  1**2 * RBF(length_scale=191)   \n",
       "981   2.118651  1**2 * RBF(length_scale=191)   \n",
       "982   7.883892  1**2 * RBF(length_scale=191)   \n",
       "983  11.598032  1**2 * RBF(length_scale=191)   \n",
       "984   3.242539  1**2 * RBF(length_scale=191)   \n",
       "985   6.922763  1**2 * RBF(length_scale=191)   \n",
       "986   8.081935  1**2 * RBF(length_scale=191)   \n",
       "987   6.716542  1**2 * RBF(length_scale=191)   \n",
       "988   5.591125  1**2 * RBF(length_scale=191)   \n",
       "989   2.740515  1**2 * RBF(length_scale=191)   \n",
       "990   2.129396  1**2 * RBF(length_scale=191)   \n",
       "991  11.042825  1**2 * RBF(length_scale=191)   \n",
       "992   6.573705  1**2 * RBF(length_scale=191)   \n",
       "993   2.725095  1**2 * RBF(length_scale=191)   \n",
       "994   6.641489  1**2 * RBF(length_scale=191)   \n",
       "995   1.862858  1**2 * RBF(length_scale=191)   \n",
       "996   3.975464  1**2 * RBF(length_scale=191)   \n",
       "997   7.484270  1**2 * RBF(length_scale=191)   \n",
       "998  17.737386  1**2 * RBF(length_scale=191)   \n",
       "\n",
       "                               gp.kernel_  \n",
       "0          4.2**2 * RBF(length_scale=195)  \n",
       "1         4.37**2 * RBF(length_scale=188)  \n",
       "2         3.86**2 * RBF(length_scale=192)  \n",
       "3         4.77**2 * RBF(length_scale=203)  \n",
       "4         4.08**2 * RBF(length_scale=174)  \n",
       "5         4.04**2 * RBF(length_scale=185)  \n",
       "6         4.25**2 * RBF(length_scale=200)  \n",
       "7     31.6**2 * RBF(length_scale=1.3e+03)  \n",
       "8          4.3**2 * RBF(length_scale=194)  \n",
       "9          4.8**2 * RBF(length_scale=228)  \n",
       "10        4.84**2 * RBF(length_scale=230)  \n",
       "11        4.03**2 * RBF(length_scale=187)  \n",
       "12        4.18**2 * RBF(length_scale=230)  \n",
       "13        7.84**2 * RBF(length_scale=333)  \n",
       "14        5.76**2 * RBF(length_scale=296)  \n",
       "15        4.65**2 * RBF(length_scale=232)  \n",
       "16        4.22**2 * RBF(length_scale=218)  \n",
       "17        4.16**2 * RBF(length_scale=179)  \n",
       "18        4.08**2 * RBF(length_scale=191)  \n",
       "19        4.18**2 * RBF(length_scale=241)  \n",
       "20        3.71**2 * RBF(length_scale=176)  \n",
       "21        4.42**2 * RBF(length_scale=184)  \n",
       "22        18.4**2 * RBF(length_scale=714)  \n",
       "23        4.1**2 * RBF(length_scale=15.2)  \n",
       "24        4.43**2 * RBF(length_scale=220)  \n",
       "25       4.13**2 * RBF(length_scale=6.45)  \n",
       "26        3.76**2 * RBF(length_scale=181)  \n",
       "27        5.14**2 * RBF(length_scale=248)  \n",
       "28        4.29**2 * RBF(length_scale=212)  \n",
       "29         4.8**2 * RBF(length_scale=222)  \n",
       "..                                    ...  \n",
       "969          4**2 * RBF(length_scale=170)  \n",
       "970       4.59**2 * RBF(length_scale=204)  \n",
       "971       4.15**2 * RBF(length_scale=177)  \n",
       "972       4.02**2 * RBF(length_scale=199)  \n",
       "973       3.98**2 * RBF(length_scale=185)  \n",
       "974       5.73**2 * RBF(length_scale=274)  \n",
       "975       3.93**2 * RBF(length_scale=171)  \n",
       "976       3.97**2 * RBF(length_scale=178)  \n",
       "977        6.7**2 * RBF(length_scale=374)  \n",
       "978       4.42**2 * RBF(length_scale=190)  \n",
       "979       4.53**2 * RBF(length_scale=245)  \n",
       "980        4.6**2 * RBF(length_scale=233)  \n",
       "981       5.46**2 * RBF(length_scale=280)  \n",
       "982       4.21**2 * RBF(length_scale=202)  \n",
       "983       3.74**2 * RBF(length_scale=170)  \n",
       "984        4.3**2 * RBF(length_scale=191)  \n",
       "985       4.06**2 * RBF(length_scale=245)  \n",
       "986       4.75**2 * RBF(length_scale=242)  \n",
       "987       3.82**2 * RBF(length_scale=193)  \n",
       "988  31.6**2 * RBF(length_scale=1.05e+03)  \n",
       "989         30**2 * RBF(length_scale=989)  \n",
       "990       4.77**2 * RBF(length_scale=234)  \n",
       "991      4.26**2 * RBF(length_scale=0.01)  \n",
       "992       3.86**2 * RBF(length_scale=170)  \n",
       "993       4.17**2 * RBF(length_scale=192)  \n",
       "994       3.72**2 * RBF(length_scale=167)  \n",
       "995       3.97**2 * RBF(length_scale=170)  \n",
       "996       12.4**2 * RBF(length_scale=488)  \n",
       "997       3.89**2 * RBF(length_scale=191)  \n",
       "998      4.03**2 * RBF(length_scale=16.2)  \n",
       "\n",
       "[999 rows x 3 columns]"
      ]
     },
     "execution_count": 125,
     "metadata": {},
     "output_type": "execute_result"
    }
   ],
   "source": [
    "Results"
   ]
  },
  {
   "cell_type": "code",
   "execution_count": null,
   "metadata": {},
   "outputs": [],
   "source": []
  }
 ],
 "metadata": {
  "kernelspec": {
   "display_name": "Python 3",
   "language": "python",
   "name": "python3"
  },
  "language_info": {
   "codemirror_mode": {
    "name": "ipython",
    "version": 3
   },
   "file_extension": ".py",
   "mimetype": "text/x-python",
   "name": "python",
   "nbconvert_exporter": "python",
   "pygments_lexer": "ipython3",
   "version": "3.7.1"
  }
 },
 "nbformat": 4,
 "nbformat_minor": 2
}
